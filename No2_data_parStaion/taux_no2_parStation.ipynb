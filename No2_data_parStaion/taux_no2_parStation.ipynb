{
 "cells": [
  {
   "cell_type": "markdown",
   "metadata": {},
   "source": [
    "# ** Fusion du fichier NO2 avec adresses des stations et CP"
   ]
  },
  {
   "cell_type": "markdown",
   "metadata": {},
   "source": [
    "\n",
    "##     - Charger le fichier No2 \n",
    "##     - Charger le ficher qui contient les code des stations et les adresses\n",
    "##     - Fusionner les deux fichiers \n",
    "\n",
    "##     *** Résultat : dataframe ayant la structure ci-dessous:\n",
    "          [date, heure, station, taux_no2, station_name, station_adress, zip_code]"
   ]
  },
  {
   "cell_type": "code",
   "execution_count": 1,
   "metadata": {},
   "outputs": [],
   "source": [
    "import pandas as pd"
   ]
  },
  {
   "cell_type": "markdown",
   "metadata": {},
   "source": [
    "# Charger le fichier NO2"
   ]
  },
  {
   "cell_type": "code",
   "execution_count": 2,
   "metadata": {},
   "outputs": [],
   "source": [
    "data_no2 = pd.read_csv(\"20180101_20201212-NO2_auto.csv\", sep=\";\")"
   ]
  },
  {
   "cell_type": "code",
   "execution_count": 3,
   "metadata": {},
   "outputs": [
    {
     "data": {
      "text/html": [
       "<div>\n",
       "<style scoped>\n",
       "    .dataframe tbody tr th:only-of-type {\n",
       "        vertical-align: middle;\n",
       "    }\n",
       "\n",
       "    .dataframe tbody tr th {\n",
       "        vertical-align: top;\n",
       "    }\n",
       "\n",
       "    .dataframe thead th {\n",
       "        text-align: right;\n",
       "    }\n",
       "</style>\n",
       "<table border=\"1\" class=\"dataframe\">\n",
       "  <thead>\n",
       "    <tr style=\"text-align: right;\">\n",
       "      <th></th>\n",
       "      <th>date</th>\n",
       "      <th>heure</th>\n",
       "      <th>EVRY</th>\n",
       "      <th>PA01H</th>\n",
       "      <th>LOGNES</th>\n",
       "      <th>VILLEM</th>\n",
       "      <th>GEN</th>\n",
       "      <th>MELUN</th>\n",
       "      <th>ARG</th>\n",
       "      <th>GON</th>\n",
       "      <th>...</th>\n",
       "      <th>MONTG</th>\n",
       "      <th>SOULT</th>\n",
       "      <th>CELES</th>\n",
       "      <th>ELYS</th>\n",
       "      <th>EIFF3</th>\n",
       "      <th>TREMB</th>\n",
       "      <th>AUB</th>\n",
       "      <th>IVRY</th>\n",
       "      <th>BP_EST</th>\n",
       "      <th>PA07</th>\n",
       "    </tr>\n",
       "  </thead>\n",
       "  <tbody>\n",
       "    <tr>\n",
       "      <th>0</th>\n",
       "      <td>NaN</td>\n",
       "      <td>NaN</td>\n",
       "      <td>microg/m3</td>\n",
       "      <td>microg/m3</td>\n",
       "      <td>microg/m3</td>\n",
       "      <td>microg/m3</td>\n",
       "      <td>microg/m3</td>\n",
       "      <td>microg/m3</td>\n",
       "      <td>microg/m3</td>\n",
       "      <td>microg/m3</td>\n",
       "      <td>...</td>\n",
       "      <td>microg/m3</td>\n",
       "      <td>microg/m3</td>\n",
       "      <td>microg/m3</td>\n",
       "      <td>microg/m3</td>\n",
       "      <td>microg/m3</td>\n",
       "      <td>microg/m3</td>\n",
       "      <td>microg/m3</td>\n",
       "      <td>microg/m3</td>\n",
       "      <td>microg/m3</td>\n",
       "      <td>microg/m3</td>\n",
       "    </tr>\n",
       "    <tr>\n",
       "      <th>1</th>\n",
       "      <td>01/01/2018</td>\n",
       "      <td>1.0</td>\n",
       "      <td>4</td>\n",
       "      <td>n/d</td>\n",
       "      <td>6</td>\n",
       "      <td>5</td>\n",
       "      <td>5</td>\n",
       "      <td>5</td>\n",
       "      <td>n/d</td>\n",
       "      <td>6</td>\n",
       "      <td>...</td>\n",
       "      <td>5</td>\n",
       "      <td>14</td>\n",
       "      <td>21</td>\n",
       "      <td>20</td>\n",
       "      <td>2</td>\n",
       "      <td>9</td>\n",
       "      <td>12</td>\n",
       "      <td>5</td>\n",
       "      <td>13</td>\n",
       "      <td>n/d</td>\n",
       "    </tr>\n",
       "    <tr>\n",
       "      <th>2</th>\n",
       "      <td>01/01/2018</td>\n",
       "      <td>2.0</td>\n",
       "      <td>4</td>\n",
       "      <td>n/d</td>\n",
       "      <td>6</td>\n",
       "      <td>6</td>\n",
       "      <td>5</td>\n",
       "      <td>5</td>\n",
       "      <td>n/d</td>\n",
       "      <td>6</td>\n",
       "      <td>...</td>\n",
       "      <td>4</td>\n",
       "      <td>14</td>\n",
       "      <td>16</td>\n",
       "      <td>52</td>\n",
       "      <td>2</td>\n",
       "      <td>9</td>\n",
       "      <td>13</td>\n",
       "      <td>5</td>\n",
       "      <td>15</td>\n",
       "      <td>n/d</td>\n",
       "    </tr>\n",
       "    <tr>\n",
       "      <th>3</th>\n",
       "      <td>01/01/2018</td>\n",
       "      <td>3.0</td>\n",
       "      <td>4</td>\n",
       "      <td>n/d</td>\n",
       "      <td>6</td>\n",
       "      <td>8</td>\n",
       "      <td>6</td>\n",
       "      <td>6</td>\n",
       "      <td>n/d</td>\n",
       "      <td>7</td>\n",
       "      <td>...</td>\n",
       "      <td>7</td>\n",
       "      <td>16</td>\n",
       "      <td>16</td>\n",
       "      <td>31</td>\n",
       "      <td>3</td>\n",
       "      <td>10</td>\n",
       "      <td>12</td>\n",
       "      <td>6</td>\n",
       "      <td>20</td>\n",
       "      <td>n/d</td>\n",
       "    </tr>\n",
       "    <tr>\n",
       "      <th>4</th>\n",
       "      <td>01/01/2018</td>\n",
       "      <td>4.0</td>\n",
       "      <td>3</td>\n",
       "      <td>n/d</td>\n",
       "      <td>6</td>\n",
       "      <td>8</td>\n",
       "      <td>6</td>\n",
       "      <td>6</td>\n",
       "      <td>n/d</td>\n",
       "      <td>7</td>\n",
       "      <td>...</td>\n",
       "      <td>6</td>\n",
       "      <td>20</td>\n",
       "      <td>15</td>\n",
       "      <td>34</td>\n",
       "      <td>3</td>\n",
       "      <td>10</td>\n",
       "      <td>14</td>\n",
       "      <td>8</td>\n",
       "      <td>25</td>\n",
       "      <td>n/d</td>\n",
       "    </tr>\n",
       "  </tbody>\n",
       "</table>\n",
       "<p>5 rows × 44 columns</p>\n",
       "</div>"
      ],
      "text/plain": [
       "         date  heure       EVRY      PA01H     LOGNES     VILLEM        GEN  \\\n",
       "0         NaN    NaN  microg/m3  microg/m3  microg/m3  microg/m3  microg/m3   \n",
       "1  01/01/2018    1.0          4        n/d          6          5          5   \n",
       "2  01/01/2018    2.0          4        n/d          6          6          5   \n",
       "3  01/01/2018    3.0          4        n/d          6          8          6   \n",
       "4  01/01/2018    4.0          3        n/d          6          8          6   \n",
       "\n",
       "       MELUN        ARG        GON  ...      MONTG      SOULT      CELES  \\\n",
       "0  microg/m3  microg/m3  microg/m3  ...  microg/m3  microg/m3  microg/m3   \n",
       "1          5        n/d          6  ...          5         14         21   \n",
       "2          5        n/d          6  ...          4         14         16   \n",
       "3          6        n/d          7  ...          7         16         16   \n",
       "4          6        n/d          7  ...          6         20         15   \n",
       "\n",
       "        ELYS      EIFF3      TREMB        AUB       IVRY     BP_EST       PA07  \n",
       "0  microg/m3  microg/m3  microg/m3  microg/m3  microg/m3  microg/m3  microg/m3  \n",
       "1         20          2          9         12          5         13        n/d  \n",
       "2         52          2          9         13          5         15        n/d  \n",
       "3         31          3         10         12          6         20        n/d  \n",
       "4         34          3         10         14          8         25        n/d  \n",
       "\n",
       "[5 rows x 44 columns]"
      ]
     },
     "execution_count": 3,
     "metadata": {},
     "output_type": "execute_result"
    }
   ],
   "source": [
    "data_no2.head()"
   ]
  },
  {
   "cell_type": "markdown",
   "metadata": {},
   "source": [
    "# Transformer les noms de stattions et mesures en colonnes (melt)"
   ]
  },
  {
   "cell_type": "code",
   "execution_count": 4,
   "metadata": {},
   "outputs": [],
   "source": [
    "data_no2_pivot = pd.melt(data_no2, id_vars = [\"date\", \"heure\"], var_name= \"station\", value_name=\"taux_no2\")"
   ]
  },
  {
   "cell_type": "code",
   "execution_count": 5,
   "metadata": {},
   "outputs": [
    {
     "data": {
      "text/html": [
       "<div>\n",
       "<style scoped>\n",
       "    .dataframe tbody tr th:only-of-type {\n",
       "        vertical-align: middle;\n",
       "    }\n",
       "\n",
       "    .dataframe tbody tr th {\n",
       "        vertical-align: top;\n",
       "    }\n",
       "\n",
       "    .dataframe thead th {\n",
       "        text-align: right;\n",
       "    }\n",
       "</style>\n",
       "<table border=\"1\" class=\"dataframe\">\n",
       "  <thead>\n",
       "    <tr style=\"text-align: right;\">\n",
       "      <th></th>\n",
       "      <th>date</th>\n",
       "      <th>heure</th>\n",
       "      <th>station</th>\n",
       "      <th>taux_no2</th>\n",
       "    </tr>\n",
       "  </thead>\n",
       "  <tbody>\n",
       "    <tr>\n",
       "      <th>0</th>\n",
       "      <td>NaN</td>\n",
       "      <td>NaN</td>\n",
       "      <td>EVRY</td>\n",
       "      <td>microg/m3</td>\n",
       "    </tr>\n",
       "    <tr>\n",
       "      <th>1</th>\n",
       "      <td>01/01/2018</td>\n",
       "      <td>1.0</td>\n",
       "      <td>EVRY</td>\n",
       "      <td>4</td>\n",
       "    </tr>\n",
       "    <tr>\n",
       "      <th>2</th>\n",
       "      <td>01/01/2018</td>\n",
       "      <td>2.0</td>\n",
       "      <td>EVRY</td>\n",
       "      <td>4</td>\n",
       "    </tr>\n",
       "    <tr>\n",
       "      <th>3</th>\n",
       "      <td>01/01/2018</td>\n",
       "      <td>3.0</td>\n",
       "      <td>EVRY</td>\n",
       "      <td>4</td>\n",
       "    </tr>\n",
       "    <tr>\n",
       "      <th>4</th>\n",
       "      <td>01/01/2018</td>\n",
       "      <td>4.0</td>\n",
       "      <td>EVRY</td>\n",
       "      <td>3</td>\n",
       "    </tr>\n",
       "  </tbody>\n",
       "</table>\n",
       "</div>"
      ],
      "text/plain": [
       "         date  heure station   taux_no2\n",
       "0         NaN    NaN    EVRY  microg/m3\n",
       "1  01/01/2018    1.0    EVRY          4\n",
       "2  01/01/2018    2.0    EVRY          4\n",
       "3  01/01/2018    3.0    EVRY          4\n",
       "4  01/01/2018    4.0    EVRY          3"
      ]
     },
     "execution_count": 5,
     "metadata": {},
     "output_type": "execute_result"
    }
   ],
   "source": [
    "data_no2_pivot.head()"
   ]
  },
  {
   "cell_type": "code",
   "execution_count": 6,
   "metadata": {},
   "outputs": [
    {
     "data": {
      "text/plain": [
       "(1085658, 4)"
      ]
     },
     "execution_count": 6,
     "metadata": {},
     "output_type": "execute_result"
    }
   ],
   "source": [
    "data_no2_pivot.shape"
   ]
  },
  {
   "cell_type": "markdown",
   "metadata": {},
   "source": [
    "# Supprimer les mesures liées aux stations qui sont en dehors de Paris"
   ]
  },
  {
   "cell_type": "code",
   "execution_count": 7,
   "metadata": {},
   "outputs": [],
   "source": [
    "st_paris = data_no2.drop(columns =[\"GON\",\"A1\",\"MANT\",\"MELUN\",\"TREMB\",\"VERS\",\"RUR-SE\",\"RUR-SO\",\"RN2\",\"RN20\",\"RN6\",\"ARG\",\"AUB\",\"BOB\",\n",
    "                          \"CHAMP\",\"DEF\",\"EVRY\",\"GEN\",\"LOGNES\",\"MONTG\",\"NEUIL\",\"STDEN\",\"VILLEM\",\"VITRY\", \"IVRY\"])"
   ]
  },
  {
   "cell_type": "code",
   "execution_count": 8,
   "metadata": {},
   "outputs": [
    {
     "data": {
      "text/plain": [
       "Index(['date', 'heure', 'PA01H', 'PA13', 'PA15L', 'PA18', 'PA04C', 'OPERA',\n",
       "       'HAUS', 'BONAP', 'AUT', 'BASCH', 'PA12', 'SOULT', 'CELES', 'ELYS',\n",
       "       'EIFF3', 'BP_EST', 'PA07'],\n",
       "      dtype='object')"
      ]
     },
     "execution_count": 8,
     "metadata": {},
     "output_type": "execute_result"
    }
   ],
   "source": [
    "st_paris.columns"
   ]
  },
  {
   "cell_type": "code",
   "execution_count": 9,
   "metadata": {},
   "outputs": [],
   "source": [
    "#st_paris.columns = [\"date\",\"heure\",\"75001\", \"75013\", \"75015\", \"75018\", \"PA04C\",\"75009\", \"75008\", \"75006\",\n",
    "#                   \"AUT(75016)\", \"75014\", \"75012\", \"SOULT\", \"75004\", \"75008\",\n",
    "#VRY                   \"75007\", \"BP_EST\", \"75007\"]\n"
   ]
  },
  {
   "cell_type": "code",
   "execution_count": 10,
   "metadata": {},
   "outputs": [
    {
     "data": {
      "text/html": [
       "<div>\n",
       "<style scoped>\n",
       "    .dataframe tbody tr th:only-of-type {\n",
       "        vertical-align: middle;\n",
       "    }\n",
       "\n",
       "    .dataframe tbody tr th {\n",
       "        vertical-align: top;\n",
       "    }\n",
       "\n",
       "    .dataframe thead th {\n",
       "        text-align: right;\n",
       "    }\n",
       "</style>\n",
       "<table border=\"1\" class=\"dataframe\">\n",
       "  <thead>\n",
       "    <tr style=\"text-align: right;\">\n",
       "      <th></th>\n",
       "      <th>date</th>\n",
       "      <th>heure</th>\n",
       "      <th>PA01H</th>\n",
       "      <th>PA13</th>\n",
       "      <th>PA15L</th>\n",
       "      <th>PA18</th>\n",
       "      <th>PA04C</th>\n",
       "      <th>OPERA</th>\n",
       "      <th>HAUS</th>\n",
       "      <th>BONAP</th>\n",
       "      <th>AUT</th>\n",
       "      <th>BASCH</th>\n",
       "      <th>PA12</th>\n",
       "      <th>SOULT</th>\n",
       "      <th>CELES</th>\n",
       "      <th>ELYS</th>\n",
       "      <th>EIFF3</th>\n",
       "      <th>BP_EST</th>\n",
       "      <th>PA07</th>\n",
       "    </tr>\n",
       "  </thead>\n",
       "  <tbody>\n",
       "    <tr>\n",
       "      <th>0</th>\n",
       "      <td>NaN</td>\n",
       "      <td>NaN</td>\n",
       "      <td>microg/m3</td>\n",
       "      <td>microg/m3</td>\n",
       "      <td>microg/m3</td>\n",
       "      <td>microg/m3</td>\n",
       "      <td>microg/m3</td>\n",
       "      <td>microg/m3</td>\n",
       "      <td>microg/m3</td>\n",
       "      <td>microg/m3</td>\n",
       "      <td>microg/m3</td>\n",
       "      <td>microg/m3</td>\n",
       "      <td>microg/m3</td>\n",
       "      <td>microg/m3</td>\n",
       "      <td>microg/m3</td>\n",
       "      <td>microg/m3</td>\n",
       "      <td>microg/m3</td>\n",
       "      <td>microg/m3</td>\n",
       "      <td>microg/m3</td>\n",
       "    </tr>\n",
       "    <tr>\n",
       "      <th>1</th>\n",
       "      <td>01/01/2018</td>\n",
       "      <td>1.0</td>\n",
       "      <td>n/d</td>\n",
       "      <td>9</td>\n",
       "      <td>4</td>\n",
       "      <td>14</td>\n",
       "      <td>17</td>\n",
       "      <td>n/d</td>\n",
       "      <td>53</td>\n",
       "      <td>25</td>\n",
       "      <td>n/d</td>\n",
       "      <td>23</td>\n",
       "      <td>8</td>\n",
       "      <td>14</td>\n",
       "      <td>21</td>\n",
       "      <td>20</td>\n",
       "      <td>2</td>\n",
       "      <td>13</td>\n",
       "      <td>n/d</td>\n",
       "    </tr>\n",
       "    <tr>\n",
       "      <th>2</th>\n",
       "      <td>01/01/2018</td>\n",
       "      <td>2.0</td>\n",
       "      <td>n/d</td>\n",
       "      <td>9</td>\n",
       "      <td>4</td>\n",
       "      <td>14</td>\n",
       "      <td>14</td>\n",
       "      <td>n/d</td>\n",
       "      <td>44</td>\n",
       "      <td>21</td>\n",
       "      <td>n/d</td>\n",
       "      <td>23</td>\n",
       "      <td>10</td>\n",
       "      <td>14</td>\n",
       "      <td>16</td>\n",
       "      <td>52</td>\n",
       "      <td>2</td>\n",
       "      <td>15</td>\n",
       "      <td>n/d</td>\n",
       "    </tr>\n",
       "    <tr>\n",
       "      <th>3</th>\n",
       "      <td>01/01/2018</td>\n",
       "      <td>3.0</td>\n",
       "      <td>n/d</td>\n",
       "      <td>11</td>\n",
       "      <td>4</td>\n",
       "      <td>14</td>\n",
       "      <td>15</td>\n",
       "      <td>n/d</td>\n",
       "      <td>46</td>\n",
       "      <td>24</td>\n",
       "      <td>n/d</td>\n",
       "      <td>30</td>\n",
       "      <td>9</td>\n",
       "      <td>16</td>\n",
       "      <td>16</td>\n",
       "      <td>31</td>\n",
       "      <td>3</td>\n",
       "      <td>20</td>\n",
       "      <td>n/d</td>\n",
       "    </tr>\n",
       "    <tr>\n",
       "      <th>4</th>\n",
       "      <td>01/01/2018</td>\n",
       "      <td>4.0</td>\n",
       "      <td>n/d</td>\n",
       "      <td>11</td>\n",
       "      <td>4</td>\n",
       "      <td>15</td>\n",
       "      <td>13</td>\n",
       "      <td>n/d</td>\n",
       "      <td>40</td>\n",
       "      <td>23</td>\n",
       "      <td>n/d</td>\n",
       "      <td>27</td>\n",
       "      <td>9</td>\n",
       "      <td>20</td>\n",
       "      <td>15</td>\n",
       "      <td>34</td>\n",
       "      <td>3</td>\n",
       "      <td>25</td>\n",
       "      <td>n/d</td>\n",
       "    </tr>\n",
       "  </tbody>\n",
       "</table>\n",
       "</div>"
      ],
      "text/plain": [
       "         date  heure      PA01H       PA13      PA15L       PA18      PA04C  \\\n",
       "0         NaN    NaN  microg/m3  microg/m3  microg/m3  microg/m3  microg/m3   \n",
       "1  01/01/2018    1.0        n/d          9          4         14         17   \n",
       "2  01/01/2018    2.0        n/d          9          4         14         14   \n",
       "3  01/01/2018    3.0        n/d         11          4         14         15   \n",
       "4  01/01/2018    4.0        n/d         11          4         15         13   \n",
       "\n",
       "       OPERA       HAUS      BONAP        AUT      BASCH       PA12  \\\n",
       "0  microg/m3  microg/m3  microg/m3  microg/m3  microg/m3  microg/m3   \n",
       "1        n/d         53         25        n/d         23          8   \n",
       "2        n/d         44         21        n/d         23         10   \n",
       "3        n/d         46         24        n/d         30          9   \n",
       "4        n/d         40         23        n/d         27          9   \n",
       "\n",
       "       SOULT      CELES       ELYS      EIFF3     BP_EST       PA07  \n",
       "0  microg/m3  microg/m3  microg/m3  microg/m3  microg/m3  microg/m3  \n",
       "1         14         21         20          2         13        n/d  \n",
       "2         14         16         52          2         15        n/d  \n",
       "3         16         16         31          3         20        n/d  \n",
       "4         20         15         34          3         25        n/d  "
      ]
     },
     "execution_count": 10,
     "metadata": {},
     "output_type": "execute_result"
    }
   ],
   "source": [
    "#st_paris.drop(0)\n",
    "st_paris.head()"
   ]
  },
  {
   "cell_type": "code",
   "execution_count": 11,
   "metadata": {},
   "outputs": [
    {
     "data": {
      "text/plain": [
       "(25849, 19)"
      ]
     },
     "execution_count": 11,
     "metadata": {},
     "output_type": "execute_result"
    }
   ],
   "source": [
    "st_paris.shape"
   ]
  },
  {
   "cell_type": "code",
   "execution_count": 12,
   "metadata": {},
   "outputs": [],
   "source": [
    "st_paris_pivot = pd.melt(st_paris, id_vars=[\"date\", \"heure\"], var_name = \"stations\", value_name=\"taux_no2\")"
   ]
  },
  {
   "cell_type": "code",
   "execution_count": 13,
   "metadata": {},
   "outputs": [
    {
     "data": {
      "text/html": [
       "<div>\n",
       "<style scoped>\n",
       "    .dataframe tbody tr th:only-of-type {\n",
       "        vertical-align: middle;\n",
       "    }\n",
       "\n",
       "    .dataframe tbody tr th {\n",
       "        vertical-align: top;\n",
       "    }\n",
       "\n",
       "    .dataframe thead th {\n",
       "        text-align: right;\n",
       "    }\n",
       "</style>\n",
       "<table border=\"1\" class=\"dataframe\">\n",
       "  <thead>\n",
       "    <tr style=\"text-align: right;\">\n",
       "      <th></th>\n",
       "      <th>date</th>\n",
       "      <th>heure</th>\n",
       "      <th>stations</th>\n",
       "      <th>taux_no2</th>\n",
       "    </tr>\n",
       "  </thead>\n",
       "  <tbody>\n",
       "    <tr>\n",
       "      <th>0</th>\n",
       "      <td>NaN</td>\n",
       "      <td>NaN</td>\n",
       "      <td>PA01H</td>\n",
       "      <td>microg/m3</td>\n",
       "    </tr>\n",
       "    <tr>\n",
       "      <th>1</th>\n",
       "      <td>01/01/2018</td>\n",
       "      <td>1.0</td>\n",
       "      <td>PA01H</td>\n",
       "      <td>n/d</td>\n",
       "    </tr>\n",
       "    <tr>\n",
       "      <th>2</th>\n",
       "      <td>01/01/2018</td>\n",
       "      <td>2.0</td>\n",
       "      <td>PA01H</td>\n",
       "      <td>n/d</td>\n",
       "    </tr>\n",
       "    <tr>\n",
       "      <th>3</th>\n",
       "      <td>01/01/2018</td>\n",
       "      <td>3.0</td>\n",
       "      <td>PA01H</td>\n",
       "      <td>n/d</td>\n",
       "    </tr>\n",
       "    <tr>\n",
       "      <th>4</th>\n",
       "      <td>01/01/2018</td>\n",
       "      <td>4.0</td>\n",
       "      <td>PA01H</td>\n",
       "      <td>n/d</td>\n",
       "    </tr>\n",
       "  </tbody>\n",
       "</table>\n",
       "</div>"
      ],
      "text/plain": [
       "         date  heure stations   taux_no2\n",
       "0         NaN    NaN    PA01H  microg/m3\n",
       "1  01/01/2018    1.0    PA01H        n/d\n",
       "2  01/01/2018    2.0    PA01H        n/d\n",
       "3  01/01/2018    3.0    PA01H        n/d\n",
       "4  01/01/2018    4.0    PA01H        n/d"
      ]
     },
     "execution_count": 13,
     "metadata": {},
     "output_type": "execute_result"
    }
   ],
   "source": [
    "st_paris_pivot.head()"
   ]
  },
  {
   "cell_type": "markdown",
   "metadata": {},
   "source": [
    "# ** Staions No2 Paris\n"
   ]
  },
  {
   "cell_type": "markdown",
   "metadata": {},
   "source": [
    "# Charger le fichier (résultat du scrapping) contenant les codes stations et adresses"
   ]
  },
  {
   "cell_type": "code",
   "execution_count": 14,
   "metadata": {},
   "outputs": [],
   "source": [
    "stations_paris = pd.read_csv(\"stationsNO2_paris.csv\")"
   ]
  },
  {
   "cell_type": "code",
   "execution_count": 15,
   "metadata": {},
   "outputs": [],
   "source": [
    "stations_paris.columns = [\"station\", \"station_name\", \"station_adress\", \"zip_code\"]"
   ]
  },
  {
   "cell_type": "code",
   "execution_count": 16,
   "metadata": {},
   "outputs": [
    {
     "data": {
      "text/plain": [
       "pandas.core.series.Series"
      ]
     },
     "execution_count": 16,
     "metadata": {},
     "output_type": "execute_result"
    }
   ],
   "source": [
    "type(data_no2_pivot[\"station\"])"
   ]
  },
  {
   "cell_type": "code",
   "execution_count": 17,
   "metadata": {
    "scrolled": true
   },
   "outputs": [
    {
     "data": {
      "text/html": [
       "<div>\n",
       "<style scoped>\n",
       "    .dataframe tbody tr th:only-of-type {\n",
       "        vertical-align: middle;\n",
       "    }\n",
       "\n",
       "    .dataframe tbody tr th {\n",
       "        vertical-align: top;\n",
       "    }\n",
       "\n",
       "    .dataframe thead th {\n",
       "        text-align: right;\n",
       "    }\n",
       "</style>\n",
       "<table border=\"1\" class=\"dataframe\">\n",
       "  <thead>\n",
       "    <tr style=\"text-align: right;\">\n",
       "      <th></th>\n",
       "      <th>date</th>\n",
       "      <th>heure</th>\n",
       "      <th>station</th>\n",
       "      <th>taux_no2</th>\n",
       "    </tr>\n",
       "  </thead>\n",
       "  <tbody>\n",
       "    <tr>\n",
       "      <th>0</th>\n",
       "      <td>NaN</td>\n",
       "      <td>NaN</td>\n",
       "      <td>EVRY</td>\n",
       "      <td>microg/m3</td>\n",
       "    </tr>\n",
       "    <tr>\n",
       "      <th>1</th>\n",
       "      <td>01/01/2018</td>\n",
       "      <td>1.0</td>\n",
       "      <td>EVRY</td>\n",
       "      <td>4</td>\n",
       "    </tr>\n",
       "    <tr>\n",
       "      <th>2</th>\n",
       "      <td>01/01/2018</td>\n",
       "      <td>2.0</td>\n",
       "      <td>EVRY</td>\n",
       "      <td>4</td>\n",
       "    </tr>\n",
       "    <tr>\n",
       "      <th>3</th>\n",
       "      <td>01/01/2018</td>\n",
       "      <td>3.0</td>\n",
       "      <td>EVRY</td>\n",
       "      <td>4</td>\n",
       "    </tr>\n",
       "    <tr>\n",
       "      <th>4</th>\n",
       "      <td>01/01/2018</td>\n",
       "      <td>4.0</td>\n",
       "      <td>EVRY</td>\n",
       "      <td>3</td>\n",
       "    </tr>\n",
       "  </tbody>\n",
       "</table>\n",
       "</div>"
      ],
      "text/plain": [
       "         date  heure station   taux_no2\n",
       "0         NaN    NaN    EVRY  microg/m3\n",
       "1  01/01/2018    1.0    EVRY          4\n",
       "2  01/01/2018    2.0    EVRY          4\n",
       "3  01/01/2018    3.0    EVRY          4\n",
       "4  01/01/2018    4.0    EVRY          3"
      ]
     },
     "execution_count": 17,
     "metadata": {},
     "output_type": "execute_result"
    }
   ],
   "source": [
    "data_no2_pivot.head()"
   ]
  },
  {
   "cell_type": "code",
   "execution_count": 18,
   "metadata": {},
   "outputs": [
    {
     "data": {
      "text/plain": [
       "1085658"
      ]
     },
     "execution_count": 18,
     "metadata": {},
     "output_type": "execute_result"
    }
   ],
   "source": [
    "len(data_no2_pivot)"
   ]
  },
  {
   "cell_type": "markdown",
   "metadata": {},
   "source": [
    "# ** Fusionner les deux fichiers "
   ]
  },
  {
   "cell_type": "code",
   "execution_count": 19,
   "metadata": {},
   "outputs": [],
   "source": [
    "result = data_no2_pivot.merge(stations_paris, on='station')"
   ]
  },
  {
   "cell_type": "code",
   "execution_count": 20,
   "metadata": {},
   "outputs": [
    {
     "data": {
      "text/html": [
       "<div>\n",
       "<style scoped>\n",
       "    .dataframe tbody tr th:only-of-type {\n",
       "        vertical-align: middle;\n",
       "    }\n",
       "\n",
       "    .dataframe tbody tr th {\n",
       "        vertical-align: top;\n",
       "    }\n",
       "\n",
       "    .dataframe thead th {\n",
       "        text-align: right;\n",
       "    }\n",
       "</style>\n",
       "<table border=\"1\" class=\"dataframe\">\n",
       "  <thead>\n",
       "    <tr style=\"text-align: right;\">\n",
       "      <th></th>\n",
       "      <th>date</th>\n",
       "      <th>heure</th>\n",
       "      <th>station</th>\n",
       "      <th>taux_no2</th>\n",
       "      <th>station_name</th>\n",
       "      <th>station_adress</th>\n",
       "      <th>zip_code</th>\n",
       "    </tr>\n",
       "  </thead>\n",
       "  <tbody>\n",
       "    <tr>\n",
       "      <th>1</th>\n",
       "      <td>01/01/2018</td>\n",
       "      <td>1.0</td>\n",
       "      <td>PA01H</td>\n",
       "      <td>n/d</td>\n",
       "      <td>PARIS 1er Les Halles</td>\n",
       "      <td>Jardin des Halles-Al J. Supervielle 75001, Par...</td>\n",
       "      <td>75001</td>\n",
       "    </tr>\n",
       "    <tr>\n",
       "      <th>2</th>\n",
       "      <td>01/01/2018</td>\n",
       "      <td>2.0</td>\n",
       "      <td>PA01H</td>\n",
       "      <td>n/d</td>\n",
       "      <td>PARIS 1er Les Halles</td>\n",
       "      <td>Jardin des Halles-Al J. Supervielle 75001, Par...</td>\n",
       "      <td>75001</td>\n",
       "    </tr>\n",
       "    <tr>\n",
       "      <th>3</th>\n",
       "      <td>01/01/2018</td>\n",
       "      <td>3.0</td>\n",
       "      <td>PA01H</td>\n",
       "      <td>n/d</td>\n",
       "      <td>PARIS 1er Les Halles</td>\n",
       "      <td>Jardin des Halles-Al J. Supervielle 75001, Par...</td>\n",
       "      <td>75001</td>\n",
       "    </tr>\n",
       "    <tr>\n",
       "      <th>4</th>\n",
       "      <td>01/01/2018</td>\n",
       "      <td>4.0</td>\n",
       "      <td>PA01H</td>\n",
       "      <td>n/d</td>\n",
       "      <td>PARIS 1er Les Halles</td>\n",
       "      <td>Jardin des Halles-Al J. Supervielle 75001, Par...</td>\n",
       "      <td>75001</td>\n",
       "    </tr>\n",
       "    <tr>\n",
       "      <th>5</th>\n",
       "      <td>01/01/2018</td>\n",
       "      <td>5.0</td>\n",
       "      <td>PA01H</td>\n",
       "      <td>n/d</td>\n",
       "      <td>PARIS 1er Les Halles</td>\n",
       "      <td>Jardin des Halles-Al J. Supervielle 75001, Par...</td>\n",
       "      <td>75001</td>\n",
       "    </tr>\n",
       "  </tbody>\n",
       "</table>\n",
       "</div>"
      ],
      "text/plain": [
       "         date  heure station taux_no2          station_name  \\\n",
       "1  01/01/2018    1.0   PA01H      n/d  PARIS 1er Les Halles   \n",
       "2  01/01/2018    2.0   PA01H      n/d  PARIS 1er Les Halles   \n",
       "3  01/01/2018    3.0   PA01H      n/d  PARIS 1er Les Halles   \n",
       "4  01/01/2018    4.0   PA01H      n/d  PARIS 1er Les Halles   \n",
       "5  01/01/2018    5.0   PA01H      n/d  PARIS 1er Les Halles   \n",
       "\n",
       "                                      station_adress  zip_code  \n",
       "1  Jardin des Halles-Al J. Supervielle 75001, Par...     75001  \n",
       "2  Jardin des Halles-Al J. Supervielle 75001, Par...     75001  \n",
       "3  Jardin des Halles-Al J. Supervielle 75001, Par...     75001  \n",
       "4  Jardin des Halles-Al J. Supervielle 75001, Par...     75001  \n",
       "5  Jardin des Halles-Al J. Supervielle 75001, Par...     75001  "
      ]
     },
     "execution_count": 20,
     "metadata": {},
     "output_type": "execute_result"
    }
   ],
   "source": [
    "result = result.drop(0)\n",
    "result.head()"
   ]
  },
  {
   "cell_type": "markdown",
   "metadata": {},
   "source": [
    "# ** Sauvegarder le resultat dans un fichier csv"
   ]
  },
  {
   "cell_type": "code",
   "execution_count": 67,
   "metadata": {},
   "outputs": [],
   "source": [
    "result.to_csv(\"stations_paris_jupyter.csv\", index=False)"
   ]
  },
  {
   "cell_type": "code",
   "execution_count": null,
   "metadata": {},
   "outputs": [],
   "source": []
  }
 ],
 "metadata": {
  "kernelspec": {
   "display_name": "Python 3",
   "language": "python",
   "name": "python3"
  },
  "language_info": {
   "codemirror_mode": {
    "name": "ipython",
    "version": 3
   },
   "file_extension": ".py",
   "mimetype": "text/x-python",
   "name": "python",
   "nbconvert_exporter": "python",
   "pygments_lexer": "ipython3",
   "version": "3.8.3"
  }
 },
 "nbformat": 4,
 "nbformat_minor": 4
}
