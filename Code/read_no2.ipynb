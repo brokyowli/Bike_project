{
 "cells": [
  {
   "cell_type": "markdown",
   "metadata": {},
   "source": [
    "### Import data"
   ]
  },
  {
   "cell_type": "code",
   "execution_count": 49,
   "metadata": {},
   "outputs": [
    {
     "name": "stderr",
     "output_type": "stream",
     "text": [
      "C:\\ProgramData\\Anaconda3\\lib\\site-packages\\IPython\\core\\interactiveshell.py:3071: DtypeWarning: Columns (9) have mixed types.Specify dtype option on import or set low_memory=False.\n",
      "  has_raised = await self.run_ast_nodes(code_ast.body, cell_name,\n"
     ]
    }
   ],
   "source": [
    "import pandas as pd\n",
    "\n",
    "file= pd.read_csv(\"C:/Users/Administrateur/Desktop/mes_idfno2.csv\",encoding= 'unicode_escape',delimiter=\";\",parse_dates=True)"
   ]
  },
  {
   "cell_type": "code",
   "execution_count": 50,
   "metadata": {},
   "outputs": [
    {
     "data": {
      "text/html": [
       "<div>\n",
       "<style scoped>\n",
       "    .dataframe tbody tr th:only-of-type {\n",
       "        vertical-align: middle;\n",
       "    }\n",
       "\n",
       "    .dataframe tbody tr th {\n",
       "        vertical-align: top;\n",
       "    }\n",
       "\n",
       "    .dataframe thead th {\n",
       "        text-align: right;\n",
       "    }\n",
       "</style>\n",
       "<table border=\"1\" class=\"dataframe\">\n",
       "  <thead>\n",
       "    <tr style=\"text-align: right;\">\n",
       "      <th></th>\n",
       "      <th>id</th>\n",
       "      <th>nom_dept</th>\n",
       "      <th>nom_com</th>\n",
       "      <th>id_com</th>\n",
       "      <th>nom_statio</th>\n",
       "      <th>code_stati</th>\n",
       "      <th>typologie</th>\n",
       "      <th>nom_poll</th>\n",
       "      <th>id_poll_ue</th>\n",
       "      <th>valeur</th>\n",
       "      <th>unite</th>\n",
       "      <th>metrique</th>\n",
       "      <th>date_debut</th>\n",
       "      <th>date_fin</th>\n",
       "      <th>statut_val</th>\n",
       "      <th>x</th>\n",
       "      <th>y</th>\n",
       "    </tr>\n",
       "  </thead>\n",
       "  <tbody>\n",
       "    <tr>\n",
       "      <th>0</th>\n",
       "      <td>1</td>\n",
       "      <td>PARIS</td>\n",
       "      <td>PARIS-6E-ARRONDISSEMENT</td>\n",
       "      <td>75106</td>\n",
       "      <td>Rue Bonaparte</td>\n",
       "      <td>4071</td>\n",
       "      <td>Trafic</td>\n",
       "      <td>NO2</td>\n",
       "      <td>8</td>\n",
       "      <td>73</td>\n",
       "      <td>ug.m-3</td>\n",
       "      <td>horaire</td>\n",
       "      <td>18/09/2017</td>\n",
       "      <td>18/09/2017</td>\n",
       "      <td>1</td>\n",
       "      <td>651166</td>\n",
       "      <td>6862011</td>\n",
       "    </tr>\n",
       "    <tr>\n",
       "      <th>1</th>\n",
       "      <td>2</td>\n",
       "      <td>PARIS</td>\n",
       "      <td>PARIS-6E-ARRONDISSEMENT</td>\n",
       "      <td>75106</td>\n",
       "      <td>Rue Bonaparte</td>\n",
       "      <td>4071</td>\n",
       "      <td>Trafic</td>\n",
       "      <td>NO2</td>\n",
       "      <td>8</td>\n",
       "      <td>57</td>\n",
       "      <td>ug.m-3</td>\n",
       "      <td>horaire</td>\n",
       "      <td>18/09/2017</td>\n",
       "      <td>18/09/2017</td>\n",
       "      <td>1</td>\n",
       "      <td>651166</td>\n",
       "      <td>6862011</td>\n",
       "    </tr>\n",
       "    <tr>\n",
       "      <th>2</th>\n",
       "      <td>3</td>\n",
       "      <td>PARIS</td>\n",
       "      <td>PARIS-6E-ARRONDISSEMENT</td>\n",
       "      <td>75106</td>\n",
       "      <td>Rue Bonaparte</td>\n",
       "      <td>4071</td>\n",
       "      <td>Trafic</td>\n",
       "      <td>NO2</td>\n",
       "      <td>8</td>\n",
       "      <td>65</td>\n",
       "      <td>ug.m-3</td>\n",
       "      <td>horaire</td>\n",
       "      <td>18/09/2017</td>\n",
       "      <td>18/09/2017</td>\n",
       "      <td>1</td>\n",
       "      <td>651166</td>\n",
       "      <td>6862011</td>\n",
       "    </tr>\n",
       "    <tr>\n",
       "      <th>3</th>\n",
       "      <td>4</td>\n",
       "      <td>PARIS</td>\n",
       "      <td>PARIS-6E-ARRONDISSEMENT</td>\n",
       "      <td>75106</td>\n",
       "      <td>Rue Bonaparte</td>\n",
       "      <td>4071</td>\n",
       "      <td>Trafic</td>\n",
       "      <td>NO2</td>\n",
       "      <td>8</td>\n",
       "      <td>81</td>\n",
       "      <td>ug.m-3</td>\n",
       "      <td>horaire</td>\n",
       "      <td>18/09/2017</td>\n",
       "      <td>18/09/2017</td>\n",
       "      <td>1</td>\n",
       "      <td>651166</td>\n",
       "      <td>6862011</td>\n",
       "    </tr>\n",
       "    <tr>\n",
       "      <th>4</th>\n",
       "      <td>5</td>\n",
       "      <td>PARIS</td>\n",
       "      <td>PARIS-6E-ARRONDISSEMENT</td>\n",
       "      <td>75106</td>\n",
       "      <td>Rue Bonaparte</td>\n",
       "      <td>4071</td>\n",
       "      <td>Trafic</td>\n",
       "      <td>NO2</td>\n",
       "      <td>8</td>\n",
       "      <td>74</td>\n",
       "      <td>ug.m-3</td>\n",
       "      <td>horaire</td>\n",
       "      <td>18/09/2017</td>\n",
       "      <td>18/09/2017</td>\n",
       "      <td>1</td>\n",
       "      <td>651166</td>\n",
       "      <td>6862011</td>\n",
       "    </tr>\n",
       "  </tbody>\n",
       "</table>\n",
       "</div>"
      ],
      "text/plain": [
       "   id nom_dept                  nom_com  id_com     nom_statio  code_stati  \\\n",
       "0   1    PARIS  PARIS-6E-ARRONDISSEMENT   75106  Rue Bonaparte        4071   \n",
       "1   2    PARIS  PARIS-6E-ARRONDISSEMENT   75106  Rue Bonaparte        4071   \n",
       "2   3    PARIS  PARIS-6E-ARRONDISSEMENT   75106  Rue Bonaparte        4071   \n",
       "3   4    PARIS  PARIS-6E-ARRONDISSEMENT   75106  Rue Bonaparte        4071   \n",
       "4   5    PARIS  PARIS-6E-ARRONDISSEMENT   75106  Rue Bonaparte        4071   \n",
       "\n",
       "  typologie nom_poll  id_poll_ue valeur   unite metrique  date_debut  \\\n",
       "0    Trafic      NO2           8     73  ug.m-3  horaire  18/09/2017   \n",
       "1    Trafic      NO2           8     57  ug.m-3  horaire  18/09/2017   \n",
       "2    Trafic      NO2           8     65  ug.m-3  horaire  18/09/2017   \n",
       "3    Trafic      NO2           8     81  ug.m-3  horaire  18/09/2017   \n",
       "4    Trafic      NO2           8     74  ug.m-3  horaire  18/09/2017   \n",
       "\n",
       "     date_fin  statut_val       x        y  \n",
       "0  18/09/2017           1  651166  6862011  \n",
       "1  18/09/2017           1  651166  6862011  \n",
       "2  18/09/2017           1  651166  6862011  \n",
       "3  18/09/2017           1  651166  6862011  \n",
       "4  18/09/2017           1  651166  6862011  "
      ]
     },
     "execution_count": 50,
     "metadata": {},
     "output_type": "execute_result"
    }
   ],
   "source": [
    "file.head()"
   ]
  },
  {
   "cell_type": "code",
   "execution_count": 118,
   "metadata": {},
   "outputs": [
    {
     "data": {
      "text/plain": [
       "id            0\n",
       "nom_dept      0\n",
       "nom_com       0\n",
       "id_com        0\n",
       "nom_statio    0\n",
       "code_stati    0\n",
       "typologie     0\n",
       "nom_poll      0\n",
       "id_poll_ue    0\n",
       "valeur        0\n",
       "unite         0\n",
       "metrique      0\n",
       "date_debut    0\n",
       "date_fin      0\n",
       "statut_val    0\n",
       "x             0\n",
       "y             0\n",
       "dtype: int64"
      ]
     },
     "execution_count": 118,
     "metadata": {},
     "output_type": "execute_result"
    }
   ],
   "source": [
    "file.isnull().sum()"
   ]
  },
  {
   "cell_type": "markdown",
   "metadata": {},
   "source": [
    "### select columns"
   ]
  },
  {
   "cell_type": "code",
   "execution_count": 53,
   "metadata": {},
   "outputs": [
    {
     "data": {
      "text/html": [
       "<div>\n",
       "<style scoped>\n",
       "    .dataframe tbody tr th:only-of-type {\n",
       "        vertical-align: middle;\n",
       "    }\n",
       "\n",
       "    .dataframe tbody tr th {\n",
       "        vertical-align: top;\n",
       "    }\n",
       "\n",
       "    .dataframe thead th {\n",
       "        text-align: right;\n",
       "    }\n",
       "</style>\n",
       "<table border=\"1\" class=\"dataframe\">\n",
       "  <thead>\n",
       "    <tr style=\"text-align: right;\">\n",
       "      <th></th>\n",
       "      <th>nom_dept</th>\n",
       "      <th>nom_com</th>\n",
       "      <th>id_com</th>\n",
       "      <th>valeur</th>\n",
       "      <th>date_debut</th>\n",
       "      <th>date_fin</th>\n",
       "    </tr>\n",
       "  </thead>\n",
       "  <tbody>\n",
       "    <tr>\n",
       "      <th>407295</th>\n",
       "      <td>HAUTS-DE-SEINE</td>\n",
       "      <td>GENNEVILLIERS</td>\n",
       "      <td>92036</td>\n",
       "      <td>19,6</td>\n",
       "      <td>19/11/2020</td>\n",
       "      <td>19/11/2020</td>\n",
       "    </tr>\n",
       "    <tr>\n",
       "      <th>407296</th>\n",
       "      <td>HAUTS-DE-SEINE</td>\n",
       "      <td>GENNEVILLIERS</td>\n",
       "      <td>92036</td>\n",
       "      <td>24,4</td>\n",
       "      <td>19/11/2020</td>\n",
       "      <td>19/11/2020</td>\n",
       "    </tr>\n",
       "    <tr>\n",
       "      <th>407297</th>\n",
       "      <td>HAUTS-DE-SEINE</td>\n",
       "      <td>GENNEVILLIERS</td>\n",
       "      <td>92036</td>\n",
       "      <td>21,1</td>\n",
       "      <td>19/11/2020</td>\n",
       "      <td>19/11/2020</td>\n",
       "    </tr>\n",
       "    <tr>\n",
       "      <th>407298</th>\n",
       "      <td>HAUTS-DE-SEINE</td>\n",
       "      <td>GENNEVILLIERS</td>\n",
       "      <td>92036</td>\n",
       "      <td>14,4</td>\n",
       "      <td>19/11/2020</td>\n",
       "      <td>19/11/2020</td>\n",
       "    </tr>\n",
       "    <tr>\n",
       "      <th>407299</th>\n",
       "      <td>HAUTS-DE-SEINE</td>\n",
       "      <td>GENNEVILLIERS</td>\n",
       "      <td>92036</td>\n",
       "      <td>10,3</td>\n",
       "      <td>19/11/2020</td>\n",
       "      <td>19/11/2020</td>\n",
       "    </tr>\n",
       "  </tbody>\n",
       "</table>\n",
       "</div>"
      ],
      "text/plain": [
       "              nom_dept        nom_com  id_com valeur  date_debut    date_fin\n",
       "407295  HAUTS-DE-SEINE  GENNEVILLIERS   92036   19,6  19/11/2020  19/11/2020\n",
       "407296  HAUTS-DE-SEINE  GENNEVILLIERS   92036   24,4  19/11/2020  19/11/2020\n",
       "407297  HAUTS-DE-SEINE  GENNEVILLIERS   92036   21,1  19/11/2020  19/11/2020\n",
       "407298  HAUTS-DE-SEINE  GENNEVILLIERS   92036   14,4  19/11/2020  19/11/2020\n",
       "407299  HAUTS-DE-SEINE  GENNEVILLIERS   92036   10,3  19/11/2020  19/11/2020"
      ]
     },
     "execution_count": 53,
     "metadata": {},
     "output_type": "execute_result"
    }
   ],
   "source": [
    "file_no2=file[[\"nom_dept\",\"nom_com\",\"id_com\",\"valeur\",\"date_debut\",\"date_fin\"]]\n",
    "file_no2.tail()"
   ]
  },
  {
   "cell_type": "code",
   "execution_count": 54,
   "metadata": {},
   "outputs": [
    {
     "data": {
      "text/plain": [
       "nom_dept      407300\n",
       "nom_com       407300\n",
       "id_com        407300\n",
       "valeur        407300\n",
       "date_debut    407300\n",
       "date_fin      407300\n",
       "dtype: int64"
      ]
     },
     "execution_count": 54,
     "metadata": {},
     "output_type": "execute_result"
    }
   ],
   "source": [
    "file_no2.count()"
   ]
  },
  {
   "cell_type": "markdown",
   "metadata": {},
   "source": [
    "### Show district"
   ]
  },
  {
   "cell_type": "code",
   "execution_count": 55,
   "metadata": {},
   "outputs": [
    {
     "data": {
      "text/plain": [
       "78646    26727\n",
       "94081    26465\n",
       "77258    26458\n",
       "95088    26404\n",
       "95277    26404\n",
       "93073    26384\n",
       "95633    26332\n",
       "95612    26308\n",
       "92036    26239\n",
       "75106    26116\n",
       "75112    25930\n",
       "91228    25784\n",
       "93066    25559\n",
       "75115    24715\n",
       "75102    24705\n",
       "75104    16770\n",
       "Name: id_com, dtype: int64"
      ]
     },
     "execution_count": 55,
     "metadata": {},
     "output_type": "execute_result"
    }
   ],
   "source": [
    "file_no2[\"id_com\"].value_counts()"
   ]
  },
  {
   "cell_type": "code",
   "execution_count": 56,
   "metadata": {},
   "outputs": [
    {
     "data": {
      "text/plain": [
       "PARIS                118236\n",
       "VAL-D'OISE           105448\n",
       "SEINE-SAINT-DENIS     51943\n",
       "YVELINES              26727\n",
       "VAL-DE-MARNE          26465\n",
       "SEINE-ET-MARNE        26458\n",
       "HAUTS-DE-SEINE        26239\n",
       "ESSONNE               25784\n",
       "Name: nom_dept, dtype: int64"
      ]
     },
     "execution_count": 56,
     "metadata": {},
     "output_type": "execute_result"
    }
   ],
   "source": [
    "file_no2[\"nom_dept\"].value_counts()"
   ]
  },
  {
   "cell_type": "code",
   "execution_count": null,
   "metadata": {},
   "outputs": [],
   "source": []
  },
  {
   "cell_type": "code",
   "execution_count": 57,
   "metadata": {},
   "outputs": [
    {
     "data": {
      "text/plain": [
       "09/02/2019    400\n",
       "12/01/2019    400\n",
       "28/03/2019    400\n",
       "16/12/2018    400\n",
       "22/02/2019    400\n",
       "             ... \n",
       "15/06/2020    142\n",
       "17/09/2020    136\n",
       "19/08/2020    108\n",
       "18/09/2017    108\n",
       "30/05/2019     76\n",
       "Name: date_fin, Length: 1156, dtype: int64"
      ]
     },
     "execution_count": 57,
     "metadata": {},
     "output_type": "execute_result"
    }
   ],
   "source": [
    "file[\"date_fin\"].value_counts()"
   ]
  },
  {
   "cell_type": "markdown",
   "metadata": {},
   "source": [
    "### Select Paris districs"
   ]
  },
  {
   "cell_type": "code",
   "execution_count": 58,
   "metadata": {},
   "outputs": [],
   "source": [
    "df=file_no2[file_no2[\"nom_dept\"]==\"PARIS\"]"
   ]
  },
  {
   "cell_type": "code",
   "execution_count": 59,
   "metadata": {},
   "outputs": [
    {
     "data": {
      "text/plain": [
       "PARIS    118236\n",
       "Name: nom_dept, dtype: int64"
      ]
     },
     "execution_count": 59,
     "metadata": {},
     "output_type": "execute_result"
    }
   ],
   "source": [
    "df[\"nom_dept\"].value_counts()"
   ]
  },
  {
   "cell_type": "code",
   "execution_count": 60,
   "metadata": {},
   "outputs": [
    {
     "data": {
      "text/plain": [
       "75106    26116\n",
       "75112    25930\n",
       "75115    24715\n",
       "75102    24705\n",
       "75104    16770\n",
       "Name: id_com, dtype: int64"
      ]
     },
     "execution_count": 60,
     "metadata": {},
     "output_type": "execute_result"
    }
   ],
   "source": [
    "df[\"id_com\"].value_counts()"
   ]
  },
  {
   "cell_type": "code",
   "execution_count": 61,
   "metadata": {},
   "outputs": [
    {
     "data": {
      "text/html": [
       "<div>\n",
       "<style scoped>\n",
       "    .dataframe tbody tr th:only-of-type {\n",
       "        vertical-align: middle;\n",
       "    }\n",
       "\n",
       "    .dataframe tbody tr th {\n",
       "        vertical-align: top;\n",
       "    }\n",
       "\n",
       "    .dataframe thead th {\n",
       "        text-align: right;\n",
       "    }\n",
       "</style>\n",
       "<table border=\"1\" class=\"dataframe\">\n",
       "  <thead>\n",
       "    <tr style=\"text-align: right;\">\n",
       "      <th></th>\n",
       "      <th>nom_dept</th>\n",
       "      <th>nom_com</th>\n",
       "      <th>id_com</th>\n",
       "      <th>valeur</th>\n",
       "      <th>date_debut</th>\n",
       "      <th>date_fin</th>\n",
       "    </tr>\n",
       "  </thead>\n",
       "  <tbody>\n",
       "    <tr>\n",
       "      <th>407245</th>\n",
       "      <td>PARIS</td>\n",
       "      <td>PARIS-15E-ARRONDISSEMENT</td>\n",
       "      <td>75115</td>\n",
       "      <td>4,7</td>\n",
       "      <td>19/11/2020</td>\n",
       "      <td>19/11/2020</td>\n",
       "    </tr>\n",
       "    <tr>\n",
       "      <th>407246</th>\n",
       "      <td>PARIS</td>\n",
       "      <td>PARIS-15E-ARRONDISSEMENT</td>\n",
       "      <td>75115</td>\n",
       "      <td>3,3</td>\n",
       "      <td>19/11/2020</td>\n",
       "      <td>19/11/2020</td>\n",
       "    </tr>\n",
       "    <tr>\n",
       "      <th>407247</th>\n",
       "      <td>PARIS</td>\n",
       "      <td>PARIS-15E-ARRONDISSEMENT</td>\n",
       "      <td>75115</td>\n",
       "      <td>3,9</td>\n",
       "      <td>19/11/2020</td>\n",
       "      <td>19/11/2020</td>\n",
       "    </tr>\n",
       "    <tr>\n",
       "      <th>407248</th>\n",
       "      <td>PARIS</td>\n",
       "      <td>PARIS-15E-ARRONDISSEMENT</td>\n",
       "      <td>75115</td>\n",
       "      <td>9,1</td>\n",
       "      <td>19/11/2020</td>\n",
       "      <td>19/11/2020</td>\n",
       "    </tr>\n",
       "    <tr>\n",
       "      <th>407249</th>\n",
       "      <td>PARIS</td>\n",
       "      <td>PARIS-15E-ARRONDISSEMENT</td>\n",
       "      <td>75115</td>\n",
       "      <td>15,9</td>\n",
       "      <td>19/11/2020</td>\n",
       "      <td>19/11/2020</td>\n",
       "    </tr>\n",
       "  </tbody>\n",
       "</table>\n",
       "</div>"
      ],
      "text/plain": [
       "       nom_dept                   nom_com  id_com valeur  date_debut  \\\n",
       "407245    PARIS  PARIS-15E-ARRONDISSEMENT   75115    4,7  19/11/2020   \n",
       "407246    PARIS  PARIS-15E-ARRONDISSEMENT   75115    3,3  19/11/2020   \n",
       "407247    PARIS  PARIS-15E-ARRONDISSEMENT   75115    3,9  19/11/2020   \n",
       "407248    PARIS  PARIS-15E-ARRONDISSEMENT   75115    9,1  19/11/2020   \n",
       "407249    PARIS  PARIS-15E-ARRONDISSEMENT   75115   15,9  19/11/2020   \n",
       "\n",
       "          date_fin  \n",
       "407245  19/11/2020  \n",
       "407246  19/11/2020  \n",
       "407247  19/11/2020  \n",
       "407248  19/11/2020  \n",
       "407249  19/11/2020  "
      ]
     },
     "execution_count": 61,
     "metadata": {},
     "output_type": "execute_result"
    }
   ],
   "source": [
    "df.tail()"
   ]
  },
  {
   "cell_type": "markdown",
   "metadata": {},
   "source": [
    "### Rename columns"
   ]
  },
  {
   "cell_type": "code",
   "execution_count": 62,
   "metadata": {},
   "outputs": [
    {
     "data": {
      "text/html": [
       "<div>\n",
       "<style scoped>\n",
       "    .dataframe tbody tr th:only-of-type {\n",
       "        vertical-align: middle;\n",
       "    }\n",
       "\n",
       "    .dataframe tbody tr th {\n",
       "        vertical-align: top;\n",
       "    }\n",
       "\n",
       "    .dataframe thead th {\n",
       "        text-align: right;\n",
       "    }\n",
       "</style>\n",
       "<table border=\"1\" class=\"dataframe\">\n",
       "  <thead>\n",
       "    <tr style=\"text-align: right;\">\n",
       "      <th></th>\n",
       "      <th>id_com</th>\n",
       "      <th>valeur</th>\n",
       "      <th>date_fin</th>\n",
       "    </tr>\n",
       "  </thead>\n",
       "  <tbody>\n",
       "    <tr>\n",
       "      <th>407245</th>\n",
       "      <td>75115</td>\n",
       "      <td>4,7</td>\n",
       "      <td>19/11/2020</td>\n",
       "    </tr>\n",
       "    <tr>\n",
       "      <th>407246</th>\n",
       "      <td>75115</td>\n",
       "      <td>3,3</td>\n",
       "      <td>19/11/2020</td>\n",
       "    </tr>\n",
       "    <tr>\n",
       "      <th>407247</th>\n",
       "      <td>75115</td>\n",
       "      <td>3,9</td>\n",
       "      <td>19/11/2020</td>\n",
       "    </tr>\n",
       "    <tr>\n",
       "      <th>407248</th>\n",
       "      <td>75115</td>\n",
       "      <td>9,1</td>\n",
       "      <td>19/11/2020</td>\n",
       "    </tr>\n",
       "    <tr>\n",
       "      <th>407249</th>\n",
       "      <td>75115</td>\n",
       "      <td>15,9</td>\n",
       "      <td>19/11/2020</td>\n",
       "    </tr>\n",
       "  </tbody>\n",
       "</table>\n",
       "</div>"
      ],
      "text/plain": [
       "        id_com valeur    date_fin\n",
       "407245   75115    4,7  19/11/2020\n",
       "407246   75115    3,3  19/11/2020\n",
       "407247   75115    3,9  19/11/2020\n",
       "407248   75115    9,1  19/11/2020\n",
       "407249   75115   15,9  19/11/2020"
      ]
     },
     "execution_count": 62,
     "metadata": {},
     "output_type": "execute_result"
    }
   ],
   "source": [
    "#\n",
    "df=df[[\"id_com\",\"valeur\",\"date_fin\"]]\n",
    "# df.columns=([\"zip_code\",\"no2\",\"date\"])\n",
    "df.tail()"
   ]
  },
  {
   "cell_type": "code",
   "execution_count": 63,
   "metadata": {},
   "outputs": [],
   "source": [
    "df.columns=([\"zip_code\",\"no2\",\"date\"])\n"
   ]
  },
  {
   "cell_type": "code",
   "execution_count": 64,
   "metadata": {},
   "outputs": [
    {
     "data": {
      "text/html": [
       "<div>\n",
       "<style scoped>\n",
       "    .dataframe tbody tr th:only-of-type {\n",
       "        vertical-align: middle;\n",
       "    }\n",
       "\n",
       "    .dataframe tbody tr th {\n",
       "        vertical-align: top;\n",
       "    }\n",
       "\n",
       "    .dataframe thead th {\n",
       "        text-align: right;\n",
       "    }\n",
       "</style>\n",
       "<table border=\"1\" class=\"dataframe\">\n",
       "  <thead>\n",
       "    <tr style=\"text-align: right;\">\n",
       "      <th></th>\n",
       "      <th>zip_code</th>\n",
       "      <th>no2</th>\n",
       "      <th>date</th>\n",
       "    </tr>\n",
       "  </thead>\n",
       "  <tbody>\n",
       "    <tr>\n",
       "      <th>0</th>\n",
       "      <td>75106</td>\n",
       "      <td>73</td>\n",
       "      <td>18/09/2017</td>\n",
       "    </tr>\n",
       "    <tr>\n",
       "      <th>1</th>\n",
       "      <td>75106</td>\n",
       "      <td>57</td>\n",
       "      <td>18/09/2017</td>\n",
       "    </tr>\n",
       "    <tr>\n",
       "      <th>2</th>\n",
       "      <td>75106</td>\n",
       "      <td>65</td>\n",
       "      <td>18/09/2017</td>\n",
       "    </tr>\n",
       "    <tr>\n",
       "      <th>3</th>\n",
       "      <td>75106</td>\n",
       "      <td>81</td>\n",
       "      <td>18/09/2017</td>\n",
       "    </tr>\n",
       "    <tr>\n",
       "      <th>4</th>\n",
       "      <td>75106</td>\n",
       "      <td>74</td>\n",
       "      <td>18/09/2017</td>\n",
       "    </tr>\n",
       "  </tbody>\n",
       "</table>\n",
       "</div>"
      ],
      "text/plain": [
       "   zip_code no2        date\n",
       "0     75106  73  18/09/2017\n",
       "1     75106  57  18/09/2017\n",
       "2     75106  65  18/09/2017\n",
       "3     75106  81  18/09/2017\n",
       "4     75106  74  18/09/2017"
      ]
     },
     "execution_count": 64,
     "metadata": {},
     "output_type": "execute_result"
    }
   ],
   "source": [
    "df.head()"
   ]
  },
  {
   "cell_type": "markdown",
   "metadata": {},
   "source": [
    "### Format Zip code"
   ]
  },
  {
   "cell_type": "code",
   "execution_count": 65,
   "metadata": {},
   "outputs": [],
   "source": [
    "df[\"zip_code\"]=df[\"zip_code\"].apply(lambda x:str(x))\n",
    "df[\"zip_code\"]=df[\"zip_code\"].apply(lambda x:\"750\"+ x[3:5])\n"
   ]
  },
  {
   "cell_type": "code",
   "execution_count": 66,
   "metadata": {},
   "outputs": [
    {
     "data": {
      "text/plain": [
       "19       677\n",
       "21       653\n",
       "23       652\n",
       "20       651\n",
       "15       632\n",
       "        ... \n",
       "147,1      1\n",
       "122,8      1\n",
       "143,8      1\n",
       "145,3      1\n",
       "150        1\n",
       "Name: no2, Length: 1722, dtype: int64"
      ]
     },
     "execution_count": 66,
     "metadata": {},
     "output_type": "execute_result"
    }
   ],
   "source": [
    "df[\"no2\"].value_counts()"
   ]
  },
  {
   "cell_type": "markdown",
   "metadata": {},
   "source": [
    "### format number of traffic (value)"
   ]
  },
  {
   "cell_type": "code",
   "execution_count": 67,
   "metadata": {},
   "outputs": [],
   "source": [
    "df[\"no2\"]=df[\"no2\"].apply(lambda x:str(x))"
   ]
  },
  {
   "cell_type": "code",
   "execution_count": 68,
   "metadata": {},
   "outputs": [],
   "source": [
    "import ast\n",
    "df[\"no2\"]=df[\"no2\"].apply(lambda x:x.split(\",\")[0] if ',' in x else int(x))"
   ]
  },
  {
   "cell_type": "code",
   "execution_count": 69,
   "metadata": {},
   "outputs": [],
   "source": [
    "df[\"no2\"]=df[\"no2\"].apply(lambda x:int(x))"
   ]
  },
  {
   "cell_type": "code",
   "execution_count": 70,
   "metadata": {},
   "outputs": [
    {
     "data": {
      "text/html": [
       "<div>\n",
       "<style scoped>\n",
       "    .dataframe tbody tr th:only-of-type {\n",
       "        vertical-align: middle;\n",
       "    }\n",
       "\n",
       "    .dataframe tbody tr th {\n",
       "        vertical-align: top;\n",
       "    }\n",
       "\n",
       "    .dataframe thead th {\n",
       "        text-align: right;\n",
       "    }\n",
       "</style>\n",
       "<table border=\"1\" class=\"dataframe\">\n",
       "  <thead>\n",
       "    <tr style=\"text-align: right;\">\n",
       "      <th></th>\n",
       "      <th>zip_code</th>\n",
       "      <th>no2</th>\n",
       "      <th>date</th>\n",
       "    </tr>\n",
       "  </thead>\n",
       "  <tbody>\n",
       "    <tr>\n",
       "      <th>0</th>\n",
       "      <td>75006</td>\n",
       "      <td>73</td>\n",
       "      <td>18/09/2017</td>\n",
       "    </tr>\n",
       "    <tr>\n",
       "      <th>1</th>\n",
       "      <td>75006</td>\n",
       "      <td>57</td>\n",
       "      <td>18/09/2017</td>\n",
       "    </tr>\n",
       "    <tr>\n",
       "      <th>2</th>\n",
       "      <td>75006</td>\n",
       "      <td>65</td>\n",
       "      <td>18/09/2017</td>\n",
       "    </tr>\n",
       "    <tr>\n",
       "      <th>3</th>\n",
       "      <td>75006</td>\n",
       "      <td>81</td>\n",
       "      <td>18/09/2017</td>\n",
       "    </tr>\n",
       "    <tr>\n",
       "      <th>4</th>\n",
       "      <td>75006</td>\n",
       "      <td>74</td>\n",
       "      <td>18/09/2017</td>\n",
       "    </tr>\n",
       "  </tbody>\n",
       "</table>\n",
       "</div>"
      ],
      "text/plain": [
       "  zip_code  no2        date\n",
       "0    75006   73  18/09/2017\n",
       "1    75006   57  18/09/2017\n",
       "2    75006   65  18/09/2017\n",
       "3    75006   81  18/09/2017\n",
       "4    75006   74  18/09/2017"
      ]
     },
     "execution_count": 70,
     "metadata": {},
     "output_type": "execute_result"
    }
   ],
   "source": [
    "df.head()"
   ]
  },
  {
   "cell_type": "markdown",
   "metadata": {},
   "source": [
    "### format date"
   ]
  },
  {
   "cell_type": "code",
   "execution_count": 87,
   "metadata": {},
   "outputs": [
    {
     "data": {
      "text/plain": [
       "176151   2019-01-10\n",
       "176152   2019-01-10\n",
       "176153   2019-01-10\n",
       "176154   2019-01-10\n",
       "176155   2019-01-10\n",
       "            ...    \n",
       "407245   2020-11-19\n",
       "407246   2020-11-19\n",
       "407247   2020-11-19\n",
       "407248   2020-11-19\n",
       "407249   2020-11-19\n",
       "Name: date, Length: 63623, dtype: datetime64[ns]"
      ]
     },
     "execution_count": 87,
     "metadata": {},
     "output_type": "execute_result"
    }
   ],
   "source": [
    "pd.to_datetime(df['date'])"
   ]
  },
  {
   "cell_type": "code",
   "execution_count": 88,
   "metadata": {},
   "outputs": [],
   "source": [
    "#df['date']=pd.to_datetime(df['date'].astype(str), format='%d/%m/%Y')"
   ]
  },
  {
   "cell_type": "markdown",
   "metadata": {},
   "source": [
    "### Select date between 01/10/2019 to 19/11/2020"
   ]
  },
  {
   "cell_type": "code",
   "execution_count": 89,
   "metadata": {},
   "outputs": [
    {
     "data": {
      "text/plain": [
       "(63623, 8)"
      ]
     },
     "execution_count": 89,
     "metadata": {},
     "output_type": "execute_result"
    }
   ],
   "source": [
    "df.shape"
   ]
  },
  {
   "cell_type": "code",
   "execution_count": 90,
   "metadata": {},
   "outputs": [
    {
     "data": {
      "text/plain": [
       "Timestamp('2020-11-19 00:00:00')"
      ]
     },
     "execution_count": 90,
     "metadata": {},
     "output_type": "execute_result"
    }
   ],
   "source": [
    "df[\"date\"].max()"
   ]
  },
  {
   "cell_type": "code",
   "execution_count": 91,
   "metadata": {},
   "outputs": [
    {
     "data": {
      "text/plain": [
       "Timestamp('2019-01-10 00:00:00')"
      ]
     },
     "execution_count": 91,
     "metadata": {},
     "output_type": "execute_result"
    }
   ],
   "source": [
    "df[\"date\"].min()"
   ]
  },
  {
   "cell_type": "code",
   "execution_count": 92,
   "metadata": {},
   "outputs": [],
   "source": [
    "df=df[df[\"date\"]>=\"01/10/2019\"]"
   ]
  },
  {
   "cell_type": "code",
   "execution_count": 93,
   "metadata": {},
   "outputs": [
    {
     "data": {
      "text/plain": [
       "(63623, 8)"
      ]
     },
     "execution_count": 93,
     "metadata": {},
     "output_type": "execute_result"
    }
   ],
   "source": [
    "df.shape"
   ]
  },
  {
   "cell_type": "code",
   "execution_count": 94,
   "metadata": {},
   "outputs": [
    {
     "data": {
      "text/plain": [
       "Timestamp('2020-11-19 00:00:00')"
      ]
     },
     "execution_count": 94,
     "metadata": {},
     "output_type": "execute_result"
    }
   ],
   "source": [
    "df[\"date\"].max()"
   ]
  },
  {
   "cell_type": "code",
   "execution_count": 95,
   "metadata": {},
   "outputs": [
    {
     "data": {
      "text/plain": [
       "Timestamp('2019-01-10 00:00:00')"
      ]
     },
     "execution_count": 95,
     "metadata": {},
     "output_type": "execute_result"
    }
   ],
   "source": [
    "df[\"date\"].min()"
   ]
  },
  {
   "cell_type": "code",
   "execution_count": 96,
   "metadata": {},
   "outputs": [
    {
     "data": {
      "text/html": [
       "<div>\n",
       "<style scoped>\n",
       "    .dataframe tbody tr th:only-of-type {\n",
       "        vertical-align: middle;\n",
       "    }\n",
       "\n",
       "    .dataframe tbody tr th {\n",
       "        vertical-align: top;\n",
       "    }\n",
       "\n",
       "    .dataframe thead th {\n",
       "        text-align: right;\n",
       "    }\n",
       "</style>\n",
       "<table border=\"1\" class=\"dataframe\">\n",
       "  <thead>\n",
       "    <tr style=\"text-align: right;\">\n",
       "      <th></th>\n",
       "      <th>zip_code</th>\n",
       "      <th>no2</th>\n",
       "      <th>date</th>\n",
       "      <th>date_str</th>\n",
       "      <th>year</th>\n",
       "      <th>month</th>\n",
       "      <th>day</th>\n",
       "      <th>weekday</th>\n",
       "    </tr>\n",
       "  </thead>\n",
       "  <tbody>\n",
       "    <tr>\n",
       "      <th>407245</th>\n",
       "      <td>75015</td>\n",
       "      <td>4</td>\n",
       "      <td>2020-11-19</td>\n",
       "      <td>2020-11-19 00:00:00</td>\n",
       "      <td>2020</td>\n",
       "      <td>11</td>\n",
       "      <td>3</td>\n",
       "      <td>Thursday</td>\n",
       "    </tr>\n",
       "    <tr>\n",
       "      <th>407246</th>\n",
       "      <td>75015</td>\n",
       "      <td>3</td>\n",
       "      <td>2020-11-19</td>\n",
       "      <td>2020-11-19 00:00:00</td>\n",
       "      <td>2020</td>\n",
       "      <td>11</td>\n",
       "      <td>3</td>\n",
       "      <td>Thursday</td>\n",
       "    </tr>\n",
       "    <tr>\n",
       "      <th>407247</th>\n",
       "      <td>75015</td>\n",
       "      <td>3</td>\n",
       "      <td>2020-11-19</td>\n",
       "      <td>2020-11-19 00:00:00</td>\n",
       "      <td>2020</td>\n",
       "      <td>11</td>\n",
       "      <td>3</td>\n",
       "      <td>Thursday</td>\n",
       "    </tr>\n",
       "    <tr>\n",
       "      <th>407248</th>\n",
       "      <td>75015</td>\n",
       "      <td>9</td>\n",
       "      <td>2020-11-19</td>\n",
       "      <td>2020-11-19 00:00:00</td>\n",
       "      <td>2020</td>\n",
       "      <td>11</td>\n",
       "      <td>3</td>\n",
       "      <td>Thursday</td>\n",
       "    </tr>\n",
       "    <tr>\n",
       "      <th>407249</th>\n",
       "      <td>75015</td>\n",
       "      <td>15</td>\n",
       "      <td>2020-11-19</td>\n",
       "      <td>2020-11-19 00:00:00</td>\n",
       "      <td>2020</td>\n",
       "      <td>11</td>\n",
       "      <td>3</td>\n",
       "      <td>Thursday</td>\n",
       "    </tr>\n",
       "  </tbody>\n",
       "</table>\n",
       "</div>"
      ],
      "text/plain": [
       "       zip_code  no2       date             date_str  year month  day  \\\n",
       "407245    75015    4 2020-11-19  2020-11-19 00:00:00  2020    11    3   \n",
       "407246    75015    3 2020-11-19  2020-11-19 00:00:00  2020    11    3   \n",
       "407247    75015    3 2020-11-19  2020-11-19 00:00:00  2020    11    3   \n",
       "407248    75015    9 2020-11-19  2020-11-19 00:00:00  2020    11    3   \n",
       "407249    75015   15 2020-11-19  2020-11-19 00:00:00  2020    11    3   \n",
       "\n",
       "         weekday  \n",
       "407245  Thursday  \n",
       "407246  Thursday  \n",
       "407247  Thursday  \n",
       "407248  Thursday  \n",
       "407249  Thursday  "
      ]
     },
     "execution_count": 96,
     "metadata": {},
     "output_type": "execute_result"
    }
   ],
   "source": [
    "df.tail()"
   ]
  },
  {
   "cell_type": "code",
   "execution_count": 97,
   "metadata": {},
   "outputs": [
    {
     "data": {
      "text/html": [
       "<div>\n",
       "<style scoped>\n",
       "    .dataframe tbody tr th:only-of-type {\n",
       "        vertical-align: middle;\n",
       "    }\n",
       "\n",
       "    .dataframe tbody tr th {\n",
       "        vertical-align: top;\n",
       "    }\n",
       "\n",
       "    .dataframe thead th {\n",
       "        text-align: right;\n",
       "    }\n",
       "</style>\n",
       "<table border=\"1\" class=\"dataframe\">\n",
       "  <thead>\n",
       "    <tr style=\"text-align: right;\">\n",
       "      <th></th>\n",
       "      <th>zip_code</th>\n",
       "      <th>no2</th>\n",
       "      <th>date</th>\n",
       "    </tr>\n",
       "  </thead>\n",
       "  <tbody>\n",
       "    <tr>\n",
       "      <th>176151</th>\n",
       "      <td>75006</td>\n",
       "      <td>31</td>\n",
       "      <td>2019-01-10</td>\n",
       "    </tr>\n",
       "    <tr>\n",
       "      <th>176152</th>\n",
       "      <td>75006</td>\n",
       "      <td>28</td>\n",
       "      <td>2019-01-10</td>\n",
       "    </tr>\n",
       "    <tr>\n",
       "      <th>176153</th>\n",
       "      <td>75006</td>\n",
       "      <td>27</td>\n",
       "      <td>2019-01-10</td>\n",
       "    </tr>\n",
       "    <tr>\n",
       "      <th>176154</th>\n",
       "      <td>75006</td>\n",
       "      <td>27</td>\n",
       "      <td>2019-01-10</td>\n",
       "    </tr>\n",
       "    <tr>\n",
       "      <th>176155</th>\n",
       "      <td>75006</td>\n",
       "      <td>36</td>\n",
       "      <td>2019-01-10</td>\n",
       "    </tr>\n",
       "  </tbody>\n",
       "</table>\n",
       "</div>"
      ],
      "text/plain": [
       "       zip_code  no2       date\n",
       "176151    75006   31 2019-01-10\n",
       "176152    75006   28 2019-01-10\n",
       "176153    75006   27 2019-01-10\n",
       "176154    75006   27 2019-01-10\n",
       "176155    75006   36 2019-01-10"
      ]
     },
     "execution_count": 97,
     "metadata": {},
     "output_type": "execute_result"
    }
   ],
   "source": [
    "df=df[[\"zip_code\",\"no2\",\"date\"]]\n",
    "df.head()"
   ]
  },
  {
   "cell_type": "markdown",
   "metadata": {},
   "source": [
    "### extract year month weekday"
   ]
  },
  {
   "cell_type": "code",
   "execution_count": 98,
   "metadata": {},
   "outputs": [],
   "source": [
    "df[\"date_str\"]=df[\"date\"].apply(lambda x:str(x))\n",
    "df[\"year\"]=df[\"date_str\"].apply(lambda x:x.split(\"-\")[0])\n",
    "df[\"month\"]=df[\"date_str\"].apply(lambda x:x.split(\"-\")[1])"
   ]
  },
  {
   "cell_type": "code",
   "execution_count": 99,
   "metadata": {},
   "outputs": [],
   "source": [
    "df['day'] = pd.to_datetime(df['date']).apply(lambda x: x.weekday())"
   ]
  },
  {
   "cell_type": "code",
   "execution_count": 100,
   "metadata": {},
   "outputs": [],
   "source": [
    "#Monday=0,Tuesday=1,Wednesday=2,Thursday=3,Friday=5,Saturday=5,Sunday=6\n",
    "def func(x):\n",
    "    if x ==0:\n",
    "        return \"Monday\"\n",
    "    elif x==1:\n",
    "        return \"Tuesday\"\n",
    "    elif x==2:\n",
    "        return \"Wednesday\"\n",
    "    elif x==3:\n",
    "        return \"Thursday\"\n",
    "    elif x==4:\n",
    "        return \"Friday\"\n",
    "    elif x==5:\n",
    "        return \"Saturday\"\n",
    "    elif x==6:\n",
    "        return \"Sunday\"\n",
    "    else:\n",
    "        return \"null\"\n",
    "    # Add elif statements....\n",
    "\n",
    "df['weekday'] = df['day'].apply(func)"
   ]
  },
  {
   "cell_type": "code",
   "execution_count": null,
   "metadata": {},
   "outputs": [],
   "source": [
    "# another technic to access weekday\n",
    "df['day_of_week'] = df['my_dates'].dt.day_name()\n"
   ]
  },
  {
   "cell_type": "code",
   "execution_count": 101,
   "metadata": {},
   "outputs": [
    {
     "data": {
      "text/html": [
       "<div>\n",
       "<style scoped>\n",
       "    .dataframe tbody tr th:only-of-type {\n",
       "        vertical-align: middle;\n",
       "    }\n",
       "\n",
       "    .dataframe tbody tr th {\n",
       "        vertical-align: top;\n",
       "    }\n",
       "\n",
       "    .dataframe thead th {\n",
       "        text-align: right;\n",
       "    }\n",
       "</style>\n",
       "<table border=\"1\" class=\"dataframe\">\n",
       "  <thead>\n",
       "    <tr style=\"text-align: right;\">\n",
       "      <th></th>\n",
       "      <th>zip_code</th>\n",
       "      <th>no2</th>\n",
       "      <th>date</th>\n",
       "      <th>date_str</th>\n",
       "      <th>year</th>\n",
       "      <th>month</th>\n",
       "      <th>day</th>\n",
       "      <th>weekday</th>\n",
       "    </tr>\n",
       "  </thead>\n",
       "  <tbody>\n",
       "    <tr>\n",
       "      <th>407245</th>\n",
       "      <td>75015</td>\n",
       "      <td>4</td>\n",
       "      <td>2020-11-19</td>\n",
       "      <td>2020-11-19 00:00:00</td>\n",
       "      <td>2020</td>\n",
       "      <td>11</td>\n",
       "      <td>3</td>\n",
       "      <td>Thursday</td>\n",
       "    </tr>\n",
       "    <tr>\n",
       "      <th>407246</th>\n",
       "      <td>75015</td>\n",
       "      <td>3</td>\n",
       "      <td>2020-11-19</td>\n",
       "      <td>2020-11-19 00:00:00</td>\n",
       "      <td>2020</td>\n",
       "      <td>11</td>\n",
       "      <td>3</td>\n",
       "      <td>Thursday</td>\n",
       "    </tr>\n",
       "    <tr>\n",
       "      <th>407247</th>\n",
       "      <td>75015</td>\n",
       "      <td>3</td>\n",
       "      <td>2020-11-19</td>\n",
       "      <td>2020-11-19 00:00:00</td>\n",
       "      <td>2020</td>\n",
       "      <td>11</td>\n",
       "      <td>3</td>\n",
       "      <td>Thursday</td>\n",
       "    </tr>\n",
       "    <tr>\n",
       "      <th>407248</th>\n",
       "      <td>75015</td>\n",
       "      <td>9</td>\n",
       "      <td>2020-11-19</td>\n",
       "      <td>2020-11-19 00:00:00</td>\n",
       "      <td>2020</td>\n",
       "      <td>11</td>\n",
       "      <td>3</td>\n",
       "      <td>Thursday</td>\n",
       "    </tr>\n",
       "    <tr>\n",
       "      <th>407249</th>\n",
       "      <td>75015</td>\n",
       "      <td>15</td>\n",
       "      <td>2020-11-19</td>\n",
       "      <td>2020-11-19 00:00:00</td>\n",
       "      <td>2020</td>\n",
       "      <td>11</td>\n",
       "      <td>3</td>\n",
       "      <td>Thursday</td>\n",
       "    </tr>\n",
       "  </tbody>\n",
       "</table>\n",
       "</div>"
      ],
      "text/plain": [
       "       zip_code  no2       date             date_str  year month  day  \\\n",
       "407245    75015    4 2020-11-19  2020-11-19 00:00:00  2020    11    3   \n",
       "407246    75015    3 2020-11-19  2020-11-19 00:00:00  2020    11    3   \n",
       "407247    75015    3 2020-11-19  2020-11-19 00:00:00  2020    11    3   \n",
       "407248    75015    9 2020-11-19  2020-11-19 00:00:00  2020    11    3   \n",
       "407249    75015   15 2020-11-19  2020-11-19 00:00:00  2020    11    3   \n",
       "\n",
       "         weekday  \n",
       "407245  Thursday  \n",
       "407246  Thursday  \n",
       "407247  Thursday  \n",
       "407248  Thursday  \n",
       "407249  Thursday  "
      ]
     },
     "execution_count": 101,
     "metadata": {},
     "output_type": "execute_result"
    }
   ],
   "source": [
    "df.tail()"
   ]
  },
  {
   "cell_type": "code",
   "execution_count": 102,
   "metadata": {},
   "outputs": [
    {
     "data": {
      "text/plain": [
       "Wednesday    9309\n",
       "Tuesday      9185\n",
       "Thursday     9094\n",
       "Saturday     9088\n",
       "Sunday       9013\n",
       "Monday       8989\n",
       "Friday       8945\n",
       "Name: weekday, dtype: int64"
      ]
     },
     "execution_count": 102,
     "metadata": {},
     "output_type": "execute_result"
    }
   ],
   "source": [
    "df['weekday'].value_counts()"
   ]
  },
  {
   "cell_type": "markdown",
   "metadata": {},
   "source": [
    "### save to csv"
   ]
  },
  {
   "cell_type": "code",
   "execution_count": 103,
   "metadata": {},
   "outputs": [],
   "source": [
    "df.to_csv(\"C:/Users/Administrateur/Documents/bike_project/pollution_no2_final.csv\", sep=\";\", encoding=\"utf-8\")"
   ]
  },
  {
   "cell_type": "markdown",
   "metadata": {},
   "source": [
    "### import csv file"
   ]
  },
  {
   "cell_type": "code",
   "execution_count": 104,
   "metadata": {},
   "outputs": [
    {
     "data": {
      "text/html": [
       "<div>\n",
       "<style scoped>\n",
       "    .dataframe tbody tr th:only-of-type {\n",
       "        vertical-align: middle;\n",
       "    }\n",
       "\n",
       "    .dataframe tbody tr th {\n",
       "        vertical-align: top;\n",
       "    }\n",
       "\n",
       "    .dataframe thead th {\n",
       "        text-align: right;\n",
       "    }\n",
       "</style>\n",
       "<table border=\"1\" class=\"dataframe\">\n",
       "  <thead>\n",
       "    <tr style=\"text-align: right;\">\n",
       "      <th></th>\n",
       "      <th>zip_code</th>\n",
       "      <th>no2</th>\n",
       "      <th>date</th>\n",
       "      <th>date_str</th>\n",
       "      <th>year</th>\n",
       "      <th>month</th>\n",
       "      <th>day</th>\n",
       "      <th>weekday</th>\n",
       "    </tr>\n",
       "  </thead>\n",
       "  <tbody>\n",
       "    <tr>\n",
       "      <th>407245</th>\n",
       "      <td>75015</td>\n",
       "      <td>4</td>\n",
       "      <td>2020-11-19</td>\n",
       "      <td>2020-11-19 00:00:00</td>\n",
       "      <td>2020</td>\n",
       "      <td>11</td>\n",
       "      <td>3</td>\n",
       "      <td>Thursday</td>\n",
       "    </tr>\n",
       "    <tr>\n",
       "      <th>407246</th>\n",
       "      <td>75015</td>\n",
       "      <td>3</td>\n",
       "      <td>2020-11-19</td>\n",
       "      <td>2020-11-19 00:00:00</td>\n",
       "      <td>2020</td>\n",
       "      <td>11</td>\n",
       "      <td>3</td>\n",
       "      <td>Thursday</td>\n",
       "    </tr>\n",
       "    <tr>\n",
       "      <th>407247</th>\n",
       "      <td>75015</td>\n",
       "      <td>3</td>\n",
       "      <td>2020-11-19</td>\n",
       "      <td>2020-11-19 00:00:00</td>\n",
       "      <td>2020</td>\n",
       "      <td>11</td>\n",
       "      <td>3</td>\n",
       "      <td>Thursday</td>\n",
       "    </tr>\n",
       "    <tr>\n",
       "      <th>407248</th>\n",
       "      <td>75015</td>\n",
       "      <td>9</td>\n",
       "      <td>2020-11-19</td>\n",
       "      <td>2020-11-19 00:00:00</td>\n",
       "      <td>2020</td>\n",
       "      <td>11</td>\n",
       "      <td>3</td>\n",
       "      <td>Thursday</td>\n",
       "    </tr>\n",
       "    <tr>\n",
       "      <th>407249</th>\n",
       "      <td>75015</td>\n",
       "      <td>15</td>\n",
       "      <td>2020-11-19</td>\n",
       "      <td>2020-11-19 00:00:00</td>\n",
       "      <td>2020</td>\n",
       "      <td>11</td>\n",
       "      <td>3</td>\n",
       "      <td>Thursday</td>\n",
       "    </tr>\n",
       "  </tbody>\n",
       "</table>\n",
       "</div>"
      ],
      "text/plain": [
       "        zip_code  no2        date             date_str  year  month  day  \\\n",
       "407245     75015    4  2020-11-19  2020-11-19 00:00:00  2020     11    3   \n",
       "407246     75015    3  2020-11-19  2020-11-19 00:00:00  2020     11    3   \n",
       "407247     75015    3  2020-11-19  2020-11-19 00:00:00  2020     11    3   \n",
       "407248     75015    9  2020-11-19  2020-11-19 00:00:00  2020     11    3   \n",
       "407249     75015   15  2020-11-19  2020-11-19 00:00:00  2020     11    3   \n",
       "\n",
       "         weekday  \n",
       "407245  Thursday  \n",
       "407246  Thursday  \n",
       "407247  Thursday  \n",
       "407248  Thursday  \n",
       "407249  Thursday  "
      ]
     },
     "execution_count": 104,
     "metadata": {},
     "output_type": "execute_result"
    }
   ],
   "source": [
    "# save dataset to csv \n",
    "df=pd.read_csv(\"C:/Users/Administrateur/Documents/bike_project/pollution_no2_final.csv\", delimiter=\";\",index_col=0)\n",
    "df.tail()"
   ]
  },
  {
   "cell_type": "code",
   "execution_count": 116,
   "metadata": {},
   "outputs": [
    {
     "data": {
      "text/plain": [
       "zip_code    0\n",
       "no2         0\n",
       "date        0\n",
       "date_str    0\n",
       "year        0\n",
       "month       0\n",
       "day         0\n",
       "weekday     0\n",
       "dtype: int64"
      ]
     },
     "execution_count": 116,
     "metadata": {},
     "output_type": "execute_result"
    }
   ],
   "source": [
    "df.isna().sum()"
   ]
  },
  {
   "cell_type": "code",
   "execution_count": 105,
   "metadata": {},
   "outputs": [],
   "source": [
    "# Synthese de pre process du dataset : nous avons 8 arrondissement date entre 2019-01-10 et le 2020-11-18"
   ]
  },
  {
   "cell_type": "markdown",
   "metadata": {},
   "source": [
    "### GroupBY"
   ]
  },
  {
   "cell_type": "code",
   "execution_count": 108,
   "metadata": {},
   "outputs": [
    {
     "data": {
      "text/html": [
       "<div>\n",
       "<style scoped>\n",
       "    .dataframe tbody tr th:only-of-type {\n",
       "        vertical-align: middle;\n",
       "    }\n",
       "\n",
       "    .dataframe tbody tr th {\n",
       "        vertical-align: top;\n",
       "    }\n",
       "\n",
       "    .dataframe thead th {\n",
       "        text-align: right;\n",
       "    }\n",
       "</style>\n",
       "<table border=\"1\" class=\"dataframe\">\n",
       "  <thead>\n",
       "    <tr style=\"text-align: right;\">\n",
       "      <th></th>\n",
       "      <th></th>\n",
       "      <th>len</th>\n",
       "      <th>min</th>\n",
       "      <th>max</th>\n",
       "    </tr>\n",
       "    <tr>\n",
       "      <th>zip_code</th>\n",
       "      <th>year</th>\n",
       "      <th></th>\n",
       "      <th></th>\n",
       "      <th></th>\n",
       "    </tr>\n",
       "  </thead>\n",
       "  <tbody>\n",
       "    <tr>\n",
       "      <th rowspan=\"2\" valign=\"top\">75002</th>\n",
       "      <th>2019</th>\n",
       "      <td>7130</td>\n",
       "      <td>5</td>\n",
       "      <td>224</td>\n",
       "    </tr>\n",
       "    <tr>\n",
       "      <th>2020</th>\n",
       "      <td>6943</td>\n",
       "      <td>2</td>\n",
       "      <td>228</td>\n",
       "    </tr>\n",
       "    <tr>\n",
       "      <th>75004</th>\n",
       "      <th>2019</th>\n",
       "      <td>5502</td>\n",
       "      <td>4</td>\n",
       "      <td>127</td>\n",
       "    </tr>\n",
       "    <tr>\n",
       "      <th rowspan=\"2\" valign=\"top\">75006</th>\n",
       "      <th>2019</th>\n",
       "      <td>7836</td>\n",
       "      <td>5</td>\n",
       "      <td>146</td>\n",
       "    </tr>\n",
       "    <tr>\n",
       "      <th>2020</th>\n",
       "      <td>7090</td>\n",
       "      <td>1</td>\n",
       "      <td>115</td>\n",
       "    </tr>\n",
       "    <tr>\n",
       "      <th rowspan=\"2\" valign=\"top\">75012</th>\n",
       "      <th>2019</th>\n",
       "      <td>7880</td>\n",
       "      <td>4</td>\n",
       "      <td>383</td>\n",
       "    </tr>\n",
       "    <tr>\n",
       "      <th>2020</th>\n",
       "      <td>7122</td>\n",
       "      <td>3</td>\n",
       "      <td>172</td>\n",
       "    </tr>\n",
       "    <tr>\n",
       "      <th rowspan=\"2\" valign=\"top\">75015</th>\n",
       "      <th>2019</th>\n",
       "      <td>7021</td>\n",
       "      <td>1</td>\n",
       "      <td>122</td>\n",
       "    </tr>\n",
       "    <tr>\n",
       "      <th>2020</th>\n",
       "      <td>7099</td>\n",
       "      <td>0</td>\n",
       "      <td>125</td>\n",
       "    </tr>\n",
       "  </tbody>\n",
       "</table>\n",
       "</div>"
      ],
      "text/plain": [
       "                len  min  max\n",
       "zip_code year                \n",
       "75002    2019  7130    5  224\n",
       "         2020  6943    2  228\n",
       "75004    2019  5502    4  127\n",
       "75006    2019  7836    5  146\n",
       "         2020  7090    1  115\n",
       "75012    2019  7880    4  383\n",
       "         2020  7122    3  172\n",
       "75015    2019  7021    1  122\n",
       "         2020  7099    0  125"
      ]
     },
     "execution_count": 108,
     "metadata": {},
     "output_type": "execute_result"
    }
   ],
   "source": [
    "df.groupby(['zip_code',\"year\"]).no2.agg([len, min, max])"
   ]
  },
  {
   "cell_type": "code",
   "execution_count": 110,
   "metadata": {},
   "outputs": [
    {
     "data": {
      "text/html": [
       "<div>\n",
       "<style scoped>\n",
       "    .dataframe tbody tr th:only-of-type {\n",
       "        vertical-align: middle;\n",
       "    }\n",
       "\n",
       "    .dataframe tbody tr th {\n",
       "        vertical-align: top;\n",
       "    }\n",
       "\n",
       "    .dataframe thead th {\n",
       "        text-align: right;\n",
       "    }\n",
       "</style>\n",
       "<table border=\"1\" class=\"dataframe\">\n",
       "  <thead>\n",
       "    <tr style=\"text-align: right;\">\n",
       "      <th></th>\n",
       "      <th></th>\n",
       "      <th>len</th>\n",
       "      <th>min</th>\n",
       "      <th>max</th>\n",
       "    </tr>\n",
       "    <tr>\n",
       "      <th>zip_code</th>\n",
       "      <th>weekday</th>\n",
       "      <th></th>\n",
       "      <th></th>\n",
       "      <th></th>\n",
       "    </tr>\n",
       "  </thead>\n",
       "  <tbody>\n",
       "    <tr>\n",
       "      <th rowspan=\"7\" valign=\"top\">75002</th>\n",
       "      <th>Friday</th>\n",
       "      <td>1990</td>\n",
       "      <td>3</td>\n",
       "      <td>149</td>\n",
       "    </tr>\n",
       "    <tr>\n",
       "      <th>Monday</th>\n",
       "      <td>2023</td>\n",
       "      <td>2</td>\n",
       "      <td>189</td>\n",
       "    </tr>\n",
       "    <tr>\n",
       "      <th>Saturday</th>\n",
       "      <td>1996</td>\n",
       "      <td>3</td>\n",
       "      <td>158</td>\n",
       "    </tr>\n",
       "    <tr>\n",
       "      <th>Sunday</th>\n",
       "      <td>1992</td>\n",
       "      <td>3</td>\n",
       "      <td>144</td>\n",
       "    </tr>\n",
       "    <tr>\n",
       "      <th>Thursday</th>\n",
       "      <td>2008</td>\n",
       "      <td>3</td>\n",
       "      <td>139</td>\n",
       "    </tr>\n",
       "    <tr>\n",
       "      <th>Tuesday</th>\n",
       "      <td>2016</td>\n",
       "      <td>4</td>\n",
       "      <td>228</td>\n",
       "    </tr>\n",
       "    <tr>\n",
       "      <th>Wednesday</th>\n",
       "      <td>2048</td>\n",
       "      <td>4</td>\n",
       "      <td>224</td>\n",
       "    </tr>\n",
       "    <tr>\n",
       "      <th rowspan=\"7\" valign=\"top\">75004</th>\n",
       "      <th>Friday</th>\n",
       "      <td>763</td>\n",
       "      <td>8</td>\n",
       "      <td>126</td>\n",
       "    </tr>\n",
       "    <tr>\n",
       "      <th>Monday</th>\n",
       "      <td>779</td>\n",
       "      <td>4</td>\n",
       "      <td>119</td>\n",
       "    </tr>\n",
       "    <tr>\n",
       "      <th>Saturday</th>\n",
       "      <td>797</td>\n",
       "      <td>5</td>\n",
       "      <td>127</td>\n",
       "    </tr>\n",
       "    <tr>\n",
       "      <th>Sunday</th>\n",
       "      <td>789</td>\n",
       "      <td>6</td>\n",
       "      <td>124</td>\n",
       "    </tr>\n",
       "    <tr>\n",
       "      <th>Thursday</th>\n",
       "      <td>785</td>\n",
       "      <td>6</td>\n",
       "      <td>124</td>\n",
       "    </tr>\n",
       "    <tr>\n",
       "      <th>Tuesday</th>\n",
       "      <td>802</td>\n",
       "      <td>6</td>\n",
       "      <td>97</td>\n",
       "    </tr>\n",
       "    <tr>\n",
       "      <th>Wednesday</th>\n",
       "      <td>787</td>\n",
       "      <td>6</td>\n",
       "      <td>121</td>\n",
       "    </tr>\n",
       "    <tr>\n",
       "      <th rowspan=\"7\" valign=\"top\">75006</th>\n",
       "      <th>Friday</th>\n",
       "      <td>2088</td>\n",
       "      <td>3</td>\n",
       "      <td>137</td>\n",
       "    </tr>\n",
       "    <tr>\n",
       "      <th>Monday</th>\n",
       "      <td>2102</td>\n",
       "      <td>1</td>\n",
       "      <td>125</td>\n",
       "    </tr>\n",
       "    <tr>\n",
       "      <th>Saturday</th>\n",
       "      <td>2110</td>\n",
       "      <td>3</td>\n",
       "      <td>146</td>\n",
       "    </tr>\n",
       "    <tr>\n",
       "      <th>Sunday</th>\n",
       "      <td>2096</td>\n",
       "      <td>1</td>\n",
       "      <td>136</td>\n",
       "    </tr>\n",
       "    <tr>\n",
       "      <th>Thursday</th>\n",
       "      <td>2172</td>\n",
       "      <td>3</td>\n",
       "      <td>137</td>\n",
       "    </tr>\n",
       "    <tr>\n",
       "      <th>Tuesday</th>\n",
       "      <td>2159</td>\n",
       "      <td>1</td>\n",
       "      <td>132</td>\n",
       "    </tr>\n",
       "    <tr>\n",
       "      <th>Wednesday</th>\n",
       "      <td>2199</td>\n",
       "      <td>3</td>\n",
       "      <td>142</td>\n",
       "    </tr>\n",
       "    <tr>\n",
       "      <th rowspan=\"7\" valign=\"top\">75012</th>\n",
       "      <th>Friday</th>\n",
       "      <td>2128</td>\n",
       "      <td>4</td>\n",
       "      <td>175</td>\n",
       "    </tr>\n",
       "    <tr>\n",
       "      <th>Monday</th>\n",
       "      <td>2115</td>\n",
       "      <td>3</td>\n",
       "      <td>179</td>\n",
       "    </tr>\n",
       "    <tr>\n",
       "      <th>Saturday</th>\n",
       "      <td>2150</td>\n",
       "      <td>5</td>\n",
       "      <td>161</td>\n",
       "    </tr>\n",
       "    <tr>\n",
       "      <th>Sunday</th>\n",
       "      <td>2101</td>\n",
       "      <td>3</td>\n",
       "      <td>179</td>\n",
       "    </tr>\n",
       "    <tr>\n",
       "      <th>Thursday</th>\n",
       "      <td>2131</td>\n",
       "      <td>4</td>\n",
       "      <td>383</td>\n",
       "    </tr>\n",
       "    <tr>\n",
       "      <th>Tuesday</th>\n",
       "      <td>2191</td>\n",
       "      <td>3</td>\n",
       "      <td>175</td>\n",
       "    </tr>\n",
       "    <tr>\n",
       "      <th>Wednesday</th>\n",
       "      <td>2186</td>\n",
       "      <td>6</td>\n",
       "      <td>179</td>\n",
       "    </tr>\n",
       "    <tr>\n",
       "      <th rowspan=\"7\" valign=\"top\">75015</th>\n",
       "      <th>Friday</th>\n",
       "      <td>1976</td>\n",
       "      <td>1</td>\n",
       "      <td>122</td>\n",
       "    </tr>\n",
       "    <tr>\n",
       "      <th>Monday</th>\n",
       "      <td>1970</td>\n",
       "      <td>0</td>\n",
       "      <td>125</td>\n",
       "    </tr>\n",
       "    <tr>\n",
       "      <th>Saturday</th>\n",
       "      <td>2035</td>\n",
       "      <td>0</td>\n",
       "      <td>107</td>\n",
       "    </tr>\n",
       "    <tr>\n",
       "      <th>Sunday</th>\n",
       "      <td>2035</td>\n",
       "      <td>0</td>\n",
       "      <td>96</td>\n",
       "    </tr>\n",
       "    <tr>\n",
       "      <th>Thursday</th>\n",
       "      <td>1998</td>\n",
       "      <td>0</td>\n",
       "      <td>104</td>\n",
       "    </tr>\n",
       "    <tr>\n",
       "      <th>Tuesday</th>\n",
       "      <td>2017</td>\n",
       "      <td>0</td>\n",
       "      <td>113</td>\n",
       "    </tr>\n",
       "    <tr>\n",
       "      <th>Wednesday</th>\n",
       "      <td>2089</td>\n",
       "      <td>0</td>\n",
       "      <td>111</td>\n",
       "    </tr>\n",
       "  </tbody>\n",
       "</table>\n",
       "</div>"
      ],
      "text/plain": [
       "                     len  min  max\n",
       "zip_code weekday                  \n",
       "75002    Friday     1990    3  149\n",
       "         Monday     2023    2  189\n",
       "         Saturday   1996    3  158\n",
       "         Sunday     1992    3  144\n",
       "         Thursday   2008    3  139\n",
       "         Tuesday    2016    4  228\n",
       "         Wednesday  2048    4  224\n",
       "75004    Friday      763    8  126\n",
       "         Monday      779    4  119\n",
       "         Saturday    797    5  127\n",
       "         Sunday      789    6  124\n",
       "         Thursday    785    6  124\n",
       "         Tuesday     802    6   97\n",
       "         Wednesday   787    6  121\n",
       "75006    Friday     2088    3  137\n",
       "         Monday     2102    1  125\n",
       "         Saturday   2110    3  146\n",
       "         Sunday     2096    1  136\n",
       "         Thursday   2172    3  137\n",
       "         Tuesday    2159    1  132\n",
       "         Wednesday  2199    3  142\n",
       "75012    Friday     2128    4  175\n",
       "         Monday     2115    3  179\n",
       "         Saturday   2150    5  161\n",
       "         Sunday     2101    3  179\n",
       "         Thursday   2131    4  383\n",
       "         Tuesday    2191    3  175\n",
       "         Wednesday  2186    6  179\n",
       "75015    Friday     1976    1  122\n",
       "         Monday     1970    0  125\n",
       "         Saturday   2035    0  107\n",
       "         Sunday     2035    0   96\n",
       "         Thursday   1998    0  104\n",
       "         Tuesday    2017    0  113\n",
       "         Wednesday  2089    0  111"
      ]
     },
     "execution_count": 110,
     "metadata": {},
     "output_type": "execute_result"
    }
   ],
   "source": [
    "df.groupby(['zip_code',\"weekday\"]).no2.agg([len, min, max])"
   ]
  },
  {
   "cell_type": "code",
   "execution_count": 111,
   "metadata": {},
   "outputs": [],
   "source": [
    "#moyenne de pollution par annnée dans chaque arrondissement "
   ]
  },
  {
   "cell_type": "code",
   "execution_count": 112,
   "metadata": {},
   "outputs": [
    {
     "data": {
      "text/plain": [
       "zip_code  year\n",
       "75002     2019    60.0\n",
       "          2020    37.0\n",
       "75004     2019    32.0\n",
       "75006     2019    46.0\n",
       "          2020    26.0\n",
       "75012     2019    61.0\n",
       "          2020    49.0\n",
       "75015     2019    25.0\n",
       "          2020    17.0\n",
       "Name: no2, dtype: float64"
      ]
     },
     "execution_count": 112,
     "metadata": {},
     "output_type": "execute_result"
    }
   ],
   "source": [
    "df.groupby(['zip_code', 'year']).no2.mean().round()"
   ]
  },
  {
   "cell_type": "code",
   "execution_count": 47,
   "metadata": {},
   "outputs": [],
   "source": [
    "#les jours par arrondissement les plus pollués "
   ]
  },
  {
   "cell_type": "code",
   "execution_count": 48,
   "metadata": {},
   "outputs": [
    {
     "data": {
      "text/html": [
       "<div>\n",
       "<style scoped>\n",
       "    .dataframe tbody tr th:only-of-type {\n",
       "        vertical-align: middle;\n",
       "    }\n",
       "\n",
       "    .dataframe tbody tr th {\n",
       "        vertical-align: top;\n",
       "    }\n",
       "\n",
       "    .dataframe thead th {\n",
       "        text-align: right;\n",
       "    }\n",
       "</style>\n",
       "<table border=\"1\" class=\"dataframe\">\n",
       "  <thead>\n",
       "    <tr style=\"text-align: right;\">\n",
       "      <th></th>\n",
       "      <th>zip_code</th>\n",
       "      <th>no2</th>\n",
       "      <th>date</th>\n",
       "      <th>date_str</th>\n",
       "      <th>year</th>\n",
       "      <th>month</th>\n",
       "      <th>day</th>\n",
       "      <th>weekday</th>\n",
       "    </tr>\n",
       "  </thead>\n",
       "  <tbody>\n",
       "    <tr>\n",
       "      <th>237043</th>\n",
       "      <td>75012</td>\n",
       "      <td>383</td>\n",
       "      <td>2019-07-11</td>\n",
       "      <td>2019-07-11 00:00:00</td>\n",
       "      <td>2019</td>\n",
       "      <td>7</td>\n",
       "      <td>1</td>\n",
       "      <td>Tuesday</td>\n",
       "    </tr>\n",
       "    <tr>\n",
       "      <th>385397</th>\n",
       "      <td>75002</td>\n",
       "      <td>228</td>\n",
       "      <td>2020-09-15</td>\n",
       "      <td>2020-09-15 00:00:00</td>\n",
       "      <td>2020</td>\n",
       "      <td>9</td>\n",
       "      <td>2</td>\n",
       "      <td>Wednesday</td>\n",
       "    </tr>\n",
       "    <tr>\n",
       "      <th>241474</th>\n",
       "      <td>75002</td>\n",
       "      <td>224</td>\n",
       "      <td>2019-07-24</td>\n",
       "      <td>2019-07-24 00:00:00</td>\n",
       "      <td>2019</td>\n",
       "      <td>7</td>\n",
       "      <td>1</td>\n",
       "      <td>Tuesday</td>\n",
       "    </tr>\n",
       "    <tr>\n",
       "      <th>241475</th>\n",
       "      <td>75002</td>\n",
       "      <td>223</td>\n",
       "      <td>2019-07-24</td>\n",
       "      <td>2019-07-24 00:00:00</td>\n",
       "      <td>2019</td>\n",
       "      <td>7</td>\n",
       "      <td>1</td>\n",
       "      <td>Tuesday</td>\n",
       "    </tr>\n",
       "    <tr>\n",
       "      <th>241904</th>\n",
       "      <td>75012</td>\n",
       "      <td>213</td>\n",
       "      <td>2019-07-25</td>\n",
       "      <td>2019-07-25 00:00:00</td>\n",
       "      <td>2019</td>\n",
       "      <td>7</td>\n",
       "      <td>1</td>\n",
       "      <td>Tuesday</td>\n",
       "    </tr>\n",
       "    <tr>\n",
       "      <th>...</th>\n",
       "      <td>...</td>\n",
       "      <td>...</td>\n",
       "      <td>...</td>\n",
       "      <td>...</td>\n",
       "      <td>...</td>\n",
       "      <td>...</td>\n",
       "      <td>...</td>\n",
       "      <td>...</td>\n",
       "    </tr>\n",
       "    <tr>\n",
       "      <th>358363</th>\n",
       "      <td>75015</td>\n",
       "      <td>0</td>\n",
       "      <td>2020-06-28</td>\n",
       "      <td>2020-06-28 00:00:00</td>\n",
       "      <td>2020</td>\n",
       "      <td>6</td>\n",
       "      <td>2</td>\n",
       "      <td>Wednesday</td>\n",
       "    </tr>\n",
       "    <tr>\n",
       "      <th>401191</th>\n",
       "      <td>75015</td>\n",
       "      <td>0</td>\n",
       "      <td>2020-11-01</td>\n",
       "      <td>2020-11-01 00:00:00</td>\n",
       "      <td>2020</td>\n",
       "      <td>11</td>\n",
       "      <td>2</td>\n",
       "      <td>Wednesday</td>\n",
       "    </tr>\n",
       "    <tr>\n",
       "      <th>368896</th>\n",
       "      <td>75015</td>\n",
       "      <td>0</td>\n",
       "      <td>2020-07-28</td>\n",
       "      <td>2020-07-28 00:00:00</td>\n",
       "      <td>2020</td>\n",
       "      <td>7</td>\n",
       "      <td>2</td>\n",
       "      <td>Wednesday</td>\n",
       "    </tr>\n",
       "    <tr>\n",
       "      <th>391960</th>\n",
       "      <td>75015</td>\n",
       "      <td>0</td>\n",
       "      <td>2020-10-05</td>\n",
       "      <td>2020-10-05 00:00:00</td>\n",
       "      <td>2020</td>\n",
       "      <td>10</td>\n",
       "      <td>2</td>\n",
       "      <td>Wednesday</td>\n",
       "    </tr>\n",
       "    <tr>\n",
       "      <th>360763</th>\n",
       "      <td>75015</td>\n",
       "      <td>0</td>\n",
       "      <td>2020-07-05</td>\n",
       "      <td>2020-07-05 00:00:00</td>\n",
       "      <td>2020</td>\n",
       "      <td>7</td>\n",
       "      <td>2</td>\n",
       "      <td>Wednesday</td>\n",
       "    </tr>\n",
       "  </tbody>\n",
       "</table>\n",
       "<p>63623 rows × 8 columns</p>\n",
       "</div>"
      ],
      "text/plain": [
       "        zip_code  no2        date             date_str  year  month  day  \\\n",
       "237043     75012  383  2019-07-11  2019-07-11 00:00:00  2019      7    1   \n",
       "385397     75002  228  2020-09-15  2020-09-15 00:00:00  2020      9    2   \n",
       "241474     75002  224  2019-07-24  2019-07-24 00:00:00  2019      7    1   \n",
       "241475     75002  223  2019-07-24  2019-07-24 00:00:00  2019      7    1   \n",
       "241904     75012  213  2019-07-25  2019-07-25 00:00:00  2019      7    1   \n",
       "...          ...  ...         ...                  ...   ...    ...  ...   \n",
       "358363     75015    0  2020-06-28  2020-06-28 00:00:00  2020      6    2   \n",
       "401191     75015    0  2020-11-01  2020-11-01 00:00:00  2020     11    2   \n",
       "368896     75015    0  2020-07-28  2020-07-28 00:00:00  2020      7    2   \n",
       "391960     75015    0  2020-10-05  2020-10-05 00:00:00  2020     10    2   \n",
       "360763     75015    0  2020-07-05  2020-07-05 00:00:00  2020      7    2   \n",
       "\n",
       "          weekday  \n",
       "237043    Tuesday  \n",
       "385397  Wednesday  \n",
       "241474    Tuesday  \n",
       "241475    Tuesday  \n",
       "241904    Tuesday  \n",
       "...           ...  \n",
       "358363  Wednesday  \n",
       "401191  Wednesday  \n",
       "368896  Wednesday  \n",
       "391960  Wednesday  \n",
       "360763  Wednesday  \n",
       "\n",
       "[63623 rows x 8 columns]"
      ]
     },
     "execution_count": 48,
     "metadata": {},
     "output_type": "execute_result"
    }
   ],
   "source": [
    "df.sort_values(by='no2',ascending=False)"
   ]
  },
  {
   "cell_type": "code",
   "execution_count": null,
   "metadata": {},
   "outputs": [],
   "source": []
  }
 ],
 "metadata": {
  "kernelspec": {
   "display_name": "Python 3",
   "language": "python",
   "name": "python3"
  },
  "language_info": {
   "codemirror_mode": {
    "name": "ipython",
    "version": 3
   },
   "file_extension": ".py",
   "mimetype": "text/x-python",
   "name": "python",
   "nbconvert_exporter": "python",
   "pygments_lexer": "ipython3",
   "version": "3.8.3"
  }
 },
 "nbformat": 4,
 "nbformat_minor": 4
}
