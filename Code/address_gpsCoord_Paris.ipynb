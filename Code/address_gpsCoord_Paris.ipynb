{
 "cells": [
  {
   "cell_type": "code",
   "execution_count": 8,
   "metadata": {},
   "outputs": [
    {
     "name": "stdout",
     "output_type": "stream",
     "text": [
      "Collecting pyspark\n",
      "  Downloading pyspark-3.0.1.tar.gz (204.2 MB)\n",
      "\u001b[K     |████████████████████████████████| 204.2 MB 182 kB/s eta 0:00:01\n",
      "\u001b[?25hCollecting py4j==0.10.9\n",
      "  Downloading py4j-0.10.9-py2.py3-none-any.whl (198 kB)\n",
      "\u001b[K     |████████████████████████████████| 198 kB 76 kB/s eta 0:00:01\n",
      "\u001b[?25hBuilding wheels for collected packages: pyspark\n",
      "  Building wheel for pyspark (setup.py) ... \u001b[?25ldone\n",
      "\u001b[?25h  Created wheel for pyspark: filename=pyspark-3.0.1-py2.py3-none-any.whl size=204612244 sha256=b43ee30922dca859d7314c7dc630d66a78c45e344c4b5f9ceefa4fc5236a3f12\n",
      "  Stored in directory: /home/fitec/.cache/pip/wheels/ea/21/84/970b03913d0d6a96ef51c34c878add0de9e4ecbb7c764ea21f\n",
      "Successfully built pyspark\n",
      "Installing collected packages: py4j, pyspark\n",
      "Successfully installed py4j-0.10.9 pyspark-3.0.1\n",
      "Note: you may need to restart the kernel to use updated packages.\n"
     ]
    }
   ],
   "source": [
    "#pip install pyspark"
   ]
  },
  {
   "cell_type": "code",
   "execution_count": 2,
   "metadata": {},
   "outputs": [],
   "source": [
    "from pyspark import SparkContext\n",
    "import numpy as np"
   ]
  },
  {
   "cell_type": "code",
   "execution_count": 3,
   "metadata": {},
   "outputs": [],
   "source": [
    "list = np.array([1,2,3,4,5,6,7,8,9])"
   ]
  },
  {
   "cell_type": "code",
   "execution_count": 10,
   "metadata": {},
   "outputs": [],
   "source": [
    "sc = SparkContext(master = \"local[8]\")"
   ]
  },
  {
   "cell_type": "code",
   "execution_count": 28,
   "metadata": {},
   "outputs": [
    {
     "name": "stdout",
     "output_type": "stream",
     "text": [
      "CPU times: user 2.04 ms, sys: 0 ns, total: 2.04 ms\n",
      "Wall time: 171 ms\n"
     ]
    }
   ],
   "source": [
    "%%time\n",
    "rd = sc.textFile(\"adresses_france.csv\")"
   ]
  },
  {
   "cell_type": "code",
   "execution_count": 33,
   "metadata": {},
   "outputs": [],
   "source": [
    "from pyspark.sql import SparkSession\n",
    "from pyspark.sql.functions import *\n",
    "from pyspark.sql.types import *\n",
    "\n",
    "spark = (SparkSession\n",
    "             .builder\n",
    "             .appName(\"Data Analysis on Covid 19 DataFrame\")\n",
    "             .enableHiveSupport()\n",
    "             .getOrCreate()\n",
    "            )"
   ]
  },
  {
   "cell_type": "code",
   "execution_count": 59,
   "metadata": {},
   "outputs": [],
   "source": [
    "#df = spark.read.csv(\"adresses_france.csv\")\n",
    "\n",
    "df = spark.read.format('csv').options(header='true').options(delimiter = \";\").load('adresses_france.csv')"
   ]
  },
  {
   "cell_type": "code",
   "execution_count": 60,
   "metadata": {},
   "outputs": [
    {
     "data": {
      "text/plain": [
       "[Row(id='01002_6zbsct_01082', id_fantoir=None, numero='1082', rep=None, nom_voie='Chemin de la Ferm de la Montagne', code_postal='01640', code_insee='01002', nom_commune=\"L'Abergement-de-Varey\", code_insee_ancienne_commune=None, nom_ancienne_commune=None, x='888160.78', y='6546952.4', lon='5.431457', lat='45.99623', alias=None, nom_ld=None, libelle_acheminement='ABERGEMENT-DE-VAREY (L )', nom_afnor='CHEMIN DE LA FERM DE LA MONTAGNE', source_position='inconnue', source_nom_voie='inconnue'),\n",
       " Row(id='01002_6zbsct_01083', id_fantoir=None, numero='1083', rep=None, nom_voie='Chemin de la Ferm de la Montagne', code_postal='01640', code_insee='01002', nom_commune=\"L'Abergement-de-Varey\", code_insee_ancienne_commune=None, nom_ancienne_commune=None, x='888196.41', y='6546947.17', lon='5.431915', lat='45.996173', alias=None, nom_ld=None, libelle_acheminement='ABERGEMENT-DE-VAREY (L )', nom_afnor='CHEMIN DE LA FERM DE LA MONTAGNE', source_position='inconnue', source_nom_voie='inconnue'),\n",
       " Row(id='01002_w4ld4h_00006', id_fantoir=None, numero='6', rep=None, nom_voie='Place du Pese Lait', code_postal='01640', code_insee='01002', nom_commune=\"L'Abergement-de-Varey\", code_insee_ancienne_commune=None, nom_ancienne_commune=None, x='887648.6', y='6547956.35', lon='5.425241', lat='46.005408', alias=None, nom_ld=None, libelle_acheminement='ABERGEMENT-DE-VAREY (L )', nom_afnor='PLACE DU PESE LAIT', source_position='inconnue', source_nom_voie='inconnue'),\n",
       " Row(id='01002_zvjvp5_00001', id_fantoir=None, numero='1', rep=None, nom_voie='Les Granges', code_postal='01640', code_insee='01002', nom_commune=\"L'Abergement-de-Varey\", code_insee_ancienne_commune=None, nom_ancienne_commune=None, x='887607.97', y='6549127.79', lon='5.425181', lat='46.015963', alias=None, nom_ld=None, libelle_acheminement='ABERGEMENT-DE-VAREY (L )', nom_afnor='LES GRANGES', source_position='inconnue', source_nom_voie='inconnue'),\n",
       " Row(id='01002_zvjvp5_00002', id_fantoir=None, numero='2', rep=None, nom_voie='Les Granges', code_postal='01640', code_insee='01002', nom_commune=\"L'Abergement-de-Varey\", code_insee_ancienne_commune=None, nom_ancienne_commune=None, x='887607.97', y='6549127.79', lon='5.425181', lat='46.015963', alias=None, nom_ld=None, libelle_acheminement='ABERGEMENT-DE-VAREY (L )', nom_afnor='LES GRANGES', source_position='inconnue', source_nom_voie='inconnue'),\n",
       " Row(id='01002_zvjvp5_00010', id_fantoir=None, numero='10', rep=None, nom_voie='Les Granges', code_postal='01640', code_insee='01002', nom_commune=\"L'Abergement-de-Varey\", code_insee_ancienne_commune=None, nom_ancienne_commune=None, x='887607.97', y='6549127.79', lon='5.425181', lat='46.015963', alias=None, nom_ld=None, libelle_acheminement='ABERGEMENT-DE-VAREY (L )', nom_afnor='LES GRANGES', source_position='inconnue', source_nom_voie='inconnue'),\n",
       " Row(id='01002_8vm0c9_01405', id_fantoir=None, numero='1405', rep=None, nom_voie='Dalivoy', code_postal='01640', code_insee='01002', nom_commune=\"L'Abergement-de-Varey\", code_insee_ancienne_commune=None, nom_ancienne_commune=None, x='888193.28', y='6549607.17', lon='5.432933', lat='46.020116', alias=None, nom_ld=None, libelle_acheminement='ABERGEMENT-DE-VAREY (L )', nom_afnor='DALIVOY', source_position='arcep', source_nom_voie='arcep'),\n",
       " Row(id='01002_8vm0c9_01423', id_fantoir=None, numero='1423', rep=None, nom_voie='Dalivoy', code_postal='01640', code_insee='01002', nom_commune=\"L'Abergement-de-Varey\", code_insee_ancienne_commune=None, nom_ancienne_commune=None, x='888255.44', y='6549634.59', lon='5.433747', lat='46.020345', alias=None, nom_ld=None, libelle_acheminement='ABERGEMENT-DE-VAREY (L )', nom_afnor='DALIVOY', source_position='arcep', source_nom_voie='arcep'),\n",
       " Row(id='01002_lmxwkc_00291', id_fantoir=None, numero='291', rep=None, nom_voie='La Forêt', code_postal='01640', code_insee='01002', nom_commune=\"L'Abergement-de-Varey\", code_insee_ancienne_commune=None, nom_ancienne_commune=None, x='887463.9', y='6548125.4', lon='5.422922', lat='46.006981', alias=None, nom_ld=None, libelle_acheminement='ABERGEMENT-DE-VAREY (L )', nom_afnor='LA FORET', source_position='arcep', source_nom_voie='cadastre'),\n",
       " Row(id='01002_huiwnc_00804', id_fantoir=None, numero='804', rep=None, nom_voie='Preillon', code_postal='01640', code_insee='01002', nom_commune=\"L'Abergement-de-Varey\", code_insee_ancienne_commune=None, nom_ancienne_commune=None, x='887109.97', y='6548960.03', lon='5.418681', lat='46.014591', alias=None, nom_ld=None, libelle_acheminement='ABERGEMENT-DE-VAREY (L )', nom_afnor='PREILLON', source_position='arcep', source_nom_voie='arcep')]"
      ]
     },
     "execution_count": 60,
     "metadata": {},
     "output_type": "execute_result"
    }
   ],
   "source": [
    "df.take(10)\n",
    "#"
   ]
  },
  {
   "cell_type": "code",
   "execution_count": 54,
   "metadata": {},
   "outputs": [
    {
     "name": "stdout",
     "output_type": "stream",
     "text": [
      "root\n",
      " |-- id;id_fantoir;numero;rep;nom_voie;code_postal;code_insee;nom_commune;code_insee_ancienne_commune;nom_ancienne_commune;x;y;lon;lat;alias;nom_ld;libelle_acheminement;nom_afnor;source_position;source_nom_voie: string (nullable = true)\n",
      "\n"
     ]
    }
   ],
   "source": [
    "df.printSchema()"
   ]
  },
  {
   "cell_type": "code",
   "execution_count": 44,
   "metadata": {},
   "outputs": [
    {
     "data": {
      "text/plain": [
       "24976383"
      ]
     },
     "execution_count": 44,
     "metadata": {},
     "output_type": "execute_result"
    }
   ],
   "source": [
    "df.count()"
   ]
  },
  {
   "cell_type": "code",
   "execution_count": 45,
   "metadata": {},
   "outputs": [
    {
     "data": {
      "text/plain": [
       "[Row(_c0='id;id_fantoir;numero;rep;nom_voie;code_postal;code_insee;nom_commune;code_insee_ancienne_commune;nom_ancienne_commune;x;y;lon;lat;alias;nom_ld;libelle_acheminement;nom_afnor;source_position;source_nom_voie'),\n",
       " Row(_c0=\"01002_6zbsct_01082;;1082;;Chemin de la Ferm de la Montagne;01640;01002;L'Abergement-de-Varey;;;888160.78;6546952.4;5.431457;45.99623;;;ABERGEMENT-DE-VAREY (L );CHEMIN DE LA FERM DE LA MONTAGNE;inconnue;inconnue\"),\n",
       " Row(_c0=\"01002_6zbsct_01083;;1083;;Chemin de la Ferm de la Montagne;01640;01002;L'Abergement-de-Varey;;;888196.41;6546947.17;5.431915;45.996173;;;ABERGEMENT-DE-VAREY (L );CHEMIN DE LA FERM DE LA MONTAGNE;inconnue;inconnue\"),\n",
       " Row(_c0=\"01002_w4ld4h_00006;;6;;Place du Pese Lait;01640;01002;L'Abergement-de-Varey;;;887648.6;6547956.35;5.425241;46.005408;;;ABERGEMENT-DE-VAREY (L );PLACE DU PESE LAIT;inconnue;inconnue\"),\n",
       " Row(_c0=\"01002_zvjvp5_00001;;1;;Les Granges;01640;01002;L'Abergement-de-Varey;;;887607.97;6549127.79;5.425181;46.015963;;;ABERGEMENT-DE-VAREY (L );LES GRANGES;inconnue;inconnue\")]"
      ]
     },
     "execution_count": 45,
     "metadata": {},
     "output_type": "execute_result"
    }
   ],
   "source": [
    "df.head(5)"
   ]
  },
  {
   "cell_type": "code",
   "execution_count": 58,
   "metadata": {},
   "outputs": [
    {
     "data": {
      "text/plain": [
       "Row(id;id_fantoir;numero;rep;nom_voie;code_postal;code_insee;nom_commune;code_insee_ancienne_commune;nom_ancienne_commune;x;y;lon;lat;alias;nom_ld;libelle_acheminement;nom_afnor;source_position;source_nom_voie=\"01002_6zbsct_01082;;1082;;Chemin de la Ferm de la Montagne;01640;01002;L'Abergement-de-Varey;;;888160.78;6546952.4;5.431457;45.99623;;;ABERGEMENT-DE-VAREY (L );CHEMIN DE LA FERM DE LA MONTAGNE;inconnue;inconnue\")"
      ]
     },
     "execution_count": 58,
     "metadata": {},
     "output_type": "execute_result"
    }
   ],
   "source": [
    "df.head()"
   ]
  },
  {
   "cell_type": "code",
   "execution_count": 48,
   "metadata": {},
   "outputs": [
    {
     "data": {
      "text/plain": [
       "DataFrame[summary: string, _c0: string]"
      ]
     },
     "execution_count": 48,
     "metadata": {},
     "output_type": "execute_result"
    }
   ],
   "source": [
    "df.describe()"
   ]
  },
  {
   "cell_type": "code",
   "execution_count": 63,
   "metadata": {},
   "outputs": [
    {
     "name": "stdout",
     "output_type": "stream",
     "text": [
      "+-----------+--------------------+------+--------------------+---------+----------+\n",
      "|code_postal|         nom_commune|numero|            nom_voie|        x|         y|\n",
      "+-----------+--------------------+------+--------------------+---------+----------+\n",
      "|      01640|L'Abergement-de-V...|  1082|Chemin de la Ferm...|888160.78| 6546952.4|\n",
      "|      01640|L'Abergement-de-V...|  1083|Chemin de la Ferm...|888196.41|6546947.17|\n",
      "|      01640|L'Abergement-de-V...|     6|  Place du Pese Lait| 887648.6|6547956.35|\n",
      "|      01640|L'Abergement-de-V...|     1|         Les Granges|887607.97|6549127.79|\n",
      "|      01640|L'Abergement-de-V...|     2|         Les Granges|887607.97|6549127.79|\n",
      "+-----------+--------------------+------+--------------------+---------+----------+\n",
      "only showing top 5 rows\n",
      "\n"
     ]
    }
   ],
   "source": [
    "df.select('code_postal','nom_commune', 'numero', 'nom_voie', 'x', 'y').show(5)"
   ]
  },
  {
   "cell_type": "code",
   "execution_count": 107,
   "metadata": {},
   "outputs": [],
   "source": [
    "#%%time\n",
    "#df_idf = df.select('code_postal','nom_commune', 'numero', 'nom_voie', 'x', 'y', 'lon', 'lat').filter((df.code_postal == 75001)).show()\n",
    "\n",
    "df_idf = df.select('code_postal','nom_commune', 'numero', 'nom_voie', 'x', 'y', 'lon', 'lat').filter((df.code_postal > 74999)).filter((df.code_postal < 76000))"
   ]
  },
  {
   "cell_type": "code",
   "execution_count": 109,
   "metadata": {},
   "outputs": [
    {
     "name": "stdout",
     "output_type": "stream",
     "text": [
      "CPU times: user 5.16 ms, sys: 0 ns, total: 5.16 ms\n",
      "Wall time: 19.8 s\n"
     ]
    }
   ],
   "source": [
    "%%time\n",
    "df_idf.write.format('csv').option('header',True).mode('overwrite').save('/home/fitec/Bureau/zip_codeParis.csv')"
   ]
  },
  {
   "cell_type": "code",
   "execution_count": 108,
   "metadata": {},
   "outputs": [
    {
     "name": "stdout",
     "output_type": "stream",
     "text": [
      "DataFrame[code_postal: string, nom_commune: string, numero: string, nom_voie: string, x: string, y: string, lon: string, lat: string]\n"
     ]
    }
   ],
   "source": []
  },
  {
   "cell_type": "code",
   "execution_count": null,
   "metadata": {},
   "outputs": [],
   "source": []
  }
 ],
 "metadata": {
  "kernelspec": {
   "display_name": "Python 3",
   "language": "python",
   "name": "python3"
  },
  "language_info": {
   "codemirror_mode": {
    "name": "ipython",
    "version": 3
   },
   "file_extension": ".py",
   "mimetype": "text/x-python",
   "name": "python",
   "nbconvert_exporter": "python",
   "pygments_lexer": "ipython3",
   "version": "3.8.3"
  }
 },
 "nbformat": 4,
 "nbformat_minor": 4
}
