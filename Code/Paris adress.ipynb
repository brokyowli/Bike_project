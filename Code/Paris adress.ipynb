{
 "cells": [
  {
   "cell_type": "code",
   "execution_count": null,
   "metadata": {},
   "outputs": [],
   "source": [
    "#this notebook helps us to extract the district of each street in Paris "
   ]
  },
  {
   "cell_type": "code",
   "execution_count": 148,
   "metadata": {},
   "outputs": [],
   "source": [
    "import pandas as pd \n",
    "file_adress=pd.read_csv(\"C:/Users/Administrateur/Downloads/adresse_paris.csv\",delimiter=\";\")"
   ]
  },
  {
   "cell_type": "code",
   "execution_count": 149,
   "metadata": {},
   "outputs": [
    {
     "data": {
      "text/html": [
       "<div>\n",
       "<style scoped>\n",
       "    .dataframe tbody tr th:only-of-type {\n",
       "        vertical-align: middle;\n",
       "    }\n",
       "\n",
       "    .dataframe tbody tr th {\n",
       "        vertical-align: top;\n",
       "    }\n",
       "\n",
       "    .dataframe thead th {\n",
       "        text-align: right;\n",
       "    }\n",
       "</style>\n",
       "<table border=\"1\" class=\"dataframe\">\n",
       "  <thead>\n",
       "    <tr style=\"text-align: right;\">\n",
       "      <th></th>\n",
       "      <th>Geometry X Y</th>\n",
       "      <th>Geometry</th>\n",
       "      <th>N_SQ_AD</th>\n",
       "      <th>N_VOIE</th>\n",
       "      <th>C_SUF1</th>\n",
       "      <th>C_SUF2</th>\n",
       "      <th>C_SUF3</th>\n",
       "      <th>C_AR</th>\n",
       "      <th>A_NVOIE</th>\n",
       "      <th>B_ANGLE</th>\n",
       "      <th>B_OFFSTDF</th>\n",
       "      <th>B_AFFSTDF</th>\n",
       "      <th>B_HORS75</th>\n",
       "      <th>L_NVOIE</th>\n",
       "      <th>L_ADR</th>\n",
       "      <th>N_SQ_AR</th>\n",
       "      <th>N_SQ_VO</th>\n",
       "      <th>OBJECTID</th>\n",
       "    </tr>\n",
       "  </thead>\n",
       "  <tbody>\n",
       "    <tr>\n",
       "      <th>0</th>\n",
       "      <td>48.8966373164,2.34356236232</td>\n",
       "      <td>{\"type\": \"Point\", \"coordinates\": [2.3435623623...</td>\n",
       "      <td>750162535</td>\n",
       "      <td>2</td>\n",
       "      <td>NaN</td>\n",
       "      <td>NaN</td>\n",
       "      <td>NaN</td>\n",
       "      <td>18.0</td>\n",
       "      <td>158.0</td>\n",
       "      <td>O</td>\n",
       "      <td>O</td>\n",
       "      <td>N</td>\n",
       "      <td>N</td>\n",
       "      <td>2</td>\n",
       "      <td>2 IMP SAINTE-HENRIETTE</td>\n",
       "      <td>750000018.0</td>\n",
       "      <td>750002696</td>\n",
       "      <td>14565</td>\n",
       "    </tr>\n",
       "    <tr>\n",
       "      <th>1</th>\n",
       "      <td>48.8449600246,2.37325960617</td>\n",
       "      <td>{\"type\": \"Point\", \"coordinates\": [2.3732596061...</td>\n",
       "      <td>750151804</td>\n",
       "      <td>6</td>\n",
       "      <td>NaN</td>\n",
       "      <td>NaN</td>\n",
       "      <td>NaN</td>\n",
       "      <td>12.0</td>\n",
       "      <td>230.0</td>\n",
       "      <td>N</td>\n",
       "      <td>O</td>\n",
       "      <td>NaN</td>\n",
       "      <td>N</td>\n",
       "      <td>6</td>\n",
       "      <td>6 PL LOUIS ARMAND</td>\n",
       "      <td>750000012.0</td>\n",
       "      <td>750003165</td>\n",
       "      <td>14603</td>\n",
       "    </tr>\n",
       "    <tr>\n",
       "      <th>2</th>\n",
       "      <td>48.8838896035,2.37937691266</td>\n",
       "      <td>{\"type\": \"Point\", \"coordinates\": [2.3793769126...</td>\n",
       "      <td>750014432</td>\n",
       "      <td>38</td>\n",
       "      <td>NaN</td>\n",
       "      <td>NaN</td>\n",
       "      <td>NaN</td>\n",
       "      <td>19.0</td>\n",
       "      <td>298.0</td>\n",
       "      <td>N</td>\n",
       "      <td>O</td>\n",
       "      <td>NaN</td>\n",
       "      <td>N</td>\n",
       "      <td>38</td>\n",
       "      <td>38 RUE CAVENDISH</td>\n",
       "      <td>750000019.0</td>\n",
       "      <td>750005328</td>\n",
       "      <td>14605</td>\n",
       "    </tr>\n",
       "    <tr>\n",
       "      <th>3</th>\n",
       "      <td>48.8765136996,2.38707551063</td>\n",
       "      <td>{\"type\": \"Point\", \"coordinates\": [2.3870755106...</td>\n",
       "      <td>750016002</td>\n",
       "      <td>14</td>\n",
       "      <td>NaN</td>\n",
       "      <td>NaN</td>\n",
       "      <td>NaN</td>\n",
       "      <td>19.0</td>\n",
       "      <td>338.0</td>\n",
       "      <td>N</td>\n",
       "      <td>O</td>\n",
       "      <td>NaN</td>\n",
       "      <td>N</td>\n",
       "      <td>14</td>\n",
       "      <td>14 RUE FESSART</td>\n",
       "      <td>750000019.0</td>\n",
       "      <td>750005279</td>\n",
       "      <td>14662</td>\n",
       "    </tr>\n",
       "    <tr>\n",
       "      <th>4</th>\n",
       "      <td>48.8431297641,2.31714152829</td>\n",
       "      <td>{\"type\": \"Point\", \"coordinates\": [2.3171415282...</td>\n",
       "      <td>750160967</td>\n",
       "      <td>26</td>\n",
       "      <td>NaN</td>\n",
       "      <td>NaN</td>\n",
       "      <td>NaN</td>\n",
       "      <td>15.0</td>\n",
       "      <td>347.0</td>\n",
       "      <td>N</td>\n",
       "      <td>O</td>\n",
       "      <td>NaN</td>\n",
       "      <td>N</td>\n",
       "      <td>26</td>\n",
       "      <td>26 RUE ANTOINE BOURDELLE</td>\n",
       "      <td>750000015.0</td>\n",
       "      <td>750002001</td>\n",
       "      <td>14679</td>\n",
       "    </tr>\n",
       "  </tbody>\n",
       "</table>\n",
       "</div>"
      ],
      "text/plain": [
       "                  Geometry X Y  \\\n",
       "0  48.8966373164,2.34356236232   \n",
       "1  48.8449600246,2.37325960617   \n",
       "2  48.8838896035,2.37937691266   \n",
       "3  48.8765136996,2.38707551063   \n",
       "4  48.8431297641,2.31714152829   \n",
       "\n",
       "                                            Geometry    N_SQ_AD  N_VOIE  \\\n",
       "0  {\"type\": \"Point\", \"coordinates\": [2.3435623623...  750162535       2   \n",
       "1  {\"type\": \"Point\", \"coordinates\": [2.3732596061...  750151804       6   \n",
       "2  {\"type\": \"Point\", \"coordinates\": [2.3793769126...  750014432      38   \n",
       "3  {\"type\": \"Point\", \"coordinates\": [2.3870755106...  750016002      14   \n",
       "4  {\"type\": \"Point\", \"coordinates\": [2.3171415282...  750160967      26   \n",
       "\n",
       "  C_SUF1 C_SUF2 C_SUF3  C_AR  A_NVOIE B_ANGLE B_OFFSTDF B_AFFSTDF B_HORS75  \\\n",
       "0    NaN    NaN    NaN  18.0    158.0       O         O         N        N   \n",
       "1    NaN    NaN    NaN  12.0    230.0       N         O       NaN        N   \n",
       "2    NaN    NaN    NaN  19.0    298.0       N         O       NaN        N   \n",
       "3    NaN    NaN    NaN  19.0    338.0       N         O       NaN        N   \n",
       "4    NaN    NaN    NaN  15.0    347.0       N         O       NaN        N   \n",
       "\n",
       "  L_NVOIE                     L_ADR      N_SQ_AR    N_SQ_VO  OBJECTID  \n",
       "0       2    2 IMP SAINTE-HENRIETTE  750000018.0  750002696     14565  \n",
       "1       6         6 PL LOUIS ARMAND  750000012.0  750003165     14603  \n",
       "2      38          38 RUE CAVENDISH  750000019.0  750005328     14605  \n",
       "3      14            14 RUE FESSART  750000019.0  750005279     14662  \n",
       "4      26  26 RUE ANTOINE BOURDELLE  750000015.0  750002001     14679  "
      ]
     },
     "execution_count": 149,
     "metadata": {},
     "output_type": "execute_result"
    }
   ],
   "source": [
    "file_adress.head()"
   ]
  },
  {
   "cell_type": "markdown",
   "metadata": {},
   "source": [
    "### Split gps coordinate "
   ]
  },
  {
   "cell_type": "code",
   "execution_count": 150,
   "metadata": {},
   "outputs": [
    {
     "data": {
      "text/html": [
       "<div>\n",
       "<style scoped>\n",
       "    .dataframe tbody tr th:only-of-type {\n",
       "        vertical-align: middle;\n",
       "    }\n",
       "\n",
       "    .dataframe tbody tr th {\n",
       "        vertical-align: top;\n",
       "    }\n",
       "\n",
       "    .dataframe thead th {\n",
       "        text-align: right;\n",
       "    }\n",
       "</style>\n",
       "<table border=\"1\" class=\"dataframe\">\n",
       "  <thead>\n",
       "    <tr style=\"text-align: right;\">\n",
       "      <th></th>\n",
       "      <th>Geometry X Y</th>\n",
       "      <th>C_AR</th>\n",
       "      <th>L_ADR</th>\n",
       "    </tr>\n",
       "  </thead>\n",
       "  <tbody>\n",
       "    <tr>\n",
       "      <th>0</th>\n",
       "      <td>48.8966373164,2.34356236232</td>\n",
       "      <td>18.0</td>\n",
       "      <td>2 IMP SAINTE-HENRIETTE</td>\n",
       "    </tr>\n",
       "    <tr>\n",
       "      <th>1</th>\n",
       "      <td>48.8449600246,2.37325960617</td>\n",
       "      <td>12.0</td>\n",
       "      <td>6 PL LOUIS ARMAND</td>\n",
       "    </tr>\n",
       "    <tr>\n",
       "      <th>2</th>\n",
       "      <td>48.8838896035,2.37937691266</td>\n",
       "      <td>19.0</td>\n",
       "      <td>38 RUE CAVENDISH</td>\n",
       "    </tr>\n",
       "    <tr>\n",
       "      <th>3</th>\n",
       "      <td>48.8765136996,2.38707551063</td>\n",
       "      <td>19.0</td>\n",
       "      <td>14 RUE FESSART</td>\n",
       "    </tr>\n",
       "    <tr>\n",
       "      <th>4</th>\n",
       "      <td>48.8431297641,2.31714152829</td>\n",
       "      <td>15.0</td>\n",
       "      <td>26 RUE ANTOINE BOURDELLE</td>\n",
       "    </tr>\n",
       "    <tr>\n",
       "      <th>...</th>\n",
       "      <td>...</td>\n",
       "      <td>...</td>\n",
       "      <td>...</td>\n",
       "    </tr>\n",
       "    <tr>\n",
       "      <th>148509</th>\n",
       "      <td>48.8459406723,2.25584165604</td>\n",
       "      <td>16.0</td>\n",
       "      <td>16 AV DU GENERAL SARRAIL</td>\n",
       "    </tr>\n",
       "    <tr>\n",
       "      <th>148510</th>\n",
       "      <td>48.829932441,2.34977750131</td>\n",
       "      <td>13.0</td>\n",
       "      <td>50 BD AUGUSTE BLANQUI</td>\n",
       "    </tr>\n",
       "    <tr>\n",
       "      <th>148511</th>\n",
       "      <td>48.825270466,2.36275485871</td>\n",
       "      <td>13.0</td>\n",
       "      <td>71 RUE BAUDRICOURT</td>\n",
       "    </tr>\n",
       "    <tr>\n",
       "      <th>148512</th>\n",
       "      <td>48.8648856968,2.28152201717</td>\n",
       "      <td>16.0</td>\n",
       "      <td>14 RUE DECAMPS</td>\n",
       "    </tr>\n",
       "    <tr>\n",
       "      <th>148513</th>\n",
       "      <td>48.8748775397,2.34533575118</td>\n",
       "      <td>9.0</td>\n",
       "      <td>35 RUE DE TREVISE</td>\n",
       "    </tr>\n",
       "  </tbody>\n",
       "</table>\n",
       "<p>148514 rows × 3 columns</p>\n",
       "</div>"
      ],
      "text/plain": [
       "                       Geometry X Y  C_AR                     L_ADR\n",
       "0       48.8966373164,2.34356236232  18.0    2 IMP SAINTE-HENRIETTE\n",
       "1       48.8449600246,2.37325960617  12.0         6 PL LOUIS ARMAND\n",
       "2       48.8838896035,2.37937691266  19.0          38 RUE CAVENDISH\n",
       "3       48.8765136996,2.38707551063  19.0            14 RUE FESSART\n",
       "4       48.8431297641,2.31714152829  15.0  26 RUE ANTOINE BOURDELLE\n",
       "...                             ...   ...                       ...\n",
       "148509  48.8459406723,2.25584165604  16.0  16 AV DU GENERAL SARRAIL\n",
       "148510   48.829932441,2.34977750131  13.0     50 BD AUGUSTE BLANQUI\n",
       "148511   48.825270466,2.36275485871  13.0        71 RUE BAUDRICOURT\n",
       "148512  48.8648856968,2.28152201717  16.0            14 RUE DECAMPS\n",
       "148513  48.8748775397,2.34533575118   9.0         35 RUE DE TREVISE\n",
       "\n",
       "[148514 rows x 3 columns]"
      ]
     },
     "execution_count": 150,
     "metadata": {},
     "output_type": "execute_result"
    }
   ],
   "source": [
    "file_adresse1=file_adress[[\"Geometry X Y\",\"C_AR\",\"L_ADR\"]]\n",
    "file_adresse1"
   ]
  },
  {
   "cell_type": "code",
   "execution_count": 151,
   "metadata": {},
   "outputs": [
    {
     "name": "stderr",
     "output_type": "stream",
     "text": [
      "<ipython-input-151-855a93127505>:1: SettingWithCopyWarning: \n",
      "A value is trying to be set on a copy of a slice from a DataFrame.\n",
      "Try using .loc[row_indexer,col_indexer] = value instead\n",
      "\n",
      "See the caveats in the documentation: https://pandas.pydata.org/pandas-docs/stable/user_guide/indexing.html#returning-a-view-versus-a-copy\n",
      "  file_adresse1[\"gsp_x\"]=file_adresse1[\"Geometry X Y\"].apply(lambda x:x.split(\",\")[0])\n",
      "<ipython-input-151-855a93127505>:2: SettingWithCopyWarning: \n",
      "A value is trying to be set on a copy of a slice from a DataFrame.\n",
      "Try using .loc[row_indexer,col_indexer] = value instead\n",
      "\n",
      "See the caveats in the documentation: https://pandas.pydata.org/pandas-docs/stable/user_guide/indexing.html#returning-a-view-versus-a-copy\n",
      "  file_adresse1[\"gps_y\"]=file_adresse1[\"Geometry X Y\"].apply(lambda x:x.split(\",\")[1])\n"
     ]
    }
   ],
   "source": [
    "file_adresse1[\"gsp_x\"]=file_adresse1[\"Geometry X Y\"].apply(lambda x:x.split(\",\")[0])\n",
    "file_adresse1[\"gps_y\"]=file_adresse1[\"Geometry X Y\"].apply(lambda x:x.split(\",\")[1])"
   ]
  },
  {
   "cell_type": "markdown",
   "metadata": {},
   "source": [
    "### check null value"
   ]
  },
  {
   "cell_type": "code",
   "execution_count": 152,
   "metadata": {
    "scrolled": true
   },
   "outputs": [],
   "source": [
    "file_adresse1=file_adresse1.dropna(subset=[\"C_AR\"])"
   ]
  },
  {
   "cell_type": "code",
   "execution_count": 153,
   "metadata": {},
   "outputs": [
    {
     "name": "stdout",
     "output_type": "stream",
     "text": [
      "Empty DataFrame\n",
      "Columns: [Geometry X Y, C_AR, L_ADR, gsp_x, gps_y]\n",
      "Index: []\n"
     ]
    }
   ],
   "source": [
    "print(file_adresse1[file_adresse1[\"C_AR\"].isnull()])\n"
   ]
  },
  {
   "cell_type": "markdown",
   "metadata": {},
   "source": [
    "### format Zip code"
   ]
  },
  {
   "cell_type": "code",
   "execution_count": 154,
   "metadata": {},
   "outputs": [
    {
     "name": "stderr",
     "output_type": "stream",
     "text": [
      "<ipython-input-154-9ecfc37be6a6>:1: SettingWithCopyWarning: \n",
      "A value is trying to be set on a copy of a slice from a DataFrame.\n",
      "Try using .loc[row_indexer,col_indexer] = value instead\n",
      "\n",
      "See the caveats in the documentation: https://pandas.pydata.org/pandas-docs/stable/user_guide/indexing.html#returning-a-view-versus-a-copy\n",
      "  file_adresse1[\"zip_code\"]=file_adresse1[\"C_AR\"].apply(lambda x:int(x)+75000)\n"
     ]
    }
   ],
   "source": [
    "file_adresse1[\"zip_code\"]=file_adresse1[\"C_AR\"].apply(lambda x:int(x)+75000)"
   ]
  },
  {
   "cell_type": "code",
   "execution_count": 155,
   "metadata": {},
   "outputs": [
    {
     "data": {
      "text/html": [
       "<div>\n",
       "<style scoped>\n",
       "    .dataframe tbody tr th:only-of-type {\n",
       "        vertical-align: middle;\n",
       "    }\n",
       "\n",
       "    .dataframe tbody tr th {\n",
       "        vertical-align: top;\n",
       "    }\n",
       "\n",
       "    .dataframe thead th {\n",
       "        text-align: right;\n",
       "    }\n",
       "</style>\n",
       "<table border=\"1\" class=\"dataframe\">\n",
       "  <thead>\n",
       "    <tr style=\"text-align: right;\">\n",
       "      <th></th>\n",
       "      <th>Geometry X Y</th>\n",
       "      <th>C_AR</th>\n",
       "      <th>L_ADR</th>\n",
       "      <th>gsp_x</th>\n",
       "      <th>gps_y</th>\n",
       "      <th>zip_code</th>\n",
       "    </tr>\n",
       "  </thead>\n",
       "  <tbody>\n",
       "    <tr>\n",
       "      <th>0</th>\n",
       "      <td>48.8966373164,2.34356236232</td>\n",
       "      <td>18.0</td>\n",
       "      <td>2 IMP SAINTE-HENRIETTE</td>\n",
       "      <td>48.8966373164</td>\n",
       "      <td>2.34356236232</td>\n",
       "      <td>75018</td>\n",
       "    </tr>\n",
       "    <tr>\n",
       "      <th>1</th>\n",
       "      <td>48.8449600246,2.37325960617</td>\n",
       "      <td>12.0</td>\n",
       "      <td>6 PL LOUIS ARMAND</td>\n",
       "      <td>48.8449600246</td>\n",
       "      <td>2.37325960617</td>\n",
       "      <td>75012</td>\n",
       "    </tr>\n",
       "    <tr>\n",
       "      <th>2</th>\n",
       "      <td>48.8838896035,2.37937691266</td>\n",
       "      <td>19.0</td>\n",
       "      <td>38 RUE CAVENDISH</td>\n",
       "      <td>48.8838896035</td>\n",
       "      <td>2.37937691266</td>\n",
       "      <td>75019</td>\n",
       "    </tr>\n",
       "    <tr>\n",
       "      <th>3</th>\n",
       "      <td>48.8765136996,2.38707551063</td>\n",
       "      <td>19.0</td>\n",
       "      <td>14 RUE FESSART</td>\n",
       "      <td>48.8765136996</td>\n",
       "      <td>2.38707551063</td>\n",
       "      <td>75019</td>\n",
       "    </tr>\n",
       "    <tr>\n",
       "      <th>4</th>\n",
       "      <td>48.8431297641,2.31714152829</td>\n",
       "      <td>15.0</td>\n",
       "      <td>26 RUE ANTOINE BOURDELLE</td>\n",
       "      <td>48.8431297641</td>\n",
       "      <td>2.31714152829</td>\n",
       "      <td>75015</td>\n",
       "    </tr>\n",
       "  </tbody>\n",
       "</table>\n",
       "</div>"
      ],
      "text/plain": [
       "                  Geometry X Y  C_AR                     L_ADR          gsp_x  \\\n",
       "0  48.8966373164,2.34356236232  18.0    2 IMP SAINTE-HENRIETTE  48.8966373164   \n",
       "1  48.8449600246,2.37325960617  12.0         6 PL LOUIS ARMAND  48.8449600246   \n",
       "2  48.8838896035,2.37937691266  19.0          38 RUE CAVENDISH  48.8838896035   \n",
       "3  48.8765136996,2.38707551063  19.0            14 RUE FESSART  48.8765136996   \n",
       "4  48.8431297641,2.31714152829  15.0  26 RUE ANTOINE BOURDELLE  48.8431297641   \n",
       "\n",
       "           gps_y  zip_code  \n",
       "0  2.34356236232     75018  \n",
       "1  2.37325960617     75012  \n",
       "2  2.37937691266     75019  \n",
       "3  2.38707551063     75019  \n",
       "4  2.31714152829     75015  "
      ]
     },
     "execution_count": 155,
     "metadata": {},
     "output_type": "execute_result"
    }
   ],
   "source": [
    "file_adresse1.head()"
   ]
  },
  {
   "cell_type": "markdown",
   "metadata": {},
   "source": [
    "### Clean Adsress"
   ]
  },
  {
   "cell_type": "markdown",
   "metadata": {},
   "source": [
    "### delete number in address"
   ]
  },
  {
   "cell_type": "code",
   "execution_count": 158,
   "metadata": {},
   "outputs": [
    {
     "name": "stderr",
     "output_type": "stream",
     "text": [
      "<ipython-input-158-91af4a43ca87>:1: SettingWithCopyWarning: \n",
      "A value is trying to be set on a copy of a slice from a DataFrame.\n",
      "Try using .loc[row_indexer,col_indexer] = value instead\n",
      "\n",
      "See the caveats in the documentation: https://pandas.pydata.org/pandas-docs/stable/user_guide/indexing.html#returning-a-view-versus-a-copy\n",
      "  file_adresse1[\"address\"]=file_adresse1[\"L_ADR\"].apply(lambda x:x.split(\" \")[1::])\n"
     ]
    }
   ],
   "source": [
    "file_adresse1[\"address\"]=file_adresse1[\"L_ADR\"].apply(lambda x:x.split(\" \")[1::])\n"
   ]
  },
  {
   "cell_type": "code",
   "execution_count": 159,
   "metadata": {},
   "outputs": [
    {
     "name": "stderr",
     "output_type": "stream",
     "text": [
      "<ipython-input-159-e23ef23d543b>:1: SettingWithCopyWarning: \n",
      "A value is trying to be set on a copy of a slice from a DataFrame.\n",
      "Try using .loc[row_indexer,col_indexer] = value instead\n",
      "\n",
      "See the caveats in the documentation: https://pandas.pydata.org/pandas-docs/stable/user_guide/indexing.html#returning-a-view-versus-a-copy\n",
      "  file_adresse1[\"address_filter1\"]=file_adresse1[\"L_ADR\"].apply(lambda x: x.isalpha())\n"
     ]
    }
   ],
   "source": [
    "file_adresse1[\"address_filter1\"]=file_adresse1[\"L_ADR\"].apply(lambda x: x.isalpha())"
   ]
  },
  {
   "cell_type": "code",
   "execution_count": 160,
   "metadata": {},
   "outputs": [
    {
     "data": {
      "text/html": [
       "<div>\n",
       "<style scoped>\n",
       "    .dataframe tbody tr th:only-of-type {\n",
       "        vertical-align: middle;\n",
       "    }\n",
       "\n",
       "    .dataframe tbody tr th {\n",
       "        vertical-align: top;\n",
       "    }\n",
       "\n",
       "    .dataframe thead th {\n",
       "        text-align: right;\n",
       "    }\n",
       "</style>\n",
       "<table border=\"1\" class=\"dataframe\">\n",
       "  <thead>\n",
       "    <tr style=\"text-align: right;\">\n",
       "      <th></th>\n",
       "      <th>Geometry X Y</th>\n",
       "      <th>C_AR</th>\n",
       "      <th>L_ADR</th>\n",
       "      <th>gsp_x</th>\n",
       "      <th>gps_y</th>\n",
       "      <th>zip_code</th>\n",
       "      <th>address_filter1</th>\n",
       "      <th>address</th>\n",
       "    </tr>\n",
       "  </thead>\n",
       "  <tbody>\n",
       "    <tr>\n",
       "      <th>0</th>\n",
       "      <td>48.8966373164,2.34356236232</td>\n",
       "      <td>18.0</td>\n",
       "      <td>2 IMP SAINTE-HENRIETTE</td>\n",
       "      <td>48.8966373164</td>\n",
       "      <td>2.34356236232</td>\n",
       "      <td>75018</td>\n",
       "      <td>False</td>\n",
       "      <td>[IMP, SAINTE-HENRIETTE]</td>\n",
       "    </tr>\n",
       "    <tr>\n",
       "      <th>1</th>\n",
       "      <td>48.8449600246,2.37325960617</td>\n",
       "      <td>12.0</td>\n",
       "      <td>6 PL LOUIS ARMAND</td>\n",
       "      <td>48.8449600246</td>\n",
       "      <td>2.37325960617</td>\n",
       "      <td>75012</td>\n",
       "      <td>False</td>\n",
       "      <td>[PL, LOUIS, ARMAND]</td>\n",
       "    </tr>\n",
       "    <tr>\n",
       "      <th>2</th>\n",
       "      <td>48.8838896035,2.37937691266</td>\n",
       "      <td>19.0</td>\n",
       "      <td>38 RUE CAVENDISH</td>\n",
       "      <td>48.8838896035</td>\n",
       "      <td>2.37937691266</td>\n",
       "      <td>75019</td>\n",
       "      <td>False</td>\n",
       "      <td>[RUE, CAVENDISH]</td>\n",
       "    </tr>\n",
       "    <tr>\n",
       "      <th>3</th>\n",
       "      <td>48.8765136996,2.38707551063</td>\n",
       "      <td>19.0</td>\n",
       "      <td>14 RUE FESSART</td>\n",
       "      <td>48.8765136996</td>\n",
       "      <td>2.38707551063</td>\n",
       "      <td>75019</td>\n",
       "      <td>False</td>\n",
       "      <td>[RUE, FESSART]</td>\n",
       "    </tr>\n",
       "    <tr>\n",
       "      <th>4</th>\n",
       "      <td>48.8431297641,2.31714152829</td>\n",
       "      <td>15.0</td>\n",
       "      <td>26 RUE ANTOINE BOURDELLE</td>\n",
       "      <td>48.8431297641</td>\n",
       "      <td>2.31714152829</td>\n",
       "      <td>75015</td>\n",
       "      <td>False</td>\n",
       "      <td>[RUE, ANTOINE, BOURDELLE]</td>\n",
       "    </tr>\n",
       "  </tbody>\n",
       "</table>\n",
       "</div>"
      ],
      "text/plain": [
       "                  Geometry X Y  C_AR                     L_ADR          gsp_x  \\\n",
       "0  48.8966373164,2.34356236232  18.0    2 IMP SAINTE-HENRIETTE  48.8966373164   \n",
       "1  48.8449600246,2.37325960617  12.0         6 PL LOUIS ARMAND  48.8449600246   \n",
       "2  48.8838896035,2.37937691266  19.0          38 RUE CAVENDISH  48.8838896035   \n",
       "3  48.8765136996,2.38707551063  19.0            14 RUE FESSART  48.8765136996   \n",
       "4  48.8431297641,2.31714152829  15.0  26 RUE ANTOINE BOURDELLE  48.8431297641   \n",
       "\n",
       "           gps_y  zip_code  address_filter1                    address  \n",
       "0  2.34356236232     75018            False    [IMP, SAINTE-HENRIETTE]  \n",
       "1  2.37325960617     75012            False        [PL, LOUIS, ARMAND]  \n",
       "2  2.37937691266     75019            False           [RUE, CAVENDISH]  \n",
       "3  2.38707551063     75019            False             [RUE, FESSART]  \n",
       "4  2.31714152829     75015            False  [RUE, ANTOINE, BOURDELLE]  "
      ]
     },
     "execution_count": 160,
     "metadata": {},
     "output_type": "execute_result"
    }
   ],
   "source": [
    "file_adresse1.head()"
   ]
  },
  {
   "cell_type": "markdown",
   "metadata": {},
   "source": [
    "### Final clean dataset with the right columns"
   ]
  },
  {
   "cell_type": "code",
   "execution_count": 166,
   "metadata": {},
   "outputs": [
    {
     "name": "stdout",
     "output_type": "stream",
     "text": [
      "                    adsress  zip_code          gsp_x          gps_y\n",
      "0    2 IMP SAINTE-HENRIETTE     75018  48.8966373164  2.34356236232\n",
      "1         6 PL LOUIS ARMAND     75012  48.8449600246  2.37325960617\n",
      "2          38 RUE CAVENDISH     75019  48.8838896035  2.37937691266\n",
      "3            14 RUE FESSART     75019  48.8765136996  2.38707551063\n",
      "4  26 RUE ANTOINE BOURDELLE     75015  48.8431297641  2.31714152829\n",
      "(148308, 4)\n"
     ]
    }
   ],
   "source": [
    "address=file_adresse1[[\"L_ADR\",\"zip_code\",\"gsp_x\",\"gps_y\"]]\n",
    "address.columns = ['adsress','zip_code',\"gsp_x\",\"gps_y\"]\n",
    "print(address.head())\n",
    "print(address.shape)"
   ]
  },
  {
   "cell_type": "code",
   "execution_count": 169,
   "metadata": {},
   "outputs": [],
   "source": [
    "#export to csv \n",
    "address.to_csv(\"C:/Users/Administrateur/Documents/bike_project/address.csv\", sep=\";\", encoding=\"utf-8\")"
   ]
  },
  {
   "cell_type": "markdown",
   "metadata": {},
   "source": [
    "### exemple final csv"
   ]
  },
  {
   "cell_type": "code",
   "execution_count": 170,
   "metadata": {},
   "outputs": [
    {
     "data": {
      "text/html": [
       "<div>\n",
       "<style scoped>\n",
       "    .dataframe tbody tr th:only-of-type {\n",
       "        vertical-align: middle;\n",
       "    }\n",
       "\n",
       "    .dataframe tbody tr th {\n",
       "        vertical-align: top;\n",
       "    }\n",
       "\n",
       "    .dataframe thead th {\n",
       "        text-align: right;\n",
       "    }\n",
       "</style>\n",
       "<table border=\"1\" class=\"dataframe\">\n",
       "  <thead>\n",
       "    <tr style=\"text-align: right;\">\n",
       "      <th></th>\n",
       "      <th>adsress</th>\n",
       "      <th>zip_code</th>\n",
       "      <th>gsp_x</th>\n",
       "      <th>gps_y</th>\n",
       "    </tr>\n",
       "  </thead>\n",
       "  <tbody>\n",
       "    <tr>\n",
       "      <th>0</th>\n",
       "      <td>2 IMP SAINTE-HENRIETTE</td>\n",
       "      <td>75018</td>\n",
       "      <td>48.896637</td>\n",
       "      <td>2.343562</td>\n",
       "    </tr>\n",
       "    <tr>\n",
       "      <th>1</th>\n",
       "      <td>6 PL LOUIS ARMAND</td>\n",
       "      <td>75012</td>\n",
       "      <td>48.844960</td>\n",
       "      <td>2.373260</td>\n",
       "    </tr>\n",
       "    <tr>\n",
       "      <th>2</th>\n",
       "      <td>38 RUE CAVENDISH</td>\n",
       "      <td>75019</td>\n",
       "      <td>48.883890</td>\n",
       "      <td>2.379377</td>\n",
       "    </tr>\n",
       "    <tr>\n",
       "      <th>3</th>\n",
       "      <td>14 RUE FESSART</td>\n",
       "      <td>75019</td>\n",
       "      <td>48.876514</td>\n",
       "      <td>2.387076</td>\n",
       "    </tr>\n",
       "    <tr>\n",
       "      <th>4</th>\n",
       "      <td>26 RUE ANTOINE BOURDELLE</td>\n",
       "      <td>75015</td>\n",
       "      <td>48.843130</td>\n",
       "      <td>2.317142</td>\n",
       "    </tr>\n",
       "  </tbody>\n",
       "</table>\n",
       "</div>"
      ],
      "text/plain": [
       "                    adsress  zip_code      gsp_x     gps_y\n",
       "0    2 IMP SAINTE-HENRIETTE     75018  48.896637  2.343562\n",
       "1         6 PL LOUIS ARMAND     75012  48.844960  2.373260\n",
       "2          38 RUE CAVENDISH     75019  48.883890  2.379377\n",
       "3            14 RUE FESSART     75019  48.876514  2.387076\n",
       "4  26 RUE ANTOINE BOURDELLE     75015  48.843130  2.317142"
      ]
     },
     "execution_count": 170,
     "metadata": {},
     "output_type": "execute_result"
    }
   ],
   "source": [
    "df=pd.read_csv(\"C:/Users/Administrateur/Documents/bike_project/address.csv\", delimiter=\";\",index_col=0)\n",
    "df.head()"
   ]
  },
  {
   "cell_type": "code",
   "execution_count": null,
   "metadata": {},
   "outputs": [],
   "source": [
    "#folium "
   ]
  }
 ],
 "metadata": {
  "kernelspec": {
   "display_name": "Python 3",
   "language": "python",
   "name": "python3"
  },
  "language_info": {
   "codemirror_mode": {
    "name": "ipython",
    "version": 3
   },
   "file_extension": ".py",
   "mimetype": "text/x-python",
   "name": "python",
   "nbconvert_exporter": "python",
   "pygments_lexer": "ipython3",
   "version": "3.8.3"
  }
 },
 "nbformat": 4,
 "nbformat_minor": 4
}
