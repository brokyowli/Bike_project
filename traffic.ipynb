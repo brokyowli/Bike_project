{
 "cells": [
  {
   "cell_type": "code",
   "execution_count": 1,
   "metadata": {},
   "outputs": [
    {
     "ename": "FileNotFoundError",
     "evalue": "[Errno 2] No such file or directory: 'C:/Users/Administrateur/Downloads/comptage-velo-donnees-compteurs.csv'",
     "output_type": "error",
     "traceback": [
      "\u001b[0;31m---------------------------------------------------------------------------\u001b[0m",
      "\u001b[0;31mFileNotFoundError\u001b[0m                         Traceback (most recent call last)",
      "\u001b[0;32m<ipython-input-1-9c1070863e28>\u001b[0m in \u001b[0;36m<module>\u001b[0;34m\u001b[0m\n\u001b[1;32m      1\u001b[0m \u001b[0;32mimport\u001b[0m \u001b[0mpandas\u001b[0m \u001b[0;32mas\u001b[0m \u001b[0mpd\u001b[0m\u001b[0;34m\u001b[0m\u001b[0;34m\u001b[0m\u001b[0m\n\u001b[1;32m      2\u001b[0m \u001b[0;34m\u001b[0m\u001b[0m\n\u001b[0;32m----> 3\u001b[0;31m \u001b[0mcompteur\u001b[0m\u001b[0;34m=\u001b[0m \u001b[0mpd\u001b[0m\u001b[0;34m.\u001b[0m\u001b[0mread_csv\u001b[0m\u001b[0;34m(\u001b[0m\u001b[0;34m\"C:/Users/Administrateur/Downloads/comptage-velo-donnees-compteurs.csv\"\u001b[0m\u001b[0;34m,\u001b[0m\u001b[0mengine\u001b[0m\u001b[0;34m=\u001b[0m\u001b[0;34m'python'\u001b[0m\u001b[0;34m,\u001b[0m\u001b[0merror_bad_lines\u001b[0m\u001b[0;34m=\u001b[0m\u001b[0;32mFalse\u001b[0m\u001b[0;34m,\u001b[0m\u001b[0mdelimiter\u001b[0m\u001b[0;34m=\u001b[0m\u001b[0;34m\";\"\u001b[0m\u001b[0;34m)\u001b[0m\u001b[0;34m\u001b[0m\u001b[0;34m\u001b[0m\u001b[0m\n\u001b[0m",
      "\u001b[0;32m~/anaconda3/lib/python3.8/site-packages/pandas/io/parsers.py\u001b[0m in \u001b[0;36mread_csv\u001b[0;34m(filepath_or_buffer, sep, delimiter, header, names, index_col, usecols, squeeze, prefix, mangle_dupe_cols, dtype, engine, converters, true_values, false_values, skipinitialspace, skiprows, skipfooter, nrows, na_values, keep_default_na, na_filter, verbose, skip_blank_lines, parse_dates, infer_datetime_format, keep_date_col, date_parser, dayfirst, cache_dates, iterator, chunksize, compression, thousands, decimal, lineterminator, quotechar, quoting, doublequote, escapechar, comment, encoding, dialect, error_bad_lines, warn_bad_lines, delim_whitespace, low_memory, memory_map, float_precision)\u001b[0m\n\u001b[1;32m    686\u001b[0m     )\n\u001b[1;32m    687\u001b[0m \u001b[0;34m\u001b[0m\u001b[0m\n\u001b[0;32m--> 688\u001b[0;31m     \u001b[0;32mreturn\u001b[0m \u001b[0m_read\u001b[0m\u001b[0;34m(\u001b[0m\u001b[0mfilepath_or_buffer\u001b[0m\u001b[0;34m,\u001b[0m \u001b[0mkwds\u001b[0m\u001b[0;34m)\u001b[0m\u001b[0;34m\u001b[0m\u001b[0;34m\u001b[0m\u001b[0m\n\u001b[0m\u001b[1;32m    689\u001b[0m \u001b[0;34m\u001b[0m\u001b[0m\n\u001b[1;32m    690\u001b[0m \u001b[0;34m\u001b[0m\u001b[0m\n",
      "\u001b[0;32m~/anaconda3/lib/python3.8/site-packages/pandas/io/parsers.py\u001b[0m in \u001b[0;36m_read\u001b[0;34m(filepath_or_buffer, kwds)\u001b[0m\n\u001b[1;32m    452\u001b[0m \u001b[0;34m\u001b[0m\u001b[0m\n\u001b[1;32m    453\u001b[0m     \u001b[0;31m# Create the parser.\u001b[0m\u001b[0;34m\u001b[0m\u001b[0;34m\u001b[0m\u001b[0;34m\u001b[0m\u001b[0m\n\u001b[0;32m--> 454\u001b[0;31m     \u001b[0mparser\u001b[0m \u001b[0;34m=\u001b[0m \u001b[0mTextFileReader\u001b[0m\u001b[0;34m(\u001b[0m\u001b[0mfp_or_buf\u001b[0m\u001b[0;34m,\u001b[0m \u001b[0;34m**\u001b[0m\u001b[0mkwds\u001b[0m\u001b[0;34m)\u001b[0m\u001b[0;34m\u001b[0m\u001b[0;34m\u001b[0m\u001b[0m\n\u001b[0m\u001b[1;32m    455\u001b[0m \u001b[0;34m\u001b[0m\u001b[0m\n\u001b[1;32m    456\u001b[0m     \u001b[0;32mif\u001b[0m \u001b[0mchunksize\u001b[0m \u001b[0;32mor\u001b[0m \u001b[0miterator\u001b[0m\u001b[0;34m:\u001b[0m\u001b[0;34m\u001b[0m\u001b[0;34m\u001b[0m\u001b[0m\n",
      "\u001b[0;32m~/anaconda3/lib/python3.8/site-packages/pandas/io/parsers.py\u001b[0m in \u001b[0;36m__init__\u001b[0;34m(self, f, engine, **kwds)\u001b[0m\n\u001b[1;32m    946\u001b[0m             \u001b[0mself\u001b[0m\u001b[0;34m.\u001b[0m\u001b[0moptions\u001b[0m\u001b[0;34m[\u001b[0m\u001b[0;34m\"has_index_names\"\u001b[0m\u001b[0;34m]\u001b[0m \u001b[0;34m=\u001b[0m \u001b[0mkwds\u001b[0m\u001b[0;34m[\u001b[0m\u001b[0;34m\"has_index_names\"\u001b[0m\u001b[0;34m]\u001b[0m\u001b[0;34m\u001b[0m\u001b[0;34m\u001b[0m\u001b[0m\n\u001b[1;32m    947\u001b[0m \u001b[0;34m\u001b[0m\u001b[0m\n\u001b[0;32m--> 948\u001b[0;31m         \u001b[0mself\u001b[0m\u001b[0;34m.\u001b[0m\u001b[0m_make_engine\u001b[0m\u001b[0;34m(\u001b[0m\u001b[0mself\u001b[0m\u001b[0;34m.\u001b[0m\u001b[0mengine\u001b[0m\u001b[0;34m)\u001b[0m\u001b[0;34m\u001b[0m\u001b[0;34m\u001b[0m\u001b[0m\n\u001b[0m\u001b[1;32m    949\u001b[0m \u001b[0;34m\u001b[0m\u001b[0m\n\u001b[1;32m    950\u001b[0m     \u001b[0;32mdef\u001b[0m \u001b[0mclose\u001b[0m\u001b[0;34m(\u001b[0m\u001b[0mself\u001b[0m\u001b[0;34m)\u001b[0m\u001b[0;34m:\u001b[0m\u001b[0;34m\u001b[0m\u001b[0;34m\u001b[0m\u001b[0m\n",
      "\u001b[0;32m~/anaconda3/lib/python3.8/site-packages/pandas/io/parsers.py\u001b[0m in \u001b[0;36m_make_engine\u001b[0;34m(self, engine)\u001b[0m\n\u001b[1;32m   1189\u001b[0m                     \u001b[0;34m'are \"c\", \"python\", or \"python-fwf\")'\u001b[0m\u001b[0;34m\u001b[0m\u001b[0;34m\u001b[0m\u001b[0m\n\u001b[1;32m   1190\u001b[0m                 )\n\u001b[0;32m-> 1191\u001b[0;31m             \u001b[0mself\u001b[0m\u001b[0;34m.\u001b[0m\u001b[0m_engine\u001b[0m \u001b[0;34m=\u001b[0m \u001b[0mklass\u001b[0m\u001b[0;34m(\u001b[0m\u001b[0mself\u001b[0m\u001b[0;34m.\u001b[0m\u001b[0mf\u001b[0m\u001b[0;34m,\u001b[0m \u001b[0;34m**\u001b[0m\u001b[0mself\u001b[0m\u001b[0;34m.\u001b[0m\u001b[0moptions\u001b[0m\u001b[0;34m)\u001b[0m\u001b[0;34m\u001b[0m\u001b[0;34m\u001b[0m\u001b[0m\n\u001b[0m\u001b[1;32m   1192\u001b[0m \u001b[0;34m\u001b[0m\u001b[0m\n\u001b[1;32m   1193\u001b[0m     \u001b[0;32mdef\u001b[0m \u001b[0m_failover_to_python\u001b[0m\u001b[0;34m(\u001b[0m\u001b[0mself\u001b[0m\u001b[0;34m)\u001b[0m\u001b[0;34m:\u001b[0m\u001b[0;34m\u001b[0m\u001b[0;34m\u001b[0m\u001b[0m\n",
      "\u001b[0;32m~/anaconda3/lib/python3.8/site-packages/pandas/io/parsers.py\u001b[0m in \u001b[0;36m__init__\u001b[0;34m(self, f, **kwds)\u001b[0m\n\u001b[1;32m   2382\u001b[0m         \u001b[0mself\u001b[0m\u001b[0;34m.\u001b[0m\u001b[0m_comment_lines\u001b[0m \u001b[0;34m=\u001b[0m \u001b[0;34m[\u001b[0m\u001b[0;34m]\u001b[0m\u001b[0;34m\u001b[0m\u001b[0;34m\u001b[0m\u001b[0m\n\u001b[1;32m   2383\u001b[0m \u001b[0;34m\u001b[0m\u001b[0m\n\u001b[0;32m-> 2384\u001b[0;31m         f, handles = get_handle(\n\u001b[0m\u001b[1;32m   2385\u001b[0m             \u001b[0mf\u001b[0m\u001b[0;34m,\u001b[0m\u001b[0;34m\u001b[0m\u001b[0;34m\u001b[0m\u001b[0m\n\u001b[1;32m   2386\u001b[0m             \u001b[0;34m\"r\"\u001b[0m\u001b[0;34m,\u001b[0m\u001b[0;34m\u001b[0m\u001b[0;34m\u001b[0m\u001b[0m\n",
      "\u001b[0;32m~/anaconda3/lib/python3.8/site-packages/pandas/io/common.py\u001b[0m in \u001b[0;36mget_handle\u001b[0;34m(path_or_buf, mode, encoding, compression, memory_map, is_text, errors)\u001b[0m\n\u001b[1;32m    494\u001b[0m         \u001b[0;32melif\u001b[0m \u001b[0mis_text\u001b[0m\u001b[0;34m:\u001b[0m\u001b[0;34m\u001b[0m\u001b[0;34m\u001b[0m\u001b[0m\n\u001b[1;32m    495\u001b[0m             \u001b[0;31m# No explicit encoding\u001b[0m\u001b[0;34m\u001b[0m\u001b[0;34m\u001b[0m\u001b[0;34m\u001b[0m\u001b[0m\n\u001b[0;32m--> 496\u001b[0;31m             \u001b[0mf\u001b[0m \u001b[0;34m=\u001b[0m \u001b[0mopen\u001b[0m\u001b[0;34m(\u001b[0m\u001b[0mpath_or_buf\u001b[0m\u001b[0;34m,\u001b[0m \u001b[0mmode\u001b[0m\u001b[0;34m,\u001b[0m \u001b[0merrors\u001b[0m\u001b[0;34m=\u001b[0m\u001b[0;34m\"replace\"\u001b[0m\u001b[0;34m,\u001b[0m \u001b[0mnewline\u001b[0m\u001b[0;34m=\u001b[0m\u001b[0;34m\"\"\u001b[0m\u001b[0;34m)\u001b[0m\u001b[0;34m\u001b[0m\u001b[0;34m\u001b[0m\u001b[0m\n\u001b[0m\u001b[1;32m    497\u001b[0m         \u001b[0;32melse\u001b[0m\u001b[0;34m:\u001b[0m\u001b[0;34m\u001b[0m\u001b[0;34m\u001b[0m\u001b[0m\n\u001b[1;32m    498\u001b[0m             \u001b[0;31m# Binary mode\u001b[0m\u001b[0;34m\u001b[0m\u001b[0;34m\u001b[0m\u001b[0;34m\u001b[0m\u001b[0m\n",
      "\u001b[0;31mFileNotFoundError\u001b[0m: [Errno 2] No such file or directory: 'C:/Users/Administrateur/Downloads/comptage-velo-donnees-compteurs.csv'"
     ]
    }
   ],
   "source": [
    "import pandas as pd\n",
    "\n",
    "compteur= pd.read_csv(\"C:/Users/Administrateur/Downloads/comptage-velo-donnees-compteurs.csv\",engine='python',error_bad_lines=False,delimiter=\";\")"
   ]
  },
  {
   "cell_type": "code",
   "execution_count": 131,
   "metadata": {},
   "outputs": [
    {
     "data": {
      "text/html": [
       "<div>\n",
       "<style scoped>\n",
       "    .dataframe tbody tr th:only-of-type {\n",
       "        vertical-align: middle;\n",
       "    }\n",
       "\n",
       "    .dataframe tbody tr th {\n",
       "        vertical-align: top;\n",
       "    }\n",
       "\n",
       "    .dataframe thead th {\n",
       "        text-align: right;\n",
       "    }\n",
       "</style>\n",
       "<table border=\"1\" class=\"dataframe\">\n",
       "  <thead>\n",
       "    <tr style=\"text-align: right;\">\n",
       "      <th></th>\n",
       "      <th>Identifiant du compteur</th>\n",
       "      <th>Nom du compteur</th>\n",
       "      <th>Identifiant du site de comptage</th>\n",
       "      <th>Nom du site de comptage</th>\n",
       "      <th>Comptage horaire</th>\n",
       "      <th>Date et heure de comptage</th>\n",
       "      <th>Date d'installation du site de comptage</th>\n",
       "      <th>Lien vers photo du site de comptage</th>\n",
       "      <th>CoordonnÃ©es gÃ©ographiques</th>\n",
       "    </tr>\n",
       "  </thead>\n",
       "  <tbody>\n",
       "    <tr>\n",
       "      <th>870354</th>\n",
       "      <td>100063173-SC</td>\n",
       "      <td>74 Boulevard Ornano S-N</td>\n",
       "      <td>100063173.0</td>\n",
       "      <td>74 Boulevard Ornano S-N</td>\n",
       "      <td>99.0</td>\n",
       "      <td>2020-11-18T07:00:00+01:00</td>\n",
       "      <td>2020-07-22</td>\n",
       "      <td>https://www.eco-visio.net/Photos/100063173/159...</td>\n",
       "      <td>48.896825,2.345648</td>\n",
       "    </tr>\n",
       "    <tr>\n",
       "      <th>870355</th>\n",
       "      <td>100063173-SC</td>\n",
       "      <td>74 Boulevard Ornano S-N</td>\n",
       "      <td>100063173.0</td>\n",
       "      <td>74 Boulevard Ornano S-N</td>\n",
       "      <td>84.0</td>\n",
       "      <td>2020-11-18T10:00:00+01:00</td>\n",
       "      <td>2020-07-22</td>\n",
       "      <td>https://www.eco-visio.net/Photos/100063173/159...</td>\n",
       "      <td>48.896825,2.345648</td>\n",
       "    </tr>\n",
       "    <tr>\n",
       "      <th>870356</th>\n",
       "      <td>100063173-SC</td>\n",
       "      <td>74 Boulevard Ornano S-N</td>\n",
       "      <td>100063173.0</td>\n",
       "      <td>74 Boulevard Ornano S-N</td>\n",
       "      <td>103.0</td>\n",
       "      <td>2020-11-18T15:00:00+01:00</td>\n",
       "      <td>2020-07-22</td>\n",
       "      <td>https://www.eco-visio.net/Photos/100063173/159...</td>\n",
       "      <td>48.896825,2.345648</td>\n",
       "    </tr>\n",
       "    <tr>\n",
       "      <th>870357</th>\n",
       "      <td>100063173-SC</td>\n",
       "      <td>74 Boulevard Ornano S-N</td>\n",
       "      <td>100063173.0</td>\n",
       "      <td>74 Boulevard Ornano S-N</td>\n",
       "      <td>71.0</td>\n",
       "      <td>2020-11-18T16:00:00+01:00</td>\n",
       "      <td>2020-07-22</td>\n",
       "      <td>https://www.eco-visio.net/Photos/100063173/159...</td>\n",
       "      <td>48.896825,2.345648</td>\n",
       "    </tr>\n",
       "    <tr>\n",
       "      <th>870358</th>\n",
       "      <td>100063173-SC</td>\n",
       "      <td>74 Boulevard Ornano S-N</td>\n",
       "      <td>100063173.0</td>\n",
       "      <td>74 Boulevard Ornano S-N</td>\n",
       "      <td>42.0</td>\n",
       "      <td>2020-11-18T22:00:00+01:00</td>\n",
       "      <td>2020-07-22</td>\n",
       "      <td>https://www.eco-visio.net/Photos/100063173/159...</td>\n",
       "      <td>48.896825,2.345648</td>\n",
       "    </tr>\n",
       "  </tbody>\n",
       "</table>\n",
       "</div>"
      ],
      "text/plain": [
       "       Identifiant du compteur          Nom du compteur  \\\n",
       "870354            100063173-SC  74 Boulevard Ornano S-N   \n",
       "870355            100063173-SC  74 Boulevard Ornano S-N   \n",
       "870356            100063173-SC  74 Boulevard Ornano S-N   \n",
       "870357            100063173-SC  74 Boulevard Ornano S-N   \n",
       "870358            100063173-SC  74 Boulevard Ornano S-N   \n",
       "\n",
       "        Identifiant du site de comptage  Nom du site de comptage  \\\n",
       "870354                      100063173.0  74 Boulevard Ornano S-N   \n",
       "870355                      100063173.0  74 Boulevard Ornano S-N   \n",
       "870356                      100063173.0  74 Boulevard Ornano S-N   \n",
       "870357                      100063173.0  74 Boulevard Ornano S-N   \n",
       "870358                      100063173.0  74 Boulevard Ornano S-N   \n",
       "\n",
       "        Comptage horaire  Date et heure de comptage  \\\n",
       "870354              99.0  2020-11-18T07:00:00+01:00   \n",
       "870355              84.0  2020-11-18T10:00:00+01:00   \n",
       "870356             103.0  2020-11-18T15:00:00+01:00   \n",
       "870357              71.0  2020-11-18T16:00:00+01:00   \n",
       "870358              42.0  2020-11-18T22:00:00+01:00   \n",
       "\n",
       "       Date d'installation du site de comptage  \\\n",
       "870354                              2020-07-22   \n",
       "870355                              2020-07-22   \n",
       "870356                              2020-07-22   \n",
       "870357                              2020-07-22   \n",
       "870358                              2020-07-22   \n",
       "\n",
       "                      Lien vers photo du site de comptage  \\\n",
       "870354  https://www.eco-visio.net/Photos/100063173/159...   \n",
       "870355  https://www.eco-visio.net/Photos/100063173/159...   \n",
       "870356  https://www.eco-visio.net/Photos/100063173/159...   \n",
       "870357  https://www.eco-visio.net/Photos/100063173/159...   \n",
       "870358  https://www.eco-visio.net/Photos/100063173/159...   \n",
       "\n",
       "       CoordonnÃ©es gÃ©ographiques  \n",
       "870354          48.896825,2.345648  \n",
       "870355          48.896825,2.345648  \n",
       "870356          48.896825,2.345648  \n",
       "870357          48.896825,2.345648  \n",
       "870358          48.896825,2.345648  "
      ]
     },
     "execution_count": 131,
     "metadata": {},
     "output_type": "execute_result"
    }
   ],
   "source": [
    "compteur.tail()"
   ]
  },
  {
   "cell_type": "code",
   "execution_count": 132,
   "metadata": {},
   "outputs": [
    {
     "data": {
      "text/plain": [
       "(870359, 9)"
      ]
     },
     "execution_count": 132,
     "metadata": {},
     "output_type": "execute_result"
    }
   ],
   "source": [
    "compteur.shape"
   ]
  },
  {
   "cell_type": "markdown",
   "metadata": {},
   "source": [
    "### select right columns"
   ]
  },
  {
   "cell_type": "code",
   "execution_count": 133,
   "metadata": {},
   "outputs": [],
   "source": [
    "compteur=compteur[[\"Nom du compteur\",\"Comptage horaire\",\"Date et heure de comptage\",\"CoordonnÃ©es gÃ©ographiques\"]]"
   ]
  },
  {
   "cell_type": "code",
   "execution_count": 134,
   "metadata": {},
   "outputs": [
    {
     "data": {
      "text/html": [
       "<div>\n",
       "<style scoped>\n",
       "    .dataframe tbody tr th:only-of-type {\n",
       "        vertical-align: middle;\n",
       "    }\n",
       "\n",
       "    .dataframe tbody tr th {\n",
       "        vertical-align: top;\n",
       "    }\n",
       "\n",
       "    .dataframe thead th {\n",
       "        text-align: right;\n",
       "    }\n",
       "</style>\n",
       "<table border=\"1\" class=\"dataframe\">\n",
       "  <thead>\n",
       "    <tr style=\"text-align: right;\">\n",
       "      <th></th>\n",
       "      <th>Nom du compteur</th>\n",
       "      <th>Comptage horaire</th>\n",
       "      <th>Date et heure de comptage</th>\n",
       "      <th>CoordonnÃ©es gÃ©ographiques</th>\n",
       "    </tr>\n",
       "  </thead>\n",
       "  <tbody>\n",
       "    <tr>\n",
       "      <th>870354</th>\n",
       "      <td>74 Boulevard Ornano S-N</td>\n",
       "      <td>99.0</td>\n",
       "      <td>2020-11-18T07:00:00+01:00</td>\n",
       "      <td>48.896825,2.345648</td>\n",
       "    </tr>\n",
       "    <tr>\n",
       "      <th>870355</th>\n",
       "      <td>74 Boulevard Ornano S-N</td>\n",
       "      <td>84.0</td>\n",
       "      <td>2020-11-18T10:00:00+01:00</td>\n",
       "      <td>48.896825,2.345648</td>\n",
       "    </tr>\n",
       "    <tr>\n",
       "      <th>870356</th>\n",
       "      <td>74 Boulevard Ornano S-N</td>\n",
       "      <td>103.0</td>\n",
       "      <td>2020-11-18T15:00:00+01:00</td>\n",
       "      <td>48.896825,2.345648</td>\n",
       "    </tr>\n",
       "    <tr>\n",
       "      <th>870357</th>\n",
       "      <td>74 Boulevard Ornano S-N</td>\n",
       "      <td>71.0</td>\n",
       "      <td>2020-11-18T16:00:00+01:00</td>\n",
       "      <td>48.896825,2.345648</td>\n",
       "    </tr>\n",
       "    <tr>\n",
       "      <th>870358</th>\n",
       "      <td>74 Boulevard Ornano S-N</td>\n",
       "      <td>42.0</td>\n",
       "      <td>2020-11-18T22:00:00+01:00</td>\n",
       "      <td>48.896825,2.345648</td>\n",
       "    </tr>\n",
       "  </tbody>\n",
       "</table>\n",
       "</div>"
      ],
      "text/plain": [
       "                Nom du compteur  Comptage horaire  Date et heure de comptage  \\\n",
       "870354  74 Boulevard Ornano S-N              99.0  2020-11-18T07:00:00+01:00   \n",
       "870355  74 Boulevard Ornano S-N              84.0  2020-11-18T10:00:00+01:00   \n",
       "870356  74 Boulevard Ornano S-N             103.0  2020-11-18T15:00:00+01:00   \n",
       "870357  74 Boulevard Ornano S-N              71.0  2020-11-18T16:00:00+01:00   \n",
       "870358  74 Boulevard Ornano S-N              42.0  2020-11-18T22:00:00+01:00   \n",
       "\n",
       "       CoordonnÃ©es gÃ©ographiques  \n",
       "870354          48.896825,2.345648  \n",
       "870355          48.896825,2.345648  \n",
       "870356          48.896825,2.345648  \n",
       "870357          48.896825,2.345648  \n",
       "870358          48.896825,2.345648  "
      ]
     },
     "execution_count": 134,
     "metadata": {},
     "output_type": "execute_result"
    }
   ],
   "source": [
    "compteur.tail()"
   ]
  },
  {
   "cell_type": "markdown",
   "metadata": {},
   "source": [
    "### check if 2 columns are equals "
   ]
  },
  {
   "cell_type": "code",
   "execution_count": 109,
   "metadata": {},
   "outputs": [
    {
     "data": {
      "text/plain": [
       "(870359, 4)"
      ]
     },
     "execution_count": 109,
     "metadata": {},
     "output_type": "execute_result"
    }
   ],
   "source": [
    "compteur.shape"
   ]
  },
  {
   "cell_type": "markdown",
   "metadata": {},
   "source": [
    "###  drop null value from value"
   ]
  },
  {
   "cell_type": "code",
   "execution_count": 137,
   "metadata": {},
   "outputs": [
    {
     "data": {
      "text/plain": [
       "Nom du compteur                    0\n",
       "Comptage horaire                   0\n",
       "Date et heure de comptage          0\n",
       "CoordonnÃ©es gÃ©ographiques    37039\n",
       "dtype: int64"
      ]
     },
     "execution_count": 137,
     "metadata": {},
     "output_type": "execute_result"
    }
   ],
   "source": [
    "#print(compteur[compteur.isnull()])\n",
    "compteur=compteur.dropna(subset=[\"Comptage horaire\"])\n",
    "compteur.isnull().sum()\n"
   ]
  },
  {
   "cell_type": "code",
   "execution_count": 111,
   "metadata": {},
   "outputs": [
    {
     "data": {
      "text/plain": [
       "(870359, 4)"
      ]
     },
     "execution_count": 111,
     "metadata": {},
     "output_type": "execute_result"
    }
   ],
   "source": [
    "compteur.shape"
   ]
  },
  {
   "cell_type": "markdown",
   "metadata": {},
   "source": [
    "### rename columns"
   ]
  },
  {
   "cell_type": "code",
   "execution_count": 138,
   "metadata": {},
   "outputs": [],
   "source": [
    "compteur.columns=['address','traffic',\"date\",\"gps\"]"
   ]
  },
  {
   "cell_type": "code",
   "execution_count": 139,
   "metadata": {},
   "outputs": [
    {
     "data": {
      "text/html": [
       "<div>\n",
       "<style scoped>\n",
       "    .dataframe tbody tr th:only-of-type {\n",
       "        vertical-align: middle;\n",
       "    }\n",
       "\n",
       "    .dataframe tbody tr th {\n",
       "        vertical-align: top;\n",
       "    }\n",
       "\n",
       "    .dataframe thead th {\n",
       "        text-align: right;\n",
       "    }\n",
       "</style>\n",
       "<table border=\"1\" class=\"dataframe\">\n",
       "  <thead>\n",
       "    <tr style=\"text-align: right;\">\n",
       "      <th></th>\n",
       "      <th>address</th>\n",
       "      <th>traffic</th>\n",
       "      <th>date</th>\n",
       "      <th>gps</th>\n",
       "    </tr>\n",
       "  </thead>\n",
       "  <tbody>\n",
       "    <tr>\n",
       "      <th>870354</th>\n",
       "      <td>74 Boulevard Ornano S-N</td>\n",
       "      <td>99.0</td>\n",
       "      <td>2020-11-18T07:00:00+01:00</td>\n",
       "      <td>48.896825,2.345648</td>\n",
       "    </tr>\n",
       "    <tr>\n",
       "      <th>870355</th>\n",
       "      <td>74 Boulevard Ornano S-N</td>\n",
       "      <td>84.0</td>\n",
       "      <td>2020-11-18T10:00:00+01:00</td>\n",
       "      <td>48.896825,2.345648</td>\n",
       "    </tr>\n",
       "    <tr>\n",
       "      <th>870356</th>\n",
       "      <td>74 Boulevard Ornano S-N</td>\n",
       "      <td>103.0</td>\n",
       "      <td>2020-11-18T15:00:00+01:00</td>\n",
       "      <td>48.896825,2.345648</td>\n",
       "    </tr>\n",
       "    <tr>\n",
       "      <th>870357</th>\n",
       "      <td>74 Boulevard Ornano S-N</td>\n",
       "      <td>71.0</td>\n",
       "      <td>2020-11-18T16:00:00+01:00</td>\n",
       "      <td>48.896825,2.345648</td>\n",
       "    </tr>\n",
       "    <tr>\n",
       "      <th>870358</th>\n",
       "      <td>74 Boulevard Ornano S-N</td>\n",
       "      <td>42.0</td>\n",
       "      <td>2020-11-18T22:00:00+01:00</td>\n",
       "      <td>48.896825,2.345648</td>\n",
       "    </tr>\n",
       "  </tbody>\n",
       "</table>\n",
       "</div>"
      ],
      "text/plain": [
       "                        address  traffic                       date  \\\n",
       "870354  74 Boulevard Ornano S-N     99.0  2020-11-18T07:00:00+01:00   \n",
       "870355  74 Boulevard Ornano S-N     84.0  2020-11-18T10:00:00+01:00   \n",
       "870356  74 Boulevard Ornano S-N    103.0  2020-11-18T15:00:00+01:00   \n",
       "870357  74 Boulevard Ornano S-N     71.0  2020-11-18T16:00:00+01:00   \n",
       "870358  74 Boulevard Ornano S-N     42.0  2020-11-18T22:00:00+01:00   \n",
       "\n",
       "                       gps  \n",
       "870354  48.896825,2.345648  \n",
       "870355  48.896825,2.345648  \n",
       "870356  48.896825,2.345648  \n",
       "870357  48.896825,2.345648  \n",
       "870358  48.896825,2.345648  "
      ]
     },
     "execution_count": 139,
     "metadata": {},
     "output_type": "execute_result"
    }
   ],
   "source": [
    "compteur.tail()"
   ]
  },
  {
   "cell_type": "markdown",
   "metadata": {},
   "source": [
    "### convert trafic type in int"
   ]
  },
  {
   "cell_type": "code",
   "execution_count": 140,
   "metadata": {},
   "outputs": [],
   "source": [
    "compteur[\"traffic\"]=compteur[\"traffic\"].apply(lambda x:int(x))"
   ]
  },
  {
   "cell_type": "code",
   "execution_count": 141,
   "metadata": {},
   "outputs": [
    {
     "data": {
      "text/html": [
       "<div>\n",
       "<style scoped>\n",
       "    .dataframe tbody tr th:only-of-type {\n",
       "        vertical-align: middle;\n",
       "    }\n",
       "\n",
       "    .dataframe tbody tr th {\n",
       "        vertical-align: top;\n",
       "    }\n",
       "\n",
       "    .dataframe thead th {\n",
       "        text-align: right;\n",
       "    }\n",
       "</style>\n",
       "<table border=\"1\" class=\"dataframe\">\n",
       "  <thead>\n",
       "    <tr style=\"text-align: right;\">\n",
       "      <th></th>\n",
       "      <th>address</th>\n",
       "      <th>traffic</th>\n",
       "      <th>date</th>\n",
       "      <th>gps</th>\n",
       "    </tr>\n",
       "  </thead>\n",
       "  <tbody>\n",
       "    <tr>\n",
       "      <th>870354</th>\n",
       "      <td>74 Boulevard Ornano S-N</td>\n",
       "      <td>99</td>\n",
       "      <td>2020-11-18T07:00:00+01:00</td>\n",
       "      <td>48.896825,2.345648</td>\n",
       "    </tr>\n",
       "    <tr>\n",
       "      <th>870355</th>\n",
       "      <td>74 Boulevard Ornano S-N</td>\n",
       "      <td>84</td>\n",
       "      <td>2020-11-18T10:00:00+01:00</td>\n",
       "      <td>48.896825,2.345648</td>\n",
       "    </tr>\n",
       "    <tr>\n",
       "      <th>870356</th>\n",
       "      <td>74 Boulevard Ornano S-N</td>\n",
       "      <td>103</td>\n",
       "      <td>2020-11-18T15:00:00+01:00</td>\n",
       "      <td>48.896825,2.345648</td>\n",
       "    </tr>\n",
       "    <tr>\n",
       "      <th>870357</th>\n",
       "      <td>74 Boulevard Ornano S-N</td>\n",
       "      <td>71</td>\n",
       "      <td>2020-11-18T16:00:00+01:00</td>\n",
       "      <td>48.896825,2.345648</td>\n",
       "    </tr>\n",
       "    <tr>\n",
       "      <th>870358</th>\n",
       "      <td>74 Boulevard Ornano S-N</td>\n",
       "      <td>42</td>\n",
       "      <td>2020-11-18T22:00:00+01:00</td>\n",
       "      <td>48.896825,2.345648</td>\n",
       "    </tr>\n",
       "  </tbody>\n",
       "</table>\n",
       "</div>"
      ],
      "text/plain": [
       "                        address  traffic                       date  \\\n",
       "870354  74 Boulevard Ornano S-N       99  2020-11-18T07:00:00+01:00   \n",
       "870355  74 Boulevard Ornano S-N       84  2020-11-18T10:00:00+01:00   \n",
       "870356  74 Boulevard Ornano S-N      103  2020-11-18T15:00:00+01:00   \n",
       "870357  74 Boulevard Ornano S-N       71  2020-11-18T16:00:00+01:00   \n",
       "870358  74 Boulevard Ornano S-N       42  2020-11-18T22:00:00+01:00   \n",
       "\n",
       "                       gps  \n",
       "870354  48.896825,2.345648  \n",
       "870355  48.896825,2.345648  \n",
       "870356  48.896825,2.345648  \n",
       "870357  48.896825,2.345648  \n",
       "870358  48.896825,2.345648  "
      ]
     },
     "execution_count": 141,
     "metadata": {},
     "output_type": "execute_result"
    }
   ],
   "source": [
    "compteur.tail()"
   ]
  },
  {
   "cell_type": "markdown",
   "metadata": {},
   "source": [
    "### convert type columns gps to str for apply extraction"
   ]
  },
  {
   "cell_type": "code",
   "execution_count": 144,
   "metadata": {},
   "outputs": [],
   "source": [
    "compteur[\"gps\"]=compteur[\"gps\"].apply(lambda x:str(x))"
   ]
  },
  {
   "cell_type": "code",
   "execution_count": 142,
   "metadata": {},
   "outputs": [
    {
     "data": {
      "text/plain": [
       "48.83436,2.377        19913\n",
       "48.840801,2.333233    19913\n",
       "48.846028,2.375429    19913\n",
       "48.82636,2.30303      19912\n",
       "48.891415,2.384954    19912\n",
       "                      ...  \n",
       "48.851525,2.343298     4389\n",
       "48.89696,2.34538       2877\n",
       "48.896825,2.345648     2877\n",
       "48.84638,2.31529       2642\n",
       "48.87746,2.35008        146\n",
       "Name: gps, Length: 69, dtype: int64"
      ]
     },
     "execution_count": 142,
     "metadata": {},
     "output_type": "execute_result"
    }
   ],
   "source": [
    "compteur[\"gps\"].value_counts()"
   ]
  },
  {
   "cell_type": "markdown",
   "metadata": {},
   "source": [
    "### extract x,y from GPS "
   ]
  },
  {
   "cell_type": "code",
   "execution_count": 159,
   "metadata": {},
   "outputs": [],
   "source": [
    "\n",
    "compteur=compteur.dropna(subset=[\"gps\"])\n"
   ]
  },
  {
   "cell_type": "code",
   "execution_count": 177,
   "metadata": {},
   "outputs": [],
   "source": [
    "compteur[\"gps_x\"]=compteur[\"gps\"].apply(lambda x:x.split(\",\")[0])\n",
    "compteur[\"gps_y\"]=compteur[\"gps\"].apply(lambda x:x.split(\",\")[-1])"
   ]
  },
  {
   "cell_type": "code",
   "execution_count": 178,
   "metadata": {},
   "outputs": [
    {
     "data": {
      "text/html": [
       "<div>\n",
       "<style scoped>\n",
       "    .dataframe tbody tr th:only-of-type {\n",
       "        vertical-align: middle;\n",
       "    }\n",
       "\n",
       "    .dataframe tbody tr th {\n",
       "        vertical-align: top;\n",
       "    }\n",
       "\n",
       "    .dataframe thead th {\n",
       "        text-align: right;\n",
       "    }\n",
       "</style>\n",
       "<table border=\"1\" class=\"dataframe\">\n",
       "  <thead>\n",
       "    <tr style=\"text-align: right;\">\n",
       "      <th></th>\n",
       "      <th>address</th>\n",
       "      <th>traffic</th>\n",
       "      <th>date</th>\n",
       "      <th>gps</th>\n",
       "      <th>gps_x</th>\n",
       "      <th>gps_y</th>\n",
       "    </tr>\n",
       "  </thead>\n",
       "  <tbody>\n",
       "    <tr>\n",
       "      <th>870354</th>\n",
       "      <td>74 Boulevard Ornano S-N</td>\n",
       "      <td>99</td>\n",
       "      <td>2020-11-18T07:00:00+01:00</td>\n",
       "      <td>48.896825,2.345648</td>\n",
       "      <td>48.896825</td>\n",
       "      <td>2.345648</td>\n",
       "    </tr>\n",
       "    <tr>\n",
       "      <th>870355</th>\n",
       "      <td>74 Boulevard Ornano S-N</td>\n",
       "      <td>84</td>\n",
       "      <td>2020-11-18T10:00:00+01:00</td>\n",
       "      <td>48.896825,2.345648</td>\n",
       "      <td>48.896825</td>\n",
       "      <td>2.345648</td>\n",
       "    </tr>\n",
       "    <tr>\n",
       "      <th>870356</th>\n",
       "      <td>74 Boulevard Ornano S-N</td>\n",
       "      <td>103</td>\n",
       "      <td>2020-11-18T15:00:00+01:00</td>\n",
       "      <td>48.896825,2.345648</td>\n",
       "      <td>48.896825</td>\n",
       "      <td>2.345648</td>\n",
       "    </tr>\n",
       "    <tr>\n",
       "      <th>870357</th>\n",
       "      <td>74 Boulevard Ornano S-N</td>\n",
       "      <td>71</td>\n",
       "      <td>2020-11-18T16:00:00+01:00</td>\n",
       "      <td>48.896825,2.345648</td>\n",
       "      <td>48.896825</td>\n",
       "      <td>2.345648</td>\n",
       "    </tr>\n",
       "    <tr>\n",
       "      <th>870358</th>\n",
       "      <td>74 Boulevard Ornano S-N</td>\n",
       "      <td>42</td>\n",
       "      <td>2020-11-18T22:00:00+01:00</td>\n",
       "      <td>48.896825,2.345648</td>\n",
       "      <td>48.896825</td>\n",
       "      <td>2.345648</td>\n",
       "    </tr>\n",
       "  </tbody>\n",
       "</table>\n",
       "</div>"
      ],
      "text/plain": [
       "                        address  traffic                       date  \\\n",
       "870354  74 Boulevard Ornano S-N       99  2020-11-18T07:00:00+01:00   \n",
       "870355  74 Boulevard Ornano S-N       84  2020-11-18T10:00:00+01:00   \n",
       "870356  74 Boulevard Ornano S-N      103  2020-11-18T15:00:00+01:00   \n",
       "870357  74 Boulevard Ornano S-N       71  2020-11-18T16:00:00+01:00   \n",
       "870358  74 Boulevard Ornano S-N       42  2020-11-18T22:00:00+01:00   \n",
       "\n",
       "                       gps      gps_x     gps_y  \n",
       "870354  48.896825,2.345648  48.896825  2.345648  \n",
       "870355  48.896825,2.345648  48.896825  2.345648  \n",
       "870356  48.896825,2.345648  48.896825  2.345648  \n",
       "870357  48.896825,2.345648  48.896825  2.345648  \n",
       "870358  48.896825,2.345648  48.896825  2.345648  "
      ]
     },
     "execution_count": 178,
     "metadata": {},
     "output_type": "execute_result"
    }
   ],
   "source": [
    "compteur.tail()"
   ]
  },
  {
   "cell_type": "markdown",
   "metadata": {},
   "source": [
    "### Extract date & hour"
   ]
  },
  {
   "cell_type": "code",
   "execution_count": 179,
   "metadata": {},
   "outputs": [],
   "source": [
    "compteur[\"hour\"]=compteur[\"date\"].apply(lambda x:x.split(\"T\")[1])"
   ]
  },
  {
   "cell_type": "code",
   "execution_count": 180,
   "metadata": {},
   "outputs": [],
   "source": [
    "compteur[\"date\"]=compteur[\"date\"].apply(lambda x:x.split(\"T\")[0])"
   ]
  },
  {
   "cell_type": "code",
   "execution_count": 182,
   "metadata": {},
   "outputs": [],
   "source": [
    "compteur[\"hour\"]=compteur[\"hour\"].apply(lambda x:x.split(\"+\")[0])"
   ]
  },
  {
   "cell_type": "code",
   "execution_count": 183,
   "metadata": {},
   "outputs": [],
   "source": [
    "compteur['date']=pd.to_datetime(compteur['date'].astype(str), format='%Y/%m/%d')"
   ]
  },
  {
   "cell_type": "markdown",
   "metadata": {},
   "source": [
    "### exemple final dataset traffic"
   ]
  },
  {
   "cell_type": "code",
   "execution_count": 184,
   "metadata": {},
   "outputs": [
    {
     "data": {
      "text/html": [
       "<div>\n",
       "<style scoped>\n",
       "    .dataframe tbody tr th:only-of-type {\n",
       "        vertical-align: middle;\n",
       "    }\n",
       "\n",
       "    .dataframe tbody tr th {\n",
       "        vertical-align: top;\n",
       "    }\n",
       "\n",
       "    .dataframe thead th {\n",
       "        text-align: right;\n",
       "    }\n",
       "</style>\n",
       "<table border=\"1\" class=\"dataframe\">\n",
       "  <thead>\n",
       "    <tr style=\"text-align: right;\">\n",
       "      <th></th>\n",
       "      <th>address</th>\n",
       "      <th>traffic</th>\n",
       "      <th>date</th>\n",
       "      <th>gps</th>\n",
       "      <th>gps_x</th>\n",
       "      <th>gps_y</th>\n",
       "      <th>hour</th>\n",
       "    </tr>\n",
       "  </thead>\n",
       "  <tbody>\n",
       "    <tr>\n",
       "      <th>870354</th>\n",
       "      <td>74 Boulevard Ornano S-N</td>\n",
       "      <td>99</td>\n",
       "      <td>2020-11-18</td>\n",
       "      <td>48.896825,2.345648</td>\n",
       "      <td>48.896825</td>\n",
       "      <td>2.345648</td>\n",
       "      <td>07:00:00</td>\n",
       "    </tr>\n",
       "    <tr>\n",
       "      <th>870355</th>\n",
       "      <td>74 Boulevard Ornano S-N</td>\n",
       "      <td>84</td>\n",
       "      <td>2020-11-18</td>\n",
       "      <td>48.896825,2.345648</td>\n",
       "      <td>48.896825</td>\n",
       "      <td>2.345648</td>\n",
       "      <td>10:00:00</td>\n",
       "    </tr>\n",
       "    <tr>\n",
       "      <th>870356</th>\n",
       "      <td>74 Boulevard Ornano S-N</td>\n",
       "      <td>103</td>\n",
       "      <td>2020-11-18</td>\n",
       "      <td>48.896825,2.345648</td>\n",
       "      <td>48.896825</td>\n",
       "      <td>2.345648</td>\n",
       "      <td>15:00:00</td>\n",
       "    </tr>\n",
       "    <tr>\n",
       "      <th>870357</th>\n",
       "      <td>74 Boulevard Ornano S-N</td>\n",
       "      <td>71</td>\n",
       "      <td>2020-11-18</td>\n",
       "      <td>48.896825,2.345648</td>\n",
       "      <td>48.896825</td>\n",
       "      <td>2.345648</td>\n",
       "      <td>16:00:00</td>\n",
       "    </tr>\n",
       "    <tr>\n",
       "      <th>870358</th>\n",
       "      <td>74 Boulevard Ornano S-N</td>\n",
       "      <td>42</td>\n",
       "      <td>2020-11-18</td>\n",
       "      <td>48.896825,2.345648</td>\n",
       "      <td>48.896825</td>\n",
       "      <td>2.345648</td>\n",
       "      <td>22:00:00</td>\n",
       "    </tr>\n",
       "  </tbody>\n",
       "</table>\n",
       "</div>"
      ],
      "text/plain": [
       "                        address  traffic       date                 gps  \\\n",
       "870354  74 Boulevard Ornano S-N       99 2020-11-18  48.896825,2.345648   \n",
       "870355  74 Boulevard Ornano S-N       84 2020-11-18  48.896825,2.345648   \n",
       "870356  74 Boulevard Ornano S-N      103 2020-11-18  48.896825,2.345648   \n",
       "870357  74 Boulevard Ornano S-N       71 2020-11-18  48.896825,2.345648   \n",
       "870358  74 Boulevard Ornano S-N       42 2020-11-18  48.896825,2.345648   \n",
       "\n",
       "            gps_x     gps_y      hour  \n",
       "870354  48.896825  2.345648  07:00:00  \n",
       "870355  48.896825  2.345648  10:00:00  \n",
       "870356  48.896825  2.345648  15:00:00  \n",
       "870357  48.896825  2.345648  16:00:00  \n",
       "870358  48.896825  2.345648  22:00:00  "
      ]
     },
     "execution_count": 184,
     "metadata": {},
     "output_type": "execute_result"
    }
   ],
   "source": [
    "compteur.tail()"
   ]
  },
  {
   "cell_type": "code",
   "execution_count": 185,
   "metadata": {},
   "outputs": [
    {
     "data": {
      "text/plain": [
       "Timestamp('2020-11-18 00:00:00')"
      ]
     },
     "execution_count": 185,
     "metadata": {},
     "output_type": "execute_result"
    }
   ],
   "source": [
    "compteur[\"date\"].max()"
   ]
  },
  {
   "cell_type": "code",
   "execution_count": 186,
   "metadata": {},
   "outputs": [
    {
     "data": {
      "text/plain": [
       "Timestamp('2019-10-01 00:00:00')"
      ]
     },
     "execution_count": 186,
     "metadata": {},
     "output_type": "execute_result"
    }
   ],
   "source": [
    "compteur[\"date\"].min()"
   ]
  },
  {
   "cell_type": "code",
   "execution_count": 187,
   "metadata": {},
   "outputs": [],
   "source": [
    "compteur.to_csv(\"C:/Users/Administrateur/Documents/bike_project/traffic.csv\", sep=\";\", encoding=\"utf-8\")"
   ]
  },
  {
   "cell_type": "code",
   "execution_count": null,
   "metadata": {},
   "outputs": [],
   "source": []
  }
 ],
 "metadata": {
  "kernelspec": {
   "display_name": "Python 3",
   "language": "python",
   "name": "python3"
  },
  "language_info": {
   "codemirror_mode": {
    "name": "ipython",
    "version": 3
   },
   "file_extension": ".py",
   "mimetype": "text/x-python",
   "name": "python",
   "nbconvert_exporter": "python",
   "pygments_lexer": "ipython3",
   "version": "3.8.3"
  }
 },
 "nbformat": 4,
 "nbformat_minor": 4
}
